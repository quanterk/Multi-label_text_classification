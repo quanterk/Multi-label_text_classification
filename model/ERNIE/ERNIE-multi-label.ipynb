{
 "cells": [
  {
   "cell_type": "markdown",
   "metadata": {
    "collapsed": false
   },
   "source": [
    "# PaddleHub实战——使用语义预训练模型ERNIE 进行多标签文本分类\n",
    "\n",
    "# 使用百度试题数据 95分类\n",
    "\n",
    "试题知识点标注\n",
    "\n",
    "## 注意\n",
    "\n",
    "本项目代码需要使用GPU环境来运行:\n",
    "\n",
    "本项目将演示，如何使用PaddleHub语义预训练模型ERNIE对自定义数据集完成文本分类。"
   ]
  },
  {
   "cell_type": "code",
   "execution_count": null,
   "metadata": {
    "collapsed": false
   },
   "outputs": [
    {
     "name": "stdout",
     "output_type": "stream",
     "text": [
      "Looking in indexes: https://pypi.tuna.tsinghua.edu.cn/simple\n",
      "Collecting paddlehub\n",
      "\u001b[?25l  Downloading https://pypi.tuna.tsinghua.edu.cn/packages/d9/53/a2c9897e547d59d1ecf0a8cebf24eceb1c60d03136a80c62a2626e9f4df7/paddlehub-1.5.3-py3-none-any.whl (198kB)\n",
      "\u001b[K     |████████████████████████████████| 204kB 8.7MB/s eta 0:00:01\n",
      "\u001b[?25hRequirement already satisfied, skipping upgrade: requests in /opt/conda/envs/python35-paddle120-env/lib/python3.7/site-packages (from paddlehub) (2.22.0)\n",
      "Requirement already satisfied, skipping upgrade: pyyaml in /opt/conda/envs/python35-paddle120-env/lib/python3.7/site-packages (from paddlehub) (5.1.2)\n",
      "Requirement already satisfied, skipping upgrade: opencv-python in /opt/conda/envs/python35-paddle120-env/lib/python3.7/site-packages (from paddlehub) (4.1.1.26)\n",
      "Requirement already satisfied, skipping upgrade: tb-paddle in /opt/conda/envs/python35-paddle120-env/lib/python3.7/site-packages (from paddlehub) (0.3.6)\n",
      "Collecting flake8 (from paddlehub)\n",
      "\u001b[?25l  Downloading https://pypi.tuna.tsinghua.edu.cn/packages/f8/1f/7ea40d1e4146ea55dbab41cda1376db092a75794914169aabd7e8d7a7def/flake8-3.7.9-py2.py3-none-any.whl (69kB)\n",
      "\u001b[K     |████████████████████████████████| 71kB 36.9MB/s eta 0:00:01\n",
      "\u001b[?25hCollecting pre-commit (from paddlehub)\n",
      "\u001b[?25l  Downloading https://pypi.tuna.tsinghua.edu.cn/packages/42/42/3f6698ff1bf3297eb5ba586635ce1a4b93f9012b1a181e09fd874790bcbb/pre_commit-2.1.1-py2.py3-none-any.whl (170kB)\n",
      "\u001b[K     |████████████████████████████████| 174kB 42.5MB/s eta 0:00:01\n",
      "\u001b[?25hCollecting gunicorn>=19.10.0; sys_platform != \"win32\" (from paddlehub)\n",
      "\u001b[?25l  Downloading https://pypi.tuna.tsinghua.edu.cn/packages/69/ca/926f7cd3a2014b16870086b2d0fdc84a9e49473c68a8dff8b57f7c156f43/gunicorn-20.0.4-py2.py3-none-any.whl (77kB)\n",
      "\u001b[K     |████████████████████████████████| 81kB 35.0MB/s eta 0:00:01\n",
      "\u001b[?25hRequirement already satisfied, skipping upgrade: protobuf>=3.6.0 in /opt/conda/envs/python35-paddle120-env/lib/python3.7/site-packages (from paddlehub) (3.10.0)\n",
      "Requirement already satisfied, skipping upgrade: cma==2.7.0 in /opt/conda/envs/python35-paddle120-env/lib/python3.7/site-packages (from paddlehub) (2.7.0)\n",
      "Requirement already satisfied, skipping upgrade: six>=1.10.0 in /opt/conda/envs/python35-paddle120-env/lib/python3.7/site-packages (from paddlehub) (1.12.0)\n",
      "Collecting yapf==0.26.0 (from paddlehub)\n",
      "\u001b[?25l  Downloading https://pypi.tuna.tsinghua.edu.cn/packages/f7/b6/266774a11dc81539dcf3b5117cd7a3c1c2b11a47853940b7f0803cf389b2/yapf-0.26.0-py2.py3-none-any.whl (176kB)\n",
      "\u001b[K     |████████████████████████████████| 184kB 44.3MB/s eta 0:00:01\n",
      "\u001b[?25hRequirement already satisfied, skipping upgrade: nltk in /opt/conda/envs/python35-paddle120-env/lib/python3.7/site-packages (from paddlehub) (3.4.5)\n",
      "Collecting tensorboard>=1.15 (from paddlehub)\n",
      "\u001b[?25l  Downloading https://pypi.tuna.tsinghua.edu.cn/packages/40/23/53ffe290341cd0855d595b0a2e7485932f473798af173bbe3a584b99bb06/tensorboard-2.1.0-py3-none-any.whl (3.8MB)\n",
      "\u001b[K     |████████████████████████████████| 3.8MB 48.6MB/s eta 0:00:01\n",
      "\u001b[?25hRequirement already satisfied, skipping upgrade: flask>=1.1.0 in /opt/conda/envs/python35-paddle120-env/lib/python3.7/site-packages (from paddlehub) (1.1.1)\n",
      "Requirement already satisfied, skipping upgrade: Pillow in /opt/conda/envs/python35-paddle120-env/lib/python3.7/site-packages (from paddlehub) (6.2.0)\n",
      "Collecting sentencepiece (from paddlehub)\n",
      "\u001b[?25l  Downloading https://pypi.tuna.tsinghua.edu.cn/packages/11/e0/1264990c559fb945cfb6664742001608e1ed8359eeec6722830ae085062b/sentencepiece-0.1.85-cp37-cp37m-manylinux1_x86_64.whl (1.0MB)\n",
      "\u001b[K     |████████████████████████████████| 1.0MB 43.5MB/s eta 0:00:01\n",
      "\u001b[?25hRequirement already satisfied, skipping upgrade: numpy; python_version >= \"3\" in /opt/conda/envs/python35-paddle120-env/lib/python3.7/site-packages (from paddlehub) (1.16.4)\n",
      "Requirement already satisfied, skipping upgrade: pandas; python_version >= \"3\" in /opt/conda/envs/python35-paddle120-env/lib/python3.7/site-packages (from paddlehub) (0.23.4)\n",
      "Collecting colorlog (from paddlehub)\n",
      "  Downloading https://pypi.tuna.tsinghua.edu.cn/packages/00/0d/22c73c2eccb21dd3498df7d22c0b1d4a30f5a5fb3feb64e1ce06bc247747/colorlog-4.1.0-py2.py3-none-any.whl\n",
      "Requirement already satisfied, skipping upgrade: chardet==3.0.4 in /opt/conda/envs/python35-paddle120-env/lib/python3.7/site-packages (from paddlehub) (3.0.4)\n",
      "Requirement already satisfied, skipping upgrade: idna<2.9,>=2.5 in /opt/conda/envs/python35-paddle120-env/lib/python3.7/site-packages (from requests->paddlehub) (2.8)\n",
      "Requirement already satisfied, skipping upgrade: certifi>=2017.4.17 in /opt/conda/envs/python35-paddle120-env/lib/python3.7/site-packages (from requests->paddlehub) (2019.9.11)\n",
      "Requirement already satisfied, skipping upgrade: urllib3!=1.25.0,!=1.25.1,<1.26,>=1.21.1 in /opt/conda/envs/python35-paddle120-env/lib/python3.7/site-packages (from requests->paddlehub) (1.25.6)\n",
      "Requirement already satisfied, skipping upgrade: moviepy in /opt/conda/envs/python35-paddle120-env/lib/python3.7/site-packages (from tb-paddle->paddlehub) (1.0.1)\n",
      "Requirement already satisfied, skipping upgrade: entrypoints<0.4.0,>=0.3.0 in /opt/conda/envs/python35-paddle120-env/lib/python3.7/site-packages (from flake8->paddlehub) (0.3)\n",
      "Collecting pycodestyle<2.6.0,>=2.5.0 (from flake8->paddlehub)\n",
      "\u001b[?25l  Downloading https://pypi.tuna.tsinghua.edu.cn/packages/0e/0c/04a353e104d2f324f8ee5f4b32012618c1c86dd79e52a433b64fceed511b/pycodestyle-2.5.0-py2.py3-none-any.whl (51kB)\n",
      "\u001b[K     |████████████████████████████████| 51kB 21.7MB/s eta 0:00:01\n",
      "\u001b[?25hCollecting mccabe<0.7.0,>=0.6.0 (from flake8->paddlehub)\n",
      "  Downloading https://pypi.tuna.tsinghua.edu.cn/packages/87/89/479dc97e18549e21354893e4ee4ef36db1d237534982482c3681ee6e7b57/mccabe-0.6.1-py2.py3-none-any.whl\n",
      "Collecting pyflakes<2.2.0,>=2.1.0 (from flake8->paddlehub)\n",
      "\u001b[?25l  Downloading https://pypi.tuna.tsinghua.edu.cn/packages/84/f2/ed0ffb887f8138a8fe5a621b8c0bb9598bfb3989e029f6c6a85ee66628ee/pyflakes-2.1.1-py2.py3-none-any.whl (59kB)\n",
      "\u001b[K     |████████████████████████████████| 61kB 26.2MB/s eta 0:00:01\n",
      "\u001b[?25hCollecting virtualenv>=15.2 (from pre-commit->paddlehub)\n",
      "\u001b[?25l  Downloading https://pypi.tuna.tsinghua.edu.cn/packages/c1/61/7506ddd79ef6f09beeefb81c4c55bf395a8ad96b33ff1c6b06e40f8aa101/virtualenv-20.0.7-py2.py3-none-any.whl (8.0MB)\n",
      "\u001b[K     |████████████████████████████████| 8.0MB 43.1MB/s eta 0:00:01\n",
      "\u001b[?25hCollecting nodeenv>=0.11.1 (from pre-commit->paddlehub)\n",
      "  Downloading https://pypi.tuna.tsinghua.edu.cn/packages/08/43/86ff33286c83f7b5e8903c32db01fe122c5e8a9d8dc1067dcaa9be54a033/nodeenv-1.3.5-py2.py3-none-any.whl\n",
      "Requirement already satisfied, skipping upgrade: importlib-metadata; python_version < \"3.8\" in /opt/conda/envs/python35-paddle120-env/lib/python3.7/site-packages (from pre-commit->paddlehub) (0.23)\n",
      "Collecting identify>=1.0.0 (from pre-commit->paddlehub)\n",
      "\u001b[?25l  Downloading https://pypi.tuna.tsinghua.edu.cn/packages/73/08/ebd9cd04a6741b2cdf9a634170070d16085a38c2041e11a9b634c1cef623/identify-1.4.11-py2.py3-none-any.whl (97kB)\n",
      "\u001b[K     |████████████████████████████████| 102kB 40.6MB/s ta 0:00:01\n",
      "\u001b[?25hCollecting toml (from pre-commit->paddlehub)\n",
      "  Downloading https://pypi.tuna.tsinghua.edu.cn/packages/a2/12/ced7105d2de62fa7c8fb5fce92cc4ce66b57c95fb875e9318dba7f8c5db0/toml-0.10.0-py2.py3-none-any.whl\n",
      "Collecting cfgv>=2.0.0 (from pre-commit->paddlehub)\n",
      "  Downloading https://pypi.tuna.tsinghua.edu.cn/packages/6d/82/49913e721128ff16d6b7cf304f513de7bba698583b045dfb9c4b3bb2f467/cfgv-3.1.0-py2.py3-none-any.whl\n",
      "Requirement already satisfied, skipping upgrade: setuptools>=3.0 in /opt/conda/envs/python35-paddle120-env/lib/python3.7/site-packages (from gunicorn>=19.10.0; sys_platform != \"win32\"->paddlehub) (41.4.0)\n",
      "Requirement already satisfied, skipping upgrade: werkzeug>=0.11.15 in /opt/conda/envs/python35-paddle120-env/lib/python3.7/site-packages (from tensorboard>=1.15->paddlehub) (0.16.0)\n",
      "Collecting google-auth<2,>=1.6.3 (from tensorboard>=1.15->paddlehub)\n",
      "\u001b[?25l  Downloading https://pypi.tuna.tsinghua.edu.cn/packages/5a/8d/e2ebbd0502627ed0d8a408162020e1c0792f088b49fddeedaaeebc206ed7/google_auth-1.11.2-py2.py3-none-any.whl (76kB)\n",
      "\u001b[K     |████████████████████████████████| 81kB 36.8MB/s eta 0:00:01\n",
      "\u001b[?25hRequirement already satisfied, skipping upgrade: markdown>=2.6.8 in /opt/conda/envs/python35-paddle120-env/lib/python3.7/site-packages (from tensorboard>=1.15->paddlehub) (3.1.1)\n",
      "Requirement already satisfied, skipping upgrade: wheel>=0.26; python_version >= \"3\" in /opt/conda/envs/python35-paddle120-env/lib/python3.7/site-packages (from tensorboard>=1.15->paddlehub) (0.33.6)\n",
      "Requirement already satisfied, skipping upgrade: absl-py>=0.4 in /opt/conda/envs/python35-paddle120-env/lib/python3.7/site-packages (from tensorboard>=1.15->paddlehub) (0.8.1)\n",
      "Collecting google-auth-oauthlib<0.5,>=0.4.1 (from tensorboard>=1.15->paddlehub)\n",
      "  Downloading https://pypi.tuna.tsinghua.edu.cn/packages/7b/b8/88def36e74bee9fce511c9519571f4e485e890093ab7442284f4ffaef60b/google_auth_oauthlib-0.4.1-py2.py3-none-any.whl\n",
      "Collecting grpcio>=1.24.3 (from tensorboard>=1.15->paddlehub)\n",
      "\u001b[?25l  Downloading https://pypi.tuna.tsinghua.edu.cn/packages/fb/00/997acb1c16f84e6d3ede511500f54e7b7a1fdfe7b4da5a5c2d07ad4e91f1/grpcio-1.27.2-cp37-cp37m-manylinux2010_x86_64.whl (2.7MB)\n",
      "\u001b[K     |████████████████████████████████| 2.7MB 43.8MB/s eta 0:00:01\n",
      "\u001b[?25hRequirement already satisfied, skipping upgrade: click>=5.1 in /opt/conda/envs/python35-paddle120-env/lib/python3.7/site-packages (from flask>=1.1.0->paddlehub) (7.0)\n",
      "Requirement already satisfied, skipping upgrade: Jinja2>=2.10.1 in /opt/conda/envs/python35-paddle120-env/lib/python3.7/site-packages (from flask>=1.1.0->paddlehub) (2.10.1)\n",
      "Requirement already satisfied, skipping upgrade: itsdangerous>=0.24 in /opt/conda/envs/python35-paddle120-env/lib/python3.7/site-packages (from flask>=1.1.0->paddlehub) (1.1.0)\n",
      "Requirement already satisfied, skipping upgrade: pytz>=2011k in /opt/conda/envs/python35-paddle120-env/lib/python3.7/site-packages (from pandas; python_version >= \"3\"->paddlehub) (2019.3)\n",
      "Requirement already satisfied, skipping upgrade: python-dateutil>=2.5.0 in /opt/conda/envs/python35-paddle120-env/lib/python3.7/site-packages (from pandas; python_version >= \"3\"->paddlehub) (2.8.0)\n",
      "Requirement already satisfied, skipping upgrade: imageio-ffmpeg>=0.2.0; python_version >= \"3.4\" in /opt/conda/envs/python35-paddle120-env/lib/python3.7/site-packages (from moviepy->tb-paddle->paddlehub) (0.3.0)\n",
      "Requirement already satisfied, skipping upgrade: imageio<3.0,>=2.5; python_version >= \"3.4\" in /opt/conda/envs/python35-paddle120-env/lib/python3.7/site-packages (from moviepy->tb-paddle->paddlehub) (2.6.1)\n",
      "Requirement already satisfied, skipping upgrade: decorator<5.0,>=4.0.2 in /opt/conda/envs/python35-paddle120-env/lib/python3.7/site-packages (from moviepy->tb-paddle->paddlehub) (4.4.0)\n",
      "Requirement already satisfied, skipping upgrade: proglog<=1.0.0 in /opt/conda/envs/python35-paddle120-env/lib/python3.7/site-packages (from moviepy->tb-paddle->paddlehub) (0.1.9)\n",
      "Requirement already satisfied, skipping upgrade: tqdm<5.0,>=4.11.2 in /opt/conda/envs/python35-paddle120-env/lib/python3.7/site-packages (from moviepy->tb-paddle->paddlehub) (4.36.1)\n",
      "Collecting filelock<4,>=3.0.0 (from virtualenv>=15.2->pre-commit->paddlehub)\n",
      "  Downloading https://pypi.tuna.tsinghua.edu.cn/packages/93/83/71a2ee6158bb9f39a90c0dea1637f81d5eef866e188e1971a1b1ab01a35a/filelock-3.0.12-py3-none-any.whl\n",
      "Collecting distlib<1,>=0.3.0 (from virtualenv>=15.2->pre-commit->paddlehub)\n",
      "\u001b[?25l  Downloading https://pypi.tuna.tsinghua.edu.cn/packages/7d/29/694a3a4d7c0e1aef76092e9167fbe372e0f7da055f5dcf4e1313ec21d96a/distlib-0.3.0.zip (571kB)\n",
      "\u001b[K     |████████████████████████████████| 573kB 42.6MB/s eta 0:00:01\n",
      "\u001b[?25hCollecting appdirs<2,>=1.4.3 (from virtualenv>=15.2->pre-commit->paddlehub)\n",
      "  Downloading https://pypi.tuna.tsinghua.edu.cn/packages/56/eb/810e700ed1349edde4cbdc1b2a21e28cdf115f9faf263f6bbf8447c1abf3/appdirs-1.4.3-py2.py3-none-any.whl\n",
      "Requirement already satisfied, skipping upgrade: zipp>=0.5 in /opt/conda/envs/python35-paddle120-env/lib/python3.7/site-packages (from importlib-metadata; python_version < \"3.8\"->pre-commit->paddlehub) (0.6.0)\n",
      "Collecting pyasn1-modules>=0.2.1 (from google-auth<2,>=1.6.3->tensorboard>=1.15->paddlehub)\n",
      "\u001b[?25l  Downloading https://pypi.tuna.tsinghua.edu.cn/packages/95/de/214830a981892a3e286c3794f41ae67a4495df1108c3da8a9f62159b9a9d/pyasn1_modules-0.2.8-py2.py3-none-any.whl (155kB)\n",
      "\u001b[K     |████████████████████████████████| 163kB 62.1MB/s eta 0:00:01\n",
      "\u001b[?25hCollecting cachetools<5.0,>=2.0.0 (from google-auth<2,>=1.6.3->tensorboard>=1.15->paddlehub)\n",
      "  Downloading https://pypi.tuna.tsinghua.edu.cn/packages/08/6a/abf83cb951617793fd49c98cb9456860f5df66ff89883c8660aa0672d425/cachetools-4.0.0-py3-none-any.whl\n",
      "Collecting rsa<4.1,>=3.1.4 (from google-auth<2,>=1.6.3->tensorboard>=1.15->paddlehub)\n",
      "  Downloading https://pypi.tuna.tsinghua.edu.cn/packages/02/e5/38518af393f7c214357079ce67a317307936896e961e35450b70fad2a9cf/rsa-4.0-py2.py3-none-any.whl\n",
      "Collecting requests-oauthlib>=0.7.0 (from google-auth-oauthlib<0.5,>=0.4.1->tensorboard>=1.15->paddlehub)\n",
      "  Downloading https://pypi.tuna.tsinghua.edu.cn/packages/a3/12/b92740d845ab62ea4edf04d2f4164d82532b5a0b03836d4d4e71c6f3d379/requests_oauthlib-1.3.0-py2.py3-none-any.whl\n",
      "Requirement already satisfied, skipping upgrade: MarkupSafe>=0.23 in /opt/conda/envs/python35-paddle120-env/lib/python3.7/site-packages (from Jinja2>=2.10.1->flask>=1.1.0->paddlehub) (1.1.1)\n",
      "Requirement already satisfied, skipping upgrade: more-itertools in /opt/conda/envs/python35-paddle120-env/lib/python3.7/site-packages (from zipp>=0.5->importlib-metadata; python_version < \"3.8\"->pre-commit->paddlehub) (7.2.0)\n",
      "Collecting pyasn1<0.5.0,>=0.4.6 (from pyasn1-modules>=0.2.1->google-auth<2,>=1.6.3->tensorboard>=1.15->paddlehub)\n",
      "\u001b[?25l  Downloading https://pypi.tuna.tsinghua.edu.cn/packages/62/1e/a94a8d635fa3ce4cfc7f506003548d0a2447ae76fd5ca53932970fe3053f/pyasn1-0.4.8-py2.py3-none-any.whl (77kB)\n",
      "\u001b[K     |████████████████████████████████| 81kB 37.8MB/s eta 0:00:01\n",
      "\u001b[?25hCollecting oauthlib>=3.0.0 (from requests-oauthlib>=0.7.0->google-auth-oauthlib<0.5,>=0.4.1->tensorboard>=1.15->paddlehub)\n",
      "\u001b[?25l  Downloading https://pypi.tuna.tsinghua.edu.cn/packages/05/57/ce2e7a8fa7c0afb54a0581b14a65b56e62b5759dbc98e80627142b8a3704/oauthlib-3.1.0-py2.py3-none-any.whl (147kB)\n",
      "\u001b[K     |████████████████████████████████| 153kB 62.3MB/s eta 0:00:01\n",
      "\u001b[?25hBuilding wheels for collected packages: distlib\n",
      "  Building wheel for distlib (setup.py) ... \u001b[?25ldone\n",
      "\u001b[?25h  Created wheel for distlib: filename=distlib-0.3.0-cp37-none-any.whl size=340428 sha256=c6f3bef0ce3b086ecc58f41c808835d34aa796ce9bee5d182403e29962df2ab1\n",
      "  Stored in directory: /home/aistudio/.cache/pip/wheels/cd/9e/e1/7eaf7b3ee905d1e874ebb8a6fa32e3d6215674e83f1abcf558\n",
      "Successfully built distlib\n",
      "Installing collected packages: pycodestyle, mccabe, pyflakes, flake8, filelock, distlib, appdirs, virtualenv, nodeenv, identify, toml, cfgv, pre-commit, gunicorn, yapf, pyasn1, pyasn1-modules, cachetools, rsa, google-auth, oauthlib, requests-oauthlib, google-auth-oauthlib, grpcio, tensorboard, sentencepiece, colorlog, paddlehub\n",
      "  Found existing installation: grpcio 1.24.1\n",
      "    Uninstalling grpcio-1.24.1:\n",
      "      Successfully uninstalled grpcio-1.24.1\n",
      "  Found existing installation: paddlehub 1.2.0\n",
      "    Uninstalling paddlehub-1.2.0:\n",
      "      Successfully uninstalled paddlehub-1.2.0\n",
      "Successfully installed appdirs-1.4.3 cachetools-4.0.0 cfgv-3.1.0 colorlog-4.1.0 distlib-0.3.0 filelock-3.0.12 flake8-3.7.9 google-auth-1.11.2 google-auth-oauthlib-0.4.1 grpcio-1.27.2 gunicorn-20.0.4 identify-1.4.11 mccabe-0.6.1 nodeenv-1.3.5 oauthlib-3.1.0 paddlehub-1.5.3 pre-commit-2.1.1 pyasn1-0.4.8 pyasn1-modules-0.2.8 pycodestyle-2.5.0 pyflakes-2.1.1 requests-oauthlib-1.3.0 rsa-4.0 sentencepiece-0.1.85 tensorboard-2.1.0 toml-0.10.0 virtualenv-20.0.7 yapf-0.26.0\n"
     ]
    }
   ],
   "source": [
    "# 安装PaddleHub\n",
    "!pip install --upgrade paddlehub -i https://pypi.tuna.tsinghua.edu.cn/simple"
   ]
  },
  {
   "cell_type": "markdown",
   "metadata": {
    "collapsed": false
   },
   "source": [
    "## PART I. 加载自定义数据集\n",
    "\n",
    "开课吧&amp;后厂理工学院 百度NLP项目2：百度试题数据集多标签文本分类\n",
    "\n",
    "# 数据说明\n",
    "原始数据集为`高中`下`地理`,`历史`,`生物`,`政治`四门学科数据，每个学科下各包含第一层知识点，如`历史`下分为`近代史`,`现代史`,`古代史`。  \n",
    "原始数据示例： \n",
    "\n",
    "> [题目]  \n",
    "我国经济体制改革首先在农村展开。率先实行包产到组、包产到户的农业生产责任制的省份是（    ）  \n",
    "①四川        ②广东        ③安徽       ④湖北A. ①③B. ①④C. ②④D. ②③题型: 单选题|难度: 简单|使用次数: 0|纠错复制收藏到空间加入选题篮查看答案解析答案：A解析：本题主要考察的是对知识的识记能力，比较容易。根据所学知识可知，在四川和安徽，率先实行包产到组、包产到户的农业生产责任制，故①③正确；②④不是。所以答案选A。知识点：  \n",
    "[知识点：]  \n",
    "经济体制改革,中国的振兴\n",
    "\n",
    "对数据处理：\n",
    "- 将数据的[知识点：]作为数据的第四层标签，显然不同数据的第四层标签数量不一致\n",
    "- 仅保留题目作为数据特征，删除[题型]及[答案解析]"
   ]
  },
  {
   "cell_type": "markdown",
   "metadata": {
    "collapsed": false
   },
   "source": [
    "加载自定义数据集，用户仅需要继承HubDataset类，替换数据集存放地址即可。 下面代码示例展示如何将自定义数据集加载进PaddleHub使用。\n",
    "\n",
    "具体详情可参考 加载[自定义数据集](https://github.com/PaddlePaddle/PaddleHub/wiki/PaddleHub%E9%80%82%E9%85%8D%E8%87%AA%E5%AE%9A%E4%B9%89%E6%95%B0%E6%8D%AE%E5%AE%8C%E6%88%90FineTune)"
   ]
  },
  {
   "cell_type": "code",
   "execution_count": null,
   "metadata": {
    "collapsed": false
   },
   "outputs": [],
   "source": [
    "import os\n",
    "import pandas as pd\n",
    "import paddlehub as hub\n",
    "from sklearn.model_selection import train_test_split\n",
    "from sklearn.preprocessing import MultiLabelBinarizer"
   ]
  },
  {
   "cell_type": "markdown",
   "metadata": {
    "collapsed": false
   },
   "source": [
    "# 读取数据"
   ]
  },
  {
   "cell_type": "code",
   "execution_count": null,
   "metadata": {
    "collapsed": false
   },
   "outputs": [],
   "source": [
    "DATA_OUTPUT_DIR='/home/aistudio/data/data22677/'\n",
    "data_path=os.path.join(DATA_OUTPUT_DIR,'baidu_95.csv')\n",
    "df=pd.read_csv(data_path,header=None, names=[\"labels\", \"content\"], dtype=str)"
   ]
  },
  {
   "cell_type": "code",
   "execution_count": null,
   "metadata": {
    "collapsed": false
   },
   "outputs": [
    {
     "data": {
      "text/html": [
       "<div>\n",
       "<style scoped>\n",
       "    .dataframe tbody tr th:only-of-type {\n",
       "        vertical-align: middle;\n",
       "    }\n",
       "\n",
       "    .dataframe tbody tr th {\n",
       "        vertical-align: top;\n",
       "    }\n",
       "\n",
       "    .dataframe thead th {\n",
       "        text-align: right;\n",
       "    }\n",
       "</style>\n",
       "<table border=\"1\" class=\"dataframe\">\n",
       "  <thead>\n",
       "    <tr style=\"text-align: right;\">\n",
       "      <th></th>\n",
       "      <th>labels</th>\n",
       "      <th>content</th>\n",
       "    </tr>\n",
       "  </thead>\n",
       "  <tbody>\n",
       "    <tr>\n",
       "      <th>0</th>\n",
       "      <td>高中 生物 分子与细胞 组成细胞的化学元素 组成细胞的化合物</td>\n",
       "      <td>菠菜从土壤中吸收的氮元素可以用来合成（）A.淀粉和纤维素B.葡萄糖和DNAC.核酸和蛋白质D...</td>\n",
       "    </tr>\n",
       "    <tr>\n",
       "      <th>1</th>\n",
       "      <td>高中 生物 稳态与环境 神经调节和体液调节的比较</td>\n",
       "      <td>下列有关生物体内信息传递的叙述，正确的是（）A下丘脑分泌的促甲状腺激素释放激素，可作用于甲状...</td>\n",
       "    </tr>\n",
       "    <tr>\n",
       "      <th>2</th>\n",
       "      <td>高中 生物 生物技术实践 生物工程技术</td>\n",
       "      <td>从自然菌样筛选较理想生产菌种的一般步骤是：采集菌样→富集培养→纯种分离→性能测定．1.不同微...</td>\n",
       "    </tr>\n",
       "    <tr>\n",
       "      <th>3</th>\n",
       "      <td>高中 生物 生物技术实践 生物技术在其他方面的应用 器官移植 复等位基因 胚胎移植 基因工程...</td>\n",
       "      <td>目前，精子载体法逐渐成为具有诱惑力的制备转基因动物方法之一，该方法以精子作为外源基因的载体，...</td>\n",
       "    </tr>\n",
       "    <tr>\n",
       "      <th>4</th>\n",
       "      <td>高中 地理 宇宙中的地球 地球运动的地理意义</td>\n",
       "      <td>某人想乘普通飞机在一年中连续过两次生日，你认为应穿越（）A赤道B两级C本初子午线D国际日期变更线</td>\n",
       "    </tr>\n",
       "  </tbody>\n",
       "</table>\n",
       "</div>"
      ],
      "text/plain": [
       "                                              labels  \\\n",
       "0                     高中 生物 分子与细胞 组成细胞的化学元素 组成细胞的化合物   \n",
       "1                           高中 生物 稳态与环境 神经调节和体液调节的比较   \n",
       "2                                高中 生物 生物技术实践 生物工程技术   \n",
       "3  高中 生物 生物技术实践 生物技术在其他方面的应用 器官移植 复等位基因 胚胎移植 基因工程...   \n",
       "4                             高中 地理 宇宙中的地球 地球运动的地理意义   \n",
       "\n",
       "                                             content  \n",
       "0  菠菜从土壤中吸收的氮元素可以用来合成（）A.淀粉和纤维素B.葡萄糖和DNAC.核酸和蛋白质D...  \n",
       "1  下列有关生物体内信息传递的叙述，正确的是（）A下丘脑分泌的促甲状腺激素释放激素，可作用于甲状...  \n",
       "2  从自然菌样筛选较理想生产菌种的一般步骤是：采集菌样→富集培养→纯种分离→性能测定．1.不同微...  \n",
       "3  目前，精子载体法逐渐成为具有诱惑力的制备转基因动物方法之一，该方法以精子作为外源基因的载体，...  \n",
       "4   某人想乘普通飞机在一年中连续过两次生日，你认为应穿越（）A赤道B两级C本初子午线D国际日期变更线  "
      ]
     },
     "execution_count": null,
     "metadata": {},
     "output_type": "execute_result"
    }
   ],
   "source": [
    "df.head()"
   ]
  },
  {
   "cell_type": "markdown",
   "metadata": {
    "collapsed": false
   },
   "source": [
    "# 预处理"
   ]
  },
  {
   "cell_type": "code",
   "execution_count": null,
   "metadata": {
    "collapsed": false
   },
   "outputs": [],
   "source": [
    "df['labels']=df['labels'].apply(lambda x:x.split())\n",
    "mlb = MultiLabelBinarizer()\n",
    "y = mlb.fit_transform(df['labels'])\n",
    "y=[' '.join([str(j) for j in i]) for i in y.tolist()]\n",
    "df['labels']=y\n",
    "\n",
    "classes_df=pd.DataFrame(mlb.classes_)"
   ]
  },
  {
   "cell_type": "code",
   "execution_count": null,
   "metadata": {
    "collapsed": false
   },
   "outputs": [
    {
     "data": {
      "text/html": [
       "<div>\n",
       "<style scoped>\n",
       "    .dataframe tbody tr th:only-of-type {\n",
       "        vertical-align: middle;\n",
       "    }\n",
       "\n",
       "    .dataframe tbody tr th {\n",
       "        vertical-align: top;\n",
       "    }\n",
       "\n",
       "    .dataframe thead th {\n",
       "        text-align: right;\n",
       "    }\n",
       "</style>\n",
       "<table border=\"1\" class=\"dataframe\">\n",
       "  <thead>\n",
       "    <tr style=\"text-align: right;\">\n",
       "      <th></th>\n",
       "      <th>0</th>\n",
       "    </tr>\n",
       "  </thead>\n",
       "  <tbody>\n",
       "    <tr>\n",
       "      <th>0</th>\n",
       "      <td>“重农抑商”政策</td>\n",
       "    </tr>\n",
       "    <tr>\n",
       "      <th>1</th>\n",
       "      <td>不完全显性</td>\n",
       "    </tr>\n",
       "    <tr>\n",
       "      <th>2</th>\n",
       "      <td>与细胞分裂有关的细胞器</td>\n",
       "    </tr>\n",
       "    <tr>\n",
       "      <th>3</th>\n",
       "      <td>中央官制——三公九卿制</td>\n",
       "    </tr>\n",
       "    <tr>\n",
       "      <th>4</th>\n",
       "      <td>中心体的结构和功能</td>\n",
       "    </tr>\n",
       "    <tr>\n",
       "      <th>5</th>\n",
       "      <td>人体免疫系统在维持稳态中的作用</td>\n",
       "    </tr>\n",
       "    <tr>\n",
       "      <th>6</th>\n",
       "      <td>人体水盐平衡调节</td>\n",
       "    </tr>\n",
       "    <tr>\n",
       "      <th>7</th>\n",
       "      <td>人体的体温调节</td>\n",
       "    </tr>\n",
       "    <tr>\n",
       "      <th>8</th>\n",
       "      <td>人口与城市</td>\n",
       "    </tr>\n",
       "    <tr>\n",
       "      <th>9</th>\n",
       "      <td>人口增长与人口问题</td>\n",
       "    </tr>\n",
       "    <tr>\n",
       "      <th>10</th>\n",
       "      <td>人口迁移与人口流动</td>\n",
       "    </tr>\n",
       "    <tr>\n",
       "      <th>11</th>\n",
       "      <td>人工授精、试管婴儿等生殖技术</td>\n",
       "    </tr>\n",
       "    <tr>\n",
       "      <th>12</th>\n",
       "      <td>伴性遗传</td>\n",
       "    </tr>\n",
       "    <tr>\n",
       "      <th>13</th>\n",
       "      <td>体液免疫的概念和过程</td>\n",
       "    </tr>\n",
       "    <tr>\n",
       "      <th>14</th>\n",
       "      <td>免疫系统的功能</td>\n",
       "    </tr>\n",
       "    <tr>\n",
       "      <th>15</th>\n",
       "      <td>免疫系统的组成</td>\n",
       "    </tr>\n",
       "    <tr>\n",
       "      <th>16</th>\n",
       "      <td>公民道德与伦理常识</td>\n",
       "    </tr>\n",
       "    <tr>\n",
       "      <th>17</th>\n",
       "      <td>兴奋在神经元之间的传递</td>\n",
       "    </tr>\n",
       "    <tr>\n",
       "      <th>18</th>\n",
       "      <td>兴奋在神经纤维上的传导</td>\n",
       "    </tr>\n",
       "    <tr>\n",
       "      <th>19</th>\n",
       "      <td>内环境的稳态</td>\n",
       "    </tr>\n",
       "    <tr>\n",
       "      <th>20</th>\n",
       "      <td>内质网的结构和功能</td>\n",
       "    </tr>\n",
       "    <tr>\n",
       "      <th>21</th>\n",
       "      <td>农业区位因素</td>\n",
       "    </tr>\n",
       "    <tr>\n",
       "      <th>22</th>\n",
       "      <td>减数分裂与有丝分裂的比较</td>\n",
       "    </tr>\n",
       "    <tr>\n",
       "      <th>23</th>\n",
       "      <td>减数分裂的概念</td>\n",
       "    </tr>\n",
       "    <tr>\n",
       "      <th>24</th>\n",
       "      <td>分子与细胞</td>\n",
       "    </tr>\n",
       "    <tr>\n",
       "      <th>25</th>\n",
       "      <td>劳动就业与守法经营</td>\n",
       "    </tr>\n",
       "    <tr>\n",
       "      <th>26</th>\n",
       "      <td>历史</td>\n",
       "    </tr>\n",
       "    <tr>\n",
       "      <th>27</th>\n",
       "      <td>古代史</td>\n",
       "    </tr>\n",
       "    <tr>\n",
       "      <th>28</th>\n",
       "      <td>器官移植</td>\n",
       "    </tr>\n",
       "    <tr>\n",
       "      <th>29</th>\n",
       "      <td>地球与地图</td>\n",
       "    </tr>\n",
       "    <tr>\n",
       "      <th>...</th>\n",
       "      <td>...</td>\n",
       "    </tr>\n",
       "    <tr>\n",
       "      <th>65</th>\n",
       "      <td>生物技术在其他方面的应用</td>\n",
       "    </tr>\n",
       "    <tr>\n",
       "      <th>66</th>\n",
       "      <td>生物技术实践</td>\n",
       "    </tr>\n",
       "    <tr>\n",
       "      <th>67</th>\n",
       "      <td>生物科学与社会</td>\n",
       "    </tr>\n",
       "    <tr>\n",
       "      <th>68</th>\n",
       "      <td>皇帝制度</td>\n",
       "    </tr>\n",
       "    <tr>\n",
       "      <th>69</th>\n",
       "      <td>社会主义市场经济的伦理要求</td>\n",
       "    </tr>\n",
       "    <tr>\n",
       "      <th>70</th>\n",
       "      <td>社会主义是中国人民的历史性选择</td>\n",
       "    </tr>\n",
       "    <tr>\n",
       "      <th>71</th>\n",
       "      <td>神经调节和体液调节的比较</td>\n",
       "    </tr>\n",
       "    <tr>\n",
       "      <th>72</th>\n",
       "      <td>科学社会主义常识</td>\n",
       "    </tr>\n",
       "    <tr>\n",
       "      <th>73</th>\n",
       "      <td>稳态与环境</td>\n",
       "    </tr>\n",
       "    <tr>\n",
       "      <th>74</th>\n",
       "      <td>第三产业的兴起和“新经济”的出现</td>\n",
       "    </tr>\n",
       "    <tr>\n",
       "      <th>75</th>\n",
       "      <td>组成细胞的化合物</td>\n",
       "    </tr>\n",
       "    <tr>\n",
       "      <th>76</th>\n",
       "      <td>组成细胞的化学元素</td>\n",
       "    </tr>\n",
       "    <tr>\n",
       "      <th>77</th>\n",
       "      <td>细胞大小与物质运输的关系</td>\n",
       "    </tr>\n",
       "    <tr>\n",
       "      <th>78</th>\n",
       "      <td>细胞有丝分裂不同时期的特点</td>\n",
       "    </tr>\n",
       "    <tr>\n",
       "      <th>79</th>\n",
       "      <td>细胞的多样性和统一性</td>\n",
       "    </tr>\n",
       "    <tr>\n",
       "      <th>80</th>\n",
       "      <td>经济学常识</td>\n",
       "    </tr>\n",
       "    <tr>\n",
       "      <th>81</th>\n",
       "      <td>群落的结构</td>\n",
       "    </tr>\n",
       "    <tr>\n",
       "      <th>82</th>\n",
       "      <td>胚胎移植</td>\n",
       "    </tr>\n",
       "    <tr>\n",
       "      <th>83</th>\n",
       "      <td>蛋白质的合成</td>\n",
       "    </tr>\n",
       "    <tr>\n",
       "      <th>84</th>\n",
       "      <td>血糖平衡的调节</td>\n",
       "    </tr>\n",
       "    <tr>\n",
       "      <th>85</th>\n",
       "      <td>走进细胞</td>\n",
       "    </tr>\n",
       "    <tr>\n",
       "      <th>86</th>\n",
       "      <td>近代史</td>\n",
       "    </tr>\n",
       "    <tr>\n",
       "      <th>87</th>\n",
       "      <td>选官、用官制度的变化</td>\n",
       "    </tr>\n",
       "    <tr>\n",
       "      <th>88</th>\n",
       "      <td>遗传与进化</td>\n",
       "    </tr>\n",
       "    <tr>\n",
       "      <th>89</th>\n",
       "      <td>遗传的分子基础</td>\n",
       "    </tr>\n",
       "    <tr>\n",
       "      <th>90</th>\n",
       "      <td>遗传的细胞基础</td>\n",
       "    </tr>\n",
       "    <tr>\n",
       "      <th>91</th>\n",
       "      <td>避孕的原理和方法</td>\n",
       "    </tr>\n",
       "    <tr>\n",
       "      <th>92</th>\n",
       "      <td>郡县制</td>\n",
       "    </tr>\n",
       "    <tr>\n",
       "      <th>93</th>\n",
       "      <td>高中</td>\n",
       "    </tr>\n",
       "    <tr>\n",
       "      <th>94</th>\n",
       "      <td>高尔基体的结构和功能</td>\n",
       "    </tr>\n",
       "  </tbody>\n",
       "</table>\n",
       "<p>95 rows × 1 columns</p>\n",
       "</div>"
      ],
      "text/plain": [
       "                   0\n",
       "0           “重农抑商”政策\n",
       "1              不完全显性\n",
       "2        与细胞分裂有关的细胞器\n",
       "3        中央官制——三公九卿制\n",
       "4          中心体的结构和功能\n",
       "5    人体免疫系统在维持稳态中的作用\n",
       "6           人体水盐平衡调节\n",
       "7            人体的体温调节\n",
       "8              人口与城市\n",
       "9          人口增长与人口问题\n",
       "10         人口迁移与人口流动\n",
       "11    人工授精、试管婴儿等生殖技术\n",
       "12              伴性遗传\n",
       "13        体液免疫的概念和过程\n",
       "14           免疫系统的功能\n",
       "15           免疫系统的组成\n",
       "16         公民道德与伦理常识\n",
       "17       兴奋在神经元之间的传递\n",
       "18       兴奋在神经纤维上的传导\n",
       "19            内环境的稳态\n",
       "20         内质网的结构和功能\n",
       "21            农业区位因素\n",
       "22      减数分裂与有丝分裂的比较\n",
       "23           减数分裂的概念\n",
       "24             分子与细胞\n",
       "25         劳动就业与守法经营\n",
       "26                历史\n",
       "27               古代史\n",
       "28              器官移植\n",
       "29             地球与地图\n",
       "..               ...\n",
       "65      生物技术在其他方面的应用\n",
       "66            生物技术实践\n",
       "67           生物科学与社会\n",
       "68              皇帝制度\n",
       "69     社会主义市场经济的伦理要求\n",
       "70   社会主义是中国人民的历史性选择\n",
       "71      神经调节和体液调节的比较\n",
       "72          科学社会主义常识\n",
       "73             稳态与环境\n",
       "74  第三产业的兴起和“新经济”的出现\n",
       "75          组成细胞的化合物\n",
       "76         组成细胞的化学元素\n",
       "77      细胞大小与物质运输的关系\n",
       "78     细胞有丝分裂不同时期的特点\n",
       "79        细胞的多样性和统一性\n",
       "80             经济学常识\n",
       "81             群落的结构\n",
       "82              胚胎移植\n",
       "83            蛋白质的合成\n",
       "84           血糖平衡的调节\n",
       "85              走进细胞\n",
       "86               近代史\n",
       "87        选官、用官制度的变化\n",
       "88             遗传与进化\n",
       "89           遗传的分子基础\n",
       "90           遗传的细胞基础\n",
       "91          避孕的原理和方法\n",
       "92               郡县制\n",
       "93                高中\n",
       "94        高尔基体的结构和功能\n",
       "\n",
       "[95 rows x 1 columns]"
      ]
     },
     "execution_count": null,
     "metadata": {},
     "output_type": "execute_result"
    }
   ],
   "source": [
    "classes_df"
   ]
  },
  {
   "cell_type": "code",
   "execution_count": null,
   "metadata": {
    "collapsed": false
   },
   "outputs": [
    {
     "data": {
      "text/html": [
       "<div>\n",
       "<style scoped>\n",
       "    .dataframe tbody tr th:only-of-type {\n",
       "        vertical-align: middle;\n",
       "    }\n",
       "\n",
       "    .dataframe tbody tr th {\n",
       "        vertical-align: top;\n",
       "    }\n",
       "\n",
       "    .dataframe thead th {\n",
       "        text-align: right;\n",
       "    }\n",
       "</style>\n",
       "<table border=\"1\" class=\"dataframe\">\n",
       "  <thead>\n",
       "    <tr style=\"text-align: right;\">\n",
       "      <th></th>\n",
       "      <th>labels</th>\n",
       "      <th>content</th>\n",
       "    </tr>\n",
       "  </thead>\n",
       "  <tbody>\n",
       "    <tr>\n",
       "      <th>0</th>\n",
       "      <td>0 0 0 0 0 0 0 0 0 0 0 0 0 0 0 0 0 0 0 0 0 0 0 ...</td>\n",
       "      <td>菠菜从土壤中吸收的氮元素可以用来合成（）A.淀粉和纤维素B.葡萄糖和DNAC.核酸和蛋白质D...</td>\n",
       "    </tr>\n",
       "    <tr>\n",
       "      <th>1</th>\n",
       "      <td>0 0 0 0 0 0 0 0 0 0 0 0 0 0 0 0 0 0 0 0 0 0 0 ...</td>\n",
       "      <td>下列有关生物体内信息传递的叙述，正确的是（）A下丘脑分泌的促甲状腺激素释放激素，可作用于甲状...</td>\n",
       "    </tr>\n",
       "    <tr>\n",
       "      <th>2</th>\n",
       "      <td>0 0 0 0 0 0 0 0 0 0 0 0 0 0 0 0 0 0 0 0 0 0 0 ...</td>\n",
       "      <td>从自然菌样筛选较理想生产菌种的一般步骤是：采集菌样→富集培养→纯种分离→性能测定．1.不同微...</td>\n",
       "    </tr>\n",
       "    <tr>\n",
       "      <th>3</th>\n",
       "      <td>0 0 0 0 0 0 0 0 0 0 0 0 0 0 0 0 0 0 0 0 0 0 0 ...</td>\n",
       "      <td>目前，精子载体法逐渐成为具有诱惑力的制备转基因动物方法之一，该方法以精子作为外源基因的载体，...</td>\n",
       "    </tr>\n",
       "    <tr>\n",
       "      <th>4</th>\n",
       "      <td>0 0 0 0 0 0 0 0 0 0 0 0 0 0 0 0 0 0 0 0 0 0 0 ...</td>\n",
       "      <td>某人想乘普通飞机在一年中连续过两次生日，你认为应穿越（）A赤道B两级C本初子午线D国际日期变更线</td>\n",
       "    </tr>\n",
       "  </tbody>\n",
       "</table>\n",
       "</div>"
      ],
      "text/plain": [
       "                                              labels  \\\n",
       "0  0 0 0 0 0 0 0 0 0 0 0 0 0 0 0 0 0 0 0 0 0 0 0 ...   \n",
       "1  0 0 0 0 0 0 0 0 0 0 0 0 0 0 0 0 0 0 0 0 0 0 0 ...   \n",
       "2  0 0 0 0 0 0 0 0 0 0 0 0 0 0 0 0 0 0 0 0 0 0 0 ...   \n",
       "3  0 0 0 0 0 0 0 0 0 0 0 0 0 0 0 0 0 0 0 0 0 0 0 ...   \n",
       "4  0 0 0 0 0 0 0 0 0 0 0 0 0 0 0 0 0 0 0 0 0 0 0 ...   \n",
       "\n",
       "                                             content  \n",
       "0  菠菜从土壤中吸收的氮元素可以用来合成（）A.淀粉和纤维素B.葡萄糖和DNAC.核酸和蛋白质D...  \n",
       "1  下列有关生物体内信息传递的叙述，正确的是（）A下丘脑分泌的促甲状腺激素释放激素，可作用于甲状...  \n",
       "2  从自然菌样筛选较理想生产菌种的一般步骤是：采集菌样→富集培养→纯种分离→性能测定．1.不同微...  \n",
       "3  目前，精子载体法逐渐成为具有诱惑力的制备转基因动物方法之一，该方法以精子作为外源基因的载体，...  \n",
       "4   某人想乘普通飞机在一年中连续过两次生日，你认为应穿越（）A赤道B两级C本初子午线D国际日期变更线  "
      ]
     },
     "execution_count": null,
     "metadata": {},
     "output_type": "execute_result"
    }
   ],
   "source": [
    "df.head()"
   ]
  },
  {
   "cell_type": "code",
   "execution_count": null,
   "metadata": {
    "collapsed": false
   },
   "outputs": [],
   "source": [
    "# 训练数据集划分\n",
    "train_df, test_df = train_test_split(df, test_size=0.8, random_state=42)\n",
    "# 测试和验证集划分\n",
    "test_df, dev_df = train_test_split(test_df, test_size=0.5, random_state=42)\n",
    "\n",
    "# 保存数据\n",
    "train_df.to_csv(os.path.join(DATA_OUTPUT_DIR, 'train.tsv'),index=None,header=None)\n",
    "dev_df.to_csv(os.path.join(DATA_OUTPUT_DIR, 'dev.tsv'),index=None,header=None)\n",
    "test_df.to_csv(os.path.join(DATA_OUTPUT_DIR, 'test.tsv'),index=None,header=None)\n",
    "\n",
    "# 保存类别标签\n",
    "classes_df.to_csv(os.path.join(DATA_OUTPUT_DIR,'classes.csv'),index=None,header=None)"
   ]
  },
  {
   "cell_type": "code",
   "execution_count": null,
   "metadata": {
    "collapsed": false
   },
   "outputs": [
    {
     "data": {
      "text/html": [
       "<div>\n",
       "<style scoped>\n",
       "    .dataframe tbody tr th:only-of-type {\n",
       "        vertical-align: middle;\n",
       "    }\n",
       "\n",
       "    .dataframe tbody tr th {\n",
       "        vertical-align: top;\n",
       "    }\n",
       "\n",
       "    .dataframe thead th {\n",
       "        text-align: right;\n",
       "    }\n",
       "</style>\n",
       "<table border=\"1\" class=\"dataframe\">\n",
       "  <thead>\n",
       "    <tr style=\"text-align: right;\">\n",
       "      <th></th>\n",
       "      <th>labels</th>\n",
       "      <th>content</th>\n",
       "    </tr>\n",
       "  </thead>\n",
       "  <tbody>\n",
       "    <tr>\n",
       "      <th>12580</th>\n",
       "      <td>0 0 0 0 0 0 0 0 0 0 0 0 0 0 0 0 0 0 0 0 0 0 0 ...</td>\n",
       "      <td>12月24日当地时间19∶00时，英格兰足球超级联赛的一场比赛将在伦敦开赛。香港李先生要看这...</td>\n",
       "    </tr>\n",
       "    <tr>\n",
       "      <th>21349</th>\n",
       "      <td>0 0 0 0 0 0 0 0 0 0 0 0 0 0 0 0 0 0 0 0 0 0 0 ...</td>\n",
       "      <td>下图①表示两条非同源染色体，则①→②的变化在遗传学上称为（）A.易位B.缺失C.倒位D.重复</td>\n",
       "    </tr>\n",
       "    <tr>\n",
       "      <th>19700</th>\n",
       "      <td>0 0 0 0 0 0 0 0 0 0 0 0 0 0 0 0 0 1 1 0 0 0 0 ...</td>\n",
       "      <td>γ­氨基丁酸和某种局部麻醉药在神经兴奋传递过程中的作用机理如图1所示。此种局麻药单独使用时不...</td>\n",
       "    </tr>\n",
       "    <tr>\n",
       "      <th>12225</th>\n",
       "      <td>0 0 0 0 0 0 0 0 0 0 0 0 0 0 0 0 1 0 0 0 0 0 0 ...</td>\n",
       "      <td>古典经济学家斯密认为，每个人在追求仅仅是他个人的利益时，有一只看不见的手引导他去促进一种目标...</td>\n",
       "    </tr>\n",
       "    <tr>\n",
       "      <th>1051</th>\n",
       "      <td>0 0 0 0 0 0 0 0 0 0 0 0 0 0 0 0 0 0 0 0 0 0 0 ...</td>\n",
       "      <td>用加酶洗衣粉洗涤衣物时，下列说法错误的是()A.可用加酶洗衣粉洗涤毛料衣服B.一般先用热水泡...</td>\n",
       "    </tr>\n",
       "  </tbody>\n",
       "</table>\n",
       "</div>"
      ],
      "text/plain": [
       "                                                  labels  \\\n",
       "12580  0 0 0 0 0 0 0 0 0 0 0 0 0 0 0 0 0 0 0 0 0 0 0 ...   \n",
       "21349  0 0 0 0 0 0 0 0 0 0 0 0 0 0 0 0 0 0 0 0 0 0 0 ...   \n",
       "19700  0 0 0 0 0 0 0 0 0 0 0 0 0 0 0 0 0 1 1 0 0 0 0 ...   \n",
       "12225  0 0 0 0 0 0 0 0 0 0 0 0 0 0 0 0 1 0 0 0 0 0 0 ...   \n",
       "1051   0 0 0 0 0 0 0 0 0 0 0 0 0 0 0 0 0 0 0 0 0 0 0 ...   \n",
       "\n",
       "                                                 content  \n",
       "12580  12月24日当地时间19∶00时，英格兰足球超级联赛的一场比赛将在伦敦开赛。香港李先生要看这...  \n",
       "21349     下图①表示两条非同源染色体，则①→②的变化在遗传学上称为（）A.易位B.缺失C.倒位D.重复  \n",
       "19700  γ­氨基丁酸和某种局部麻醉药在神经兴奋传递过程中的作用机理如图1所示。此种局麻药单独使用时不...  \n",
       "12225  古典经济学家斯密认为，每个人在追求仅仅是他个人的利益时，有一只看不见的手引导他去促进一种目标...  \n",
       "1051   用加酶洗衣粉洗涤衣物时，下列说法错误的是()A.可用加酶洗衣粉洗涤毛料衣服B.一般先用热水泡...  "
      ]
     },
     "execution_count": null,
     "metadata": {},
     "output_type": "execute_result"
    }
   ],
   "source": [
    "train_df.head()"
   ]
  },
  {
   "cell_type": "markdown",
   "metadata": {
    "collapsed": false
   },
   "source": [
    "# 数据加载"
   ]
  },
  {
   "cell_type": "code",
   "execution_count": null,
   "metadata": {
    "collapsed": false
   },
   "outputs": [],
   "source": [
    "from __future__ import absolute_import\n",
    "from __future__ import division\n",
    "from __future__ import print_function\n",
    "\n",
    "from collections import namedtuple\n",
    "import codecs\n",
    "import os\n",
    "import csv\n",
    "\n",
    "from paddlehub.dataset.dataset import InputExample, BaseDataset\n",
    "from paddlehub.common.downloader import default_downloader\n",
    "from paddlehub.common.dir import DATA_HOME\n",
    "from paddlehub.common.logger import logger\n",
    "\n",
    "\n",
    "class Baidu95(BaseDataset):\n",
    "    \"\"\"\n",
    "    ChnSentiCorp (by Tan Songbo at ICT of Chinese Academy of Sciences, and for\n",
    "    opinion mining)\n",
    "    \"\"\"\n",
    "\n",
    "    def __init__(self):\n",
    "        self.dataset_dir = DATA_OUTPUT_DIR\n",
    "        if not os.path.exists(self.dataset_dir):\n",
    "            logger.info(\"Dataset not exists.\".format(self.dataset_dir))\n",
    "        else:\n",
    "            logger.info(\"Dataset {} already cached.\".format(self.dataset_dir))\n",
    "\n",
    "        self._load_train_examples()\n",
    "        self._load_test_examples()\n",
    "        self._load_dev_examples()\n",
    "\n",
    "    def _load_train_examples(self):\n",
    "        self.train_file = os.path.join(self.dataset_dir, \"train.tsv\")\n",
    "        self.train_examples = self._read_tsv(self.train_file)\n",
    "\n",
    "    def _load_dev_examples(self):\n",
    "        self.dev_file = os.path.join(self.dataset_dir, \"dev.tsv\")\n",
    "        self.dev_examples = self._read_tsv(self.dev_file)\n",
    "\n",
    "    def _load_test_examples(self):\n",
    "        self.test_file = os.path.join(self.dataset_dir, \"test.tsv\")\n",
    "        self.test_examples = self._read_tsv(self.test_file)\n",
    "\n",
    "    def get_train_examples(self):\n",
    "        return self.train_examples\n",
    "\n",
    "    def get_dev_examples(self):\n",
    "        return self.dev_examples\n",
    "\n",
    "    def get_test_examples(self):\n",
    "        return self.test_examples\n",
    "\n",
    "    def get_labels(self):\n",
    "        return pd.read_csv(os.path.join(DATA_OUTPUT_DIR,'classes.csv'),names=['labels'])['labels'].tolist()\n",
    "\n",
    "    @property\n",
    "    def num_labels(self):\n",
    "        \"\"\"\n",
    "        Return the number of labels in the dataset.\n",
    "        \"\"\"\n",
    "        return len(self.get_labels())\n",
    "\n",
    "    def _read_tsv(self, input_file, quotechar=None):\n",
    "        \"\"\"Reads a tab separated value file.\"\"\"\n",
    "        with codecs.open(input_file, \"r\", encoding=\"UTF-8\") as f:\n",
    "            reader = csv.reader(f, delimiter=\",\", quotechar=quotechar)\n",
    "            examples = []\n",
    "            seq_id = 0\n",
    "            header = next(reader)  # skip header\n",
    "            for line in reader:\n",
    "                example = InputExample(\n",
    "                    guid=seq_id, label=[int(i) for i in line[0].split(' ')], text_a=line[1])\n",
    "                seq_id += 1\n",
    "                examples.append(example)\n",
    "\n",
    "            return examples"
   ]
  },
  {
   "cell_type": "code",
   "execution_count": null,
   "metadata": {
    "collapsed": false
   },
   "outputs": [
    {
     "name": "stderr",
     "output_type": "stream",
     "text": [
      "\u001b[32m[2020-03-01 20:41:33,528] [    INFO] - Dataset /home/aistudio/data/data22677/ already cached.\u001b[0m\n"
     ]
    }
   ],
   "source": [
    "dataset = Baidu95()"
   ]
  },
  {
   "cell_type": "code",
   "execution_count": null,
   "metadata": {
    "collapsed": false
   },
   "outputs": [
    {
     "data": {
      "text/plain": [
       "[0,\n",
       " 1,\n",
       " 0,\n",
       " 0,\n",
       " 0,\n",
       " 0,\n",
       " 0,\n",
       " 0,\n",
       " 0,\n",
       " 0,\n",
       " 0,\n",
       " 1,\n",
       " 1,\n",
       " 0,\n",
       " 0,\n",
       " 0,\n",
       " 0,\n",
       " 0,\n",
       " 0,\n",
       " 0,\n",
       " 0,\n",
       " 0,\n",
       " 0,\n",
       " 0,\n",
       " 0,\n",
       " 0,\n",
       " 0,\n",
       " 0,\n",
       " 0,\n",
       " 0,\n",
       " 0,\n",
       " 0,\n",
       " 0,\n",
       " 0,\n",
       " 0,\n",
       " 0,\n",
       " 0,\n",
       " 0,\n",
       " 0,\n",
       " 0,\n",
       " 0,\n",
       " 0,\n",
       " 0,\n",
       " 0,\n",
       " 0,\n",
       " 0,\n",
       " 0,\n",
       " 0,\n",
       " 0,\n",
       " 0,\n",
       " 0,\n",
       " 0,\n",
       " 0,\n",
       " 0,\n",
       " 0,\n",
       " 0,\n",
       " 0,\n",
       " 0,\n",
       " 0,\n",
       " 0,\n",
       " 0,\n",
       " 0,\n",
       " 1,\n",
       " 0,\n",
       " 1,\n",
       " 0,\n",
       " 0,\n",
       " 1,\n",
       " 0,\n",
       " 0,\n",
       " 0,\n",
       " 0,\n",
       " 0,\n",
       " 0,\n",
       " 0,\n",
       " 0,\n",
       " 0,\n",
       " 0,\n",
       " 0,\n",
       " 0,\n",
       " 0,\n",
       " 0,\n",
       " 0,\n",
       " 0,\n",
       " 0,\n",
       " 0,\n",
       " 0,\n",
       " 0,\n",
       " 0,\n",
       " 1,\n",
       " 1,\n",
       " 1,\n",
       " 0,\n",
       " 1,\n",
       " 0]"
      ]
     },
     "execution_count": null,
     "metadata": {},
     "output_type": "execute_result"
    }
   ],
   "source": [
    "e=dataset.get_val_examples()[0]\n",
    "e.label"
   ]
  },
  {
   "cell_type": "code",
   "execution_count": null,
   "metadata": {
    "collapsed": false
   },
   "outputs": [
    {
     "name": "stdout",
     "output_type": "stream",
     "text": [
      "Downloading ernie_tiny\n",
      "[==================================================] 100.00%\n",
      "Uncompress /home/aistudio/.paddlehub/tmp/tmp7la3935_/ernie_tiny\n",
      "[==================================================] 100.00%\n",
      "Successfully installed ernie_tiny-1.0.1\n"
     ]
    }
   ],
   "source": [
    "!hub install ernie_tiny"
   ]
  },
  {
   "cell_type": "code",
   "execution_count": null,
   "metadata": {
    "collapsed": false
   },
   "outputs": [
    {
     "name": "stderr",
     "output_type": "stream",
     "text": [
      "\u001b[32m[2020-03-01 21:03:58,751] [    INFO] - Installing bert_chinese_L-12_H-768_A-12 module\u001b[0m\n"
     ]
    },
    {
     "name": "stdout",
     "output_type": "stream",
     "text": [
      "Downloading bert_chinese_L-12_H-768_A-12\n",
      "[==================================================] 100.00%\n",
      "Uncompress /home/aistudio/.paddlehub/tmp/tmpiuiyy62_/bert_chinese_L-12_H-768_A-12\n",
      "[==================================================] 100.00%\n"
     ]
    },
    {
     "name": "stderr",
     "output_type": "stream",
     "text": [
      "\u001b[32m[2020-03-01 21:04:15,356] [    INFO] - Successfully installed bert_chinese_L-12_H-768_A-12-1.0.0\u001b[0m\n",
      "\u001b[32m[2020-03-01 21:04:15,849] [    INFO] - Set maximum sequence length of input tensor to 256\u001b[0m\n",
      "\u001b[32m[2020-03-01 21:04:15,851] [    INFO] - The shape of input tensor[input_ids] set to [-1, 256, 1]\u001b[0m\n",
      "\u001b[32m[2020-03-01 21:04:15,852] [    INFO] - The shape of input tensor[position_ids] set to [-1, 256, 1]\u001b[0m\n",
      "\u001b[32m[2020-03-01 21:04:15,852] [    INFO] - The shape of input tensor[segment_ids] set to [-1, 256, 1]\u001b[0m\n",
      "\u001b[32m[2020-03-01 21:04:15,853] [    INFO] - The shape of input tensor[input_mask] set to [-1, 256, 1]\u001b[0m\n",
      "\u001b[32m[2020-03-01 21:04:15,853] [    INFO] - 199 pretrained paramaters loaded by PaddleHub\u001b[0m\n"
     ]
    }
   ],
   "source": [
    "# 更换name参数即可无缝切换BERT中文模型, 代码示例如下\n",
    "max_seq_len=256\n",
    "\n",
    "module = hub.Module(name=\"bert_chinese_L-12_H-768_A-12\") # (name=\"bert_chinese_L-12_H-768_A-12\")\n",
    "inputs, outputs, program = module.context(trainable=True, max_seq_len=max_seq_len)"
   ]
  },
  {
   "cell_type": "markdown",
   "metadata": {
    "collapsed": false
   },
   "source": [
    "如果想尝试其他语义模型（如ernie_tiny, R等），只需要更换Module中的`name`参数即可.\n",
    "\n",
    "   模型名                           | PaddleHub Module\n",
    "---------------------------------- | :------:\n",
    "ERNIE, Chinese                     | `hub.Module(name='ernie')`\n",
    "ERNIE 2.0 Tiny, Chinese            | `hub.Module(name='ernie_tiny')`\n",
    "ERNIE 2.0 Base, English            | `hub.Module(name='ernie_v2_eng_base')`\n",
    "ERNIE 2.0 Large, English           | `hub.Module(name='ernie_v2_eng_large')`\n",
    "RoBERTa-Large, Chinese             | `hub.Module(name='roberta_wwm_ext_chinese_L-24_H-1024_A-16')`\n",
    "RoBERTa-Base, Chinese              | `hub.Module(name='roberta_wwm_ext_chinese_L-12_H-768_A-12')`\n",
    "BERT-Base, Uncased                 | `hub.Module(name='bert_uncased_L-12_H-768_A-12')`\n",
    "BERT-Large, Uncased                | `hub.Module(name='bert_uncased_L-24_H-1024_A-16')`\n",
    "BERT-Base, Cased                   | `hub.Module(name='bert_cased_L-12_H-768_A-12')`\n",
    "BERT-Large, Cased                  | `hub.Module(name='bert_cased_L-24_H-1024_A-16')`\n",
    "BERT-Base, Multilingual Cased      | `hub.Module(nane='bert_multi_cased_L-12_H-768_A-12')`\n",
    "BERT-Base, Chinese                 | `hub.Module(name='bert_chinese_L-12_H-768_A-12')`"
   ]
  },
  {
   "cell_type": "code",
   "execution_count": null,
   "metadata": {
    "collapsed": false
   },
   "outputs": [
    {
     "name": "stderr",
     "output_type": "stream",
     "text": [
      "\u001b[32m[2020-03-01 21:04:21,209] [    INFO] - Dataset /home/aistudio/data/data22677/ already cached.\u001b[0m\n",
      "\u001b[32m[2020-03-01 21:04:22,256] [    INFO] - Dataset label map = {'“重农抑商”政策': 0, '不完全显性': 1, '与细胞分裂有关的细胞器': 2, '中央官制——三公九卿制': 3, '中心体的结构和功能': 4, '人体免疫系统在维持稳态中的作用': 5, '人体水盐平衡调节': 6, '人体的体温调节': 7, '人口与城市': 8, '人口增长与人口问题': 9, '人口迁移与人口流动': 10, '人工授精、试管婴儿等生殖技术': 11, '伴性遗传': 12, '体液免疫的概念和过程': 13, '免疫系统的功能': 14, '免疫系统的组成': 15, '公民道德与伦理常识': 16, '兴奋在神经元之间的传递': 17, '兴奋在神经纤维上的传导': 18, '内环境的稳态': 19, '内质网的结构和功能': 20, '农业区位因素': 21, '减数分裂与有丝分裂的比较': 22, '减数分裂的概念': 23, '分子与细胞': 24, '劳动就业与守法经营': 25, '历史': 26, '古代史': 27, '器官移植': 28, '地球与地图': 29, '地球所处的宇宙环境': 30, '地球的内部圈层结构及特点': 31, '地球的外部圈层结构及特点': 32, '地球运动的地理意义': 33, '地球运动的基本形式': 34, '地理': 35, '垄断组织的出现': 36, '培养基与无菌技术': 37, '基因工程的原理及技术': 38, '基因工程的概念': 39, '基因的分离规律的实质及应用': 40, '基因的自由组合规律的实质及应用': 41, '复等位基因': 42, '夏商两代的政治制度': 43, '太阳对地球的影响': 44, '宇宙中的地球': 45, '工业区位因素': 46, '拉马克的进化学说': 47, '政治': 48, '文艺的春天': 49, '核糖体的结构和功能': 50, '海峡两岸关系的发展': 51, '液泡的结构和功能': 52, '清末民主革命风潮': 53, '溶酶体的结构和功能': 54, '激素调节': 55, '现代史': 56, '现代生物技术专题': 57, '生产活动与地域联系': 58, '生命活动离不开细胞': 59, '生态系统的营养结构': 60, '生活中的法律常识': 61, '生物': 62, '生物工程技术': 63, '生物性污染': 64, '生物技术在其他方面的应用': 65, '生物技术实践': 66, '生物科学与社会': 67, '皇帝制度': 68, '社会主义市场经济的伦理要求': 69, '社会主义是中国人民的历史性选择': 70, '神经调节和体液调节的比较': 71, '科学社会主义常识': 72, '稳态与环境': 73, '第三产业的兴起和“新经济”的出现': 74, '组成细胞的化合物': 75, '组成细胞的化学元素': 76, '细胞大小与物质运输的关系': 77, '细胞有丝分裂不同时期的特点': 78, '细胞的多样性和统一性': 79, '经济学常识': 80, '群落的结构': 81, '胚胎移植': 82, '蛋白质的合成': 83, '血糖平衡的调节': 84, '走进细胞': 85, '近代史': 86, '选官、用官制度的变化': 87, '遗传与进化': 88, '遗传的分子基础': 89, '遗传的细胞基础': 90, '避孕的原理和方法': 91, '郡县制': 92, '高中': 93, '高尔基体的结构和功能': 94}\u001b[0m\n"
     ]
    }
   ],
   "source": [
    "dataset = Baidu95()\n",
    "reader = hub.reader.MultiLabelClassifyReader(\n",
    "    dataset=dataset,\n",
    "    vocab_path=module.get_vocab_path(),\n",
    "    max_seq_len=max_seq_len,\n",
    "    use_task_id=False)\n",
    "metrics_choices = ['acc','f1']"
   ]
  },
  {
   "cell_type": "markdown",
   "metadata": {
    "collapsed": false
   },
   "source": [
    "# 优化器设置"
   ]
  },
  {
   "cell_type": "code",
   "execution_count": null,
   "metadata": {
    "collapsed": false
   },
   "outputs": [
    {
     "name": "stderr",
     "output_type": "stream",
     "text": [
      "\u001b[32m[2020-03-01 21:04:26,907] [    INFO] - Checkpoint dir: ckpt_20200301210426\u001b[0m\n"
     ]
    }
   ],
   "source": [
    "strategy = hub.AdamWeightDecayStrategy(\n",
    "    learning_rate=5e-5,\n",
    "    weight_decay=0.01,\n",
    "    warmup_proportion=0.0,\n",
    "    lr_scheduler=\"linear_decay\",\n",
    ")\n",
    "\n",
    "config = hub.RunConfig(use_cuda=True, num_epoch=5, batch_size=32, strategy=strategy)"
   ]
  },
  {
   "cell_type": "markdown",
   "metadata": {
    "collapsed": false
   },
   "source": [
    "# 运行模型"
   ]
  },
  {
   "cell_type": "code",
   "execution_count": null,
   "metadata": {
    "collapsed": false
   },
   "outputs": [],
   "source": [
    "# Define a classfication finetune task by PaddleHub's API\n",
    "pooled_output = outputs[\"pooled_output\"]\n",
    "feed_list = [\n",
    "        inputs[\"input_ids\"].name, \n",
    "        inputs[\"position_ids\"].name,\n",
    "        inputs[\"segment_ids\"].name,\n",
    "        inputs[\"input_mask\"].name\n",
    "    ]\n",
    "    \n",
    "multi_label_cls_task = hub.MultiLabelClassifierTask(\n",
    "    data_reader=reader,\n",
    "    feature=pooled_output,\n",
    "    feed_list=feed_list,\n",
    "    num_classes=dataset.num_labels,\n",
    "    config=config)"
   ]
  },
  {
   "cell_type": "code",
   "execution_count": 33,
   "metadata": {
    "collapsed": false
   },
   "outputs": [
    {
     "name": "stderr",
     "output_type": "stream",
     "text": [
      "\u001b[32m[2020-03-01 21:06:25,337] [    INFO] - PaddleHub finetune start\u001b[0m\n",
      "\u001b[36m[2020-03-01 21:06:30,689] [   TRAIN] - step 20 / 705: loss=9.77301 auc=0.49437 auc_“重农抑商”政策=0.57934 auc_不完全显性=0.40746 auc_与细胞分裂有关的细胞器=0.42031 auc_中央官制——三公九卿制=0.55427 auc_中心体的结构和功能=0.46659 auc_人体免疫系统在维持稳态中的作用=0.60898 auc_人体水盐平衡调节=0.60219 auc_人体的体温调节=0.49780 auc_人口与城市=0.38321 auc_人口增长与人口问题=0.42704 auc_人口迁移与人口流动=0.36719 auc_人工授精、试管婴儿等生殖技术=0.53354 auc_伴性遗传=0.47908 auc_体液免疫的概念和过程=0.58285 auc_免疫系统的功能=0.61374 auc_免疫系统的组成=0.58770 auc_公民道德与伦理常识=0.46795 auc_兴奋在神经元之间的传递=0.49388 auc_兴奋在神经纤维上的传导=0.56420 auc_内环境的稳态=0.55572 auc_内质网的结构和功能=0.49728 auc_农业区位因素=0.72576 auc_减数分裂与有丝分裂的比较=0.49517 auc_减数分裂的概念=0.48851 auc_分子与细胞=0.52601 auc_劳动就业与守法经营=0.46257 auc_历史=0.51521 auc_古代史=0.49807 auc_器官移植=0.60180 auc_地球与地图=0.25410 auc_地球所处的宇宙环境=0.51257 auc_地球的内部圈层结构及特点=0.49784 auc_地球的外部圈层结构及特点=0.54857 auc_地球运动的地理意义=0.51094 auc_地球运动的基本形式=0.51656 auc_地理=0.54446 auc_垄断组织的出现=0.45287 auc_培养基与无菌技术=0.51673 auc_基因工程的原理及技术=0.53358 auc_基因工程的概念=0.59918 auc_基因的分离规律的实质及应用=0.43071 auc_基因的自由组合规律的实质及应用=0.35839 auc_复等位基因=0.62021 auc_夏商两代的政治制度=0.53794 auc_太阳对地球的影响=0.63124 auc_宇宙中的地球=0.55604 auc_工业区位因素=0.45652 auc_拉马克的进化学说=0.41432 auc_政治=0.51272 auc_文艺的春天=0.51932 auc_核糖体的结构和功能=0.51816 auc_海峡两岸关系的发展=0.52272 auc_液泡的结构和功能=0.55923 auc_清末民主革命风潮=0.40741 auc_溶酶体的结构和功能=0.56505 auc_激素调节=0.62367 auc_现代史=0.44573 auc_现代生物技术专题=0.45547 auc_生产活动与地域联系=0.51038 auc_生命活动离不开细胞=0.52635 auc_生态系统的营养结构=0.45517 auc_生活中的法律常识=0.00000 auc_生物=0.61583 auc_生物工程技术=0.44563 auc_生物性污染=0.46139 auc_生物技术在其他方面的应用=0.51605 auc_生物技术实践=0.52895 auc_生物科学与社会=0.57584 auc_皇帝制度=0.55640 auc_社会主义市场经济的伦理要求=0.45283 auc_社会主义是中国人民的历史性选择=0.54375 auc_神经调节和体液调节的比较=0.65830 auc_科学社会主义常识=0.53251 auc_稳态与环境=0.56022 auc_第三产业的兴起和“新经济”的出现=0.46991 auc_组成细胞的化合物=0.60696 auc_组成细胞的化学元素=0.58634 auc_细胞大小与物质运输的关系=0.46983 auc_细胞有丝分裂不同时期的特点=0.46258 auc_细胞的多样性和统一性=0.60095 auc_经济学常识=0.00000 auc_群落的结构=0.38814 auc_胚胎移植=0.55202 auc_蛋白质的合成=0.42135 auc_血糖平衡的调节=0.47538 auc_走进细胞=0.50215 auc_近代史=0.55801 auc_选官、用官制度的变化=0.46947 auc_遗传与进化=0.50128 auc_遗传的分子基础=0.41394 auc_遗传的细胞基础=0.43328 auc_避孕的原理和方法=0.46923 auc_郡县制=0.53549 auc_高中=0.00000 auc_高尔基体的结构和功能=0.48358 [step/sec: 1.32]\u001b[0m\n",
      "\u001b[36m[2020-03-01 21:06:38,254] [   TRAIN] - step 30 / 705: loss=7.33312 auc=0.49241 auc_“重农抑商”政策=0.61480 auc_不完全显性=0.44161 auc_与细胞分裂有关的细胞器=0.46382 auc_中央官制——三公九卿制=0.61501 auc_中心体的结构和功能=0.45735 auc_人体免疫系统在维持稳态中的作用=0.47284 auc_人体水盐平衡调节=0.58860 auc_人体的体温调节=0.52129 auc_人口与城市=0.50478 auc_人口增长与人口问题=0.50115 auc_人口迁移与人口流动=0.50876 auc_人工授精、试管婴儿等生殖技术=0.54626 auc_伴性遗传=0.49271 auc_体液免疫的概念和过程=0.47549 auc_免疫系统的功能=0.46239 auc_免疫系统的组成=0.48464 auc_公民道德与伦理常识=0.52625 auc_兴奋在神经元之间的传递=0.55135 auc_兴奋在神经纤维上的传导=0.57614 auc_内环境的稳态=0.46776 auc_内质网的结构和功能=0.47136 auc_农业区位因素=0.64673 auc_减数分裂与有丝分裂的比较=0.53146 auc_减数分裂的概念=0.51999 auc_分子与细胞=0.47009 auc_劳动就业与守法经营=0.54368 auc_历史=0.50514 auc_古代史=0.57067 auc_器官移植=0.43416 auc_地球与地图=0.49243 auc_地球所处的宇宙环境=0.49199 auc_地球的内部圈层结构及特点=0.48177 auc_地球的外部圈层结构及特点=0.50864 auc_地球运动的地理意义=0.52259 auc_地球运动的基本形式=0.52060 auc_地理=0.56675 auc_垄断组织的出现=0.42738 auc_培养基与无菌技术=0.50299 auc_基因工程的原理及技术=0.46049 auc_基因工程的概念=0.49230 auc_基因的分离规律的实质及应用=0.49443 auc_基因的自由组合规律的实质及应用=0.39555 auc_复等位基因=0.55573 auc_夏商两代的政治制度=0.59204 auc_太阳对地球的影响=0.57568 auc_宇宙中的地球=0.55193 auc_工业区位因素=0.48442 auc_拉马克的进化学说=0.43497 auc_政治=0.55855 auc_文艺的春天=0.44120 auc_核糖体的结构和功能=0.49196 auc_海峡两岸关系的发展=0.48738 auc_液泡的结构和功能=0.50161 auc_清末民主革命风潮=0.43323 auc_溶酶体的结构和功能=0.52005 auc_激素调节=0.54504 auc_现代史=0.45553 auc_现代生物技术专题=0.43110 auc_生产活动与地域联系=0.49756 auc_生命活动离不开细胞=0.54578 auc_生态系统的营养结构=0.58844 auc_生活中的法律常识=0.00000 auc_生物=0.62747 auc_生物工程技术=0.49936 auc_生物性污染=0.48947 auc_生物技术在其他方面的应用=0.49819 auc_生物技术实践=0.55339 auc_生物科学与社会=0.56713 auc_皇帝制度=0.59463 auc_社会主义市场经济的伦理要求=0.51327 auc_社会主义是中国人民的历史性选择=0.55355 auc_神经调节和体液调节的比较=0.58011 auc_科学社会主义常识=0.54606 auc_稳态与环境=0.51876 auc_第三产业的兴起和“新经济”的出现=0.45306 auc_组成细胞的化合物=0.53622 auc_组成细胞的化学元素=0.55051 auc_细胞大小与物质运输的关系=0.52425 auc_细胞有丝分裂不同时期的特点=0.52349 auc_细胞的多样性和统一性=0.50068 auc_经济学常识=0.00000 auc_群落的结构=0.39562 auc_胚胎移植=0.38770 auc_蛋白质的合成=0.44961 auc_血糖平衡的调节=0.51767 auc_走进细胞=0.46547 auc_近代史=0.47879 auc_选官、用官制度的变化=0.49361 auc_遗传与进化=0.45750 auc_遗传的分子基础=0.46313 auc_遗传的细胞基础=0.45662 auc_避孕的原理和方法=0.50137 auc_郡县制=0.58200 auc_高中=0.00000 auc_高尔基体的结构和功能=0.48384 [step/sec: 1.33]\u001b[0m\n",
      "\u001b[36m[2020-03-01 21:06:45,808] [   TRAIN] - step 40 / 705: loss=6.03262 auc=0.49282 auc_“重农抑商”政策=0.54339 auc_不完全显性=0.50073 auc_与细胞分裂有关的细胞器=0.48139 auc_中央官制——三公九卿制=0.54526 auc_中心体的结构和功能=0.46716 auc_人体免疫系统在维持稳态中的作用=0.50804 auc_人体水盐平衡调节=0.57372 auc_人体的体温调节=0.51952 auc_人口与城市=0.44935 auc_人口增长与人口问题=0.43782 auc_人口迁移与人口流动=0.46957 auc_人工授精、试管婴儿等生殖技术=0.60818 auc_伴性遗传=0.51676 auc_体液免疫的概念和过程=0.52031 auc_免疫系统的功能=0.50061 auc_免疫系统的组成=0.51109 auc_公民道德与伦理常识=0.54509 auc_兴奋在神经元之间的传递=0.52223 auc_兴奋在神经纤维上的传导=0.54474 auc_内环境的稳态=0.50984 auc_内质网的结构和功能=0.47204 auc_农业区位因素=0.58600 auc_减数分裂与有丝分裂的比较=0.54551 auc_减数分裂的概念=0.60170 auc_分子与细胞=0.47197 auc_劳动就业与守法经营=0.57595 auc_历史=0.51754 auc_古代史=0.51563 auc_器官移植=0.34552 auc_地球与地图=0.61632 auc_地球所处的宇宙环境=0.45586 auc_地球的内部圈层结构及特点=0.46258 auc_地球的外部圈层结构及特点=0.48182 auc_地球运动的地理意义=0.56431 auc_地球运动的基本形式=0.50552 auc_地理=0.59780 auc_垄断组织的出现=0.42057 auc_培养基与无菌技术=0.47913 auc_基因工程的原理及技术=0.46127 auc_基因工程的概念=0.50194 auc_基因的分离规律的实质及应用=0.52476 auc_基因的自由组合规律的实质及应用=0.38507 auc_复等位基因=0.49217 auc_夏商两代的政治制度=0.54383 auc_太阳对地球的影响=0.55322 auc_宇宙中的地球=0.58208 auc_工业区位因素=0.50317 auc_拉马克的进化学说=0.44677 auc_政治=0.58205 auc_文艺的春天=0.42288 auc_核糖体的结构和功能=0.50642 auc_海峡两岸关系的发展=0.48124 auc_液泡的结构和功能=0.50345 auc_清末民主革命风潮=0.36377 auc_溶酶体的结构和功能=0.51848 auc_激素调节=0.55939 auc_现代史=0.41613 auc_现代生物技术专题=0.40197 auc_生产活动与地域联系=0.52045 auc_生命活动离不开细胞=0.55119 auc_生态系统的营养结构=0.63208 auc_生活中的法律常识=0.00000 auc_生物=0.71541 auc_生物工程技术=0.45765 auc_生物性污染=0.52350 auc_生物技术在其他方面的应用=0.46749 auc_生物技术实践=0.52020 auc_生物科学与社会=0.59293 auc_皇帝制度=0.53837 auc_社会主义市场经济的伦理要求=0.52855 auc_社会主义是中国人民的历史性选择=0.59047 auc_神经调节和体液调节的比较=0.54950 auc_科学社会主义常识=0.58413 auc_稳态与环境=0.55352 auc_第三产业的兴起和“新经济”的出现=0.44167 auc_组成细胞的化合物=0.54834 auc_组成细胞的化学元素=0.54666 auc_细胞大小与物质运输的关系=0.55522 auc_细胞有丝分裂不同时期的特点=0.59060 auc_细胞的多样性和统一性=0.48343 auc_经济学常识=0.00000 auc_群落的结构=0.46972 auc_胚胎移植=0.29171 auc_蛋白质的合成=0.46488 auc_血糖平衡的调节=0.50989 auc_走进细胞=0.48350 auc_近代史=0.46845 auc_选官、用官制度的变化=0.41239 auc_遗传与进化=0.48413 auc_遗传的分子基础=0.49205 auc_遗传的细胞基础=0.48186 auc_避孕的原理和方法=0.53879 auc_郡县制=0.50878 auc_高中=0.00000 auc_高尔基体的结构和功能=0.47994 [step/sec: 1.33]\u001b[0m\n",
      "\u001b[36m[2020-03-01 21:06:53,349] [   TRAIN] - step 50 / 705: loss=5.50304 auc=0.49701 auc_“重农抑商”政策=0.52385 auc_不完全显性=0.54770 auc_与细胞分裂有关的细胞器=0.50557 auc_中央官制——三公九卿制=0.53348 auc_中心体的结构和功能=0.47972 auc_人体免疫系统在维持稳态中的作用=0.46051 auc_人体水盐平衡调节=0.52843 auc_人体的体温调节=0.48254 auc_人口与城市=0.49000 auc_人口增长与人口问题=0.48259 auc_人口迁移与人口流动=0.47883 auc_人工授精、试管婴儿等生殖技术=0.67593 auc_伴性遗传=0.57279 auc_体液免疫的概念和过程=0.47223 auc_免疫系统的功能=0.44116 auc_免疫系统的组成=0.45753 auc_公民道德与伦理常识=0.58817 auc_兴奋在神经元之间的传递=0.46343 auc_兴奋在神经纤维上的传导=0.48444 auc_内环境的稳态=0.51101 auc_内质网的结构和功能=0.45664 auc_农业区位因素=0.49811 auc_减数分裂与有丝分裂的比较=0.57483 auc_减数分裂的概念=0.56528 auc_分子与细胞=0.47995 auc_劳动就业与守法经营=0.55039 auc_历史=0.59235 auc_古代史=0.48346 auc_器官移植=0.38754 auc_地球与地图=0.35676 auc_地球所处的宇宙环境=0.50755 auc_地球的内部圈层结构及特点=0.46718 auc_地球的外部圈层结构及特点=0.47175 auc_地球运动的地理意义=0.59398 auc_地球运动的基本形式=0.51138 auc_地理=0.66879 auc_垄断组织的出现=0.46415 auc_培养基与无菌技术=0.48779 auc_基因工程的原理及技术=0.45398 auc_基因工程的概念=0.50508 auc_基因的分离规律的实质及应用=0.54514 auc_基因的自由组合规律的实质及应用=0.43459 auc_复等位基因=0.49567 auc_夏商两代的政治制度=0.52503 auc_太阳对地球的影响=0.57588 auc_宇宙中的地球=0.65500 auc_工业区位因素=0.48201 auc_拉马克的进化学说=0.45501 auc_政治=0.61850 auc_文艺的春天=0.47259 auc_核糖体的结构和功能=0.50599 auc_海峡两岸关系的发展=0.54099 auc_液泡的结构和功能=0.51865 auc_清末民主革命风潮=0.40260 auc_溶酶体的结构和功能=0.51687 auc_激素调节=0.50356 auc_现代史=0.46120 auc_现代生物技术专题=0.45478 auc_生产活动与地域联系=0.48601 auc_生命活动离不开细胞=0.54853 auc_生态系统的营养结构=0.58058 auc_生活中的法律常识=0.00000 auc_生物=0.81054 auc_生物工程技术=0.46428 auc_生物性污染=0.59883 auc_生物技术在其他方面的应用=0.49276 auc_生物技术实践=0.50569 auc_生物科学与社会=0.64583 auc_皇帝制度=0.53150 auc_社会主义市场经济的伦理要求=0.55919 auc_社会主义是中国人民的历史性选择=0.51246 auc_神经调节和体液调节的比较=0.48873 auc_科学社会主义常识=0.55134 auc_稳态与环境=0.54486 auc_第三产业的兴起和“新经济”的出现=0.49803 auc_组成细胞的化合物=0.55990 auc_组成细胞的化学元素=0.55514 auc_细胞大小与物质运输的关系=0.55136 auc_细胞有丝分裂不同时期的特点=0.56935 auc_细胞的多样性和统一性=0.50031 auc_经济学常识=0.00000 auc_群落的结构=0.45590 auc_胚胎移植=0.34716 auc_蛋白质的合成=0.51137 auc_血糖平衡的调节=0.46668 auc_走进细胞=0.45808 auc_近代史=0.47454 auc_选官、用官制度的变化=0.37630 auc_遗传与进化=0.50056 auc_遗传的分子基础=0.54998 auc_遗传的细胞基础=0.54540 auc_避孕的原理和方法=0.60623 auc_郡县制=0.46848 auc_高中=0.00000 auc_高尔基体的结构和功能=0.47946 [step/sec: 1.33]\u001b[0m\n",
      "\u001b[36m[2020-03-01 21:07:00,732] [   TRAIN] - step 60 / 705: loss=5.04406 auc=0.52013 auc_“重农抑商”政策=0.56553 auc_不完全显性=0.56122 auc_与细胞分裂有关的细胞器=0.50704 auc_中央官制——三公九卿制=0.58999 auc_中心体的结构和功能=0.52284 auc_人体免疫系统在维持稳态中的作用=0.48431 auc_人体水盐平衡调节=0.49228 auc_人体的体温调节=0.43528 auc_人口与城市=0.53809 auc_人口增长与人口问题=0.50713 auc_人口迁移与人口流动=0.53547 auc_人工授精、试管婴儿等生殖技术=0.74861 auc_伴性遗传=0.59018 auc_体液免疫的概念和过程=0.50924 auc_免疫系统的功能=0.48183 auc_免疫系统的组成=0.48960 auc_公民道德与伦理常识=0.64768 auc_兴奋在神经元之间的传递=0.47227 auc_兴奋在神经纤维上的传导=0.47254 auc_内环境的稳态=0.54074 auc_内质网的结构和功能=0.45663 auc_农业区位因素=0.42874 auc_减数分裂与有丝分裂的比较=0.63276 auc_减数分裂的概念=0.57755 auc_分子与细胞=0.50179 auc_劳动就业与守法经营=0.51515 auc_历史=0.66323 auc_古代史=0.50584 auc_器官移植=0.41797 auc_地球与地图=0.44519 auc_地球所处的宇宙环境=0.50402 auc_地球的内部圈层结构及特点=0.50498 auc_地球的外部圈层结构及特点=0.49356 auc_地球运动的地理意义=0.62729 auc_地球运动的基本形式=0.47005 auc_地理=0.72752 auc_垄断组织的出现=0.48743 auc_培养基与无菌技术=0.49697 auc_基因工程的原理及技术=0.44967 auc_基因工程的概念=0.51151 auc_基因的分离规律的实质及应用=0.58691 auc_基因的自由组合规律的实质及应用=0.46643 auc_复等位基因=0.47550 auc_夏商两代的政治制度=0.57151 auc_太阳对地球的影响=0.60344 auc_宇宙中的地球=0.72377 auc_工业区位因素=0.49767 auc_拉马克的进化学说=0.45126 auc_政治=0.68317 auc_文艺的春天=0.53323 auc_核糖体的结构和功能=0.51838 auc_海峡两岸关系的发展=0.59890 auc_液泡的结构和功能=0.55035 auc_清末民主革命风潮=0.47508 auc_溶酶体的结构和功能=0.52924 auc_激素调节=0.47953 auc_现代史=0.50992 auc_现代生物技术专题=0.50665 auc_生产活动与地域联系=0.48468 auc_生命活动离不开细胞=0.55091 auc_生态系统的营养结构=0.61412 auc_生活中的法律常识=0.00000 auc_生物=0.86404 auc_生物工程技术=0.44675 auc_生物性污染=0.67933 auc_生物技术在其他方面的应用=0.50721 auc_生物技术实践=0.50804 auc_生物科学与社会=0.69966 auc_皇帝制度=0.60973 auc_社会主义市场经济的伦理要求=0.60652 auc_社会主义是中国人民的历史性选择=0.51100 auc_神经调节和体液调节的比较=0.48812 auc_科学社会主义常识=0.56234 auc_稳态与环境=0.57708 auc_第三产业的兴起和“新经济”的出现=0.53952 auc_组成细胞的化合物=0.58084 auc_组成细胞的化学元素=0.57095 auc_细胞大小与物质运输的关系=0.55122 auc_细胞有丝分裂不同时期的特点=0.58321 auc_细胞的多样性和统一性=0.48365 auc_经济学常识=0.00000 auc_群落的结构=0.42256 auc_胚胎移植=0.38488 auc_蛋白质的合成=0.50849 auc_血糖平衡的调节=0.44872 auc_走进细胞=0.49472 auc_近代史=0.51018 auc_选官、用官制度的变化=0.34581 auc_遗传与进化=0.49687 auc_遗传的分子基础=0.60744 auc_遗传的细胞基础=0.58941 auc_避孕的原理和方法=0.68734 auc_郡县制=0.50846 auc_高中=0.00000 auc_高尔基体的结构和功能=0.51815 [step/sec: 1.36]\u001b[0m\n",
      "\u001b[36m[2020-03-01 21:07:08,200] [   TRAIN] - step 70 / 705: loss=4.68798 auc=0.54596 auc_“重农抑商”政策=0.61074 auc_不完全显性=0.59843 auc_与细胞分裂有关的细胞器=0.53350 auc_中央官制——三公九卿制=0.65556 auc_中心体的结构和功能=0.57680 auc_人体免疫系统在维持稳态中的作用=0.51457 auc_人体水盐平衡调节=0.48169 auc_人体的体温调节=0.43575 auc_人口与城市=0.55740 auc_人口增长与人口问题=0.51513 auc_人口迁移与人口流动=0.53648 auc_人工授精、试管婴儿等生殖技术=0.79883 auc_伴性遗传=0.60082 auc_体液免疫的概念和过程=0.55508 auc_免疫系统的功能=0.52609 auc_免疫系统的组成=0.53088 auc_公民道德与伦理常识=0.70084 auc_兴奋在神经元之间的传递=0.41885 auc_兴奋在神经纤维上的传导=0.43633 auc_内环境的稳态=0.58999 auc_内质网的结构和功能=0.48498 auc_农业区位因素=0.41921 auc_减数分裂与有丝分裂的比较=0.68034 auc_减数分裂的概念=0.61635 auc_分子与细胞=0.53796 auc_劳动就业与守法经营=0.52901 auc_历史=0.72818 auc_古代史=0.56935 auc_器官移植=0.45184 auc_地球与地图=0.51631 auc_地球所处的宇宙环境=0.51342 auc_地球的内部圈层结构及特点=0.50411 auc_地球的外部圈层结构及特点=0.46597 auc_地球运动的地理意义=0.66201 auc_地球运动的基本形式=0.48859 auc_地理=0.77333 auc_垄断组织的出现=0.51203 auc_培养基与无菌技术=0.51903 auc_基因工程的原理及技术=0.46393 auc_基因工程的概念=0.50533 auc_基因的分离规律的实质及应用=0.60381 auc_基因的自由组合规律的实质及应用=0.52240 auc_复等位基因=0.47995 auc_夏商两代的政治制度=0.62362 auc_太阳对地球的影响=0.60692 auc_宇宙中的地球=0.77833 auc_工业区位因素=0.52067 auc_拉马克的进化学说=0.46140 auc_政治=0.73545 auc_文艺的春天=0.57549 auc_核糖体的结构和功能=0.56849 auc_海峡两岸关系的发展=0.61231 auc_液泡的结构和功能=0.60747 auc_清末民主革命风潮=0.52025 auc_溶酶体的结构和功能=0.56610 auc_激素调节=0.44823 auc_现代史=0.54305 auc_现代生物技术专题=0.51681 auc_生产活动与地域联系=0.51221 auc_生命活动离不开细胞=0.55263 auc_生态系统的营养结构=0.57748 auc_生活中的法律常识=0.00000 auc_生物=0.89795 auc_生物工程技术=0.45248 auc_生物性污染=0.74143 auc_生物技术在其他方面的应用=0.53451 auc_生物技术实践=0.53788 auc_生物科学与社会=0.74587 auc_皇帝制度=0.69597 auc_社会主义市场经济的伦理要求=0.66413 auc_社会主义是中国人民的历史性选择=0.54110 auc_神经调节和体液调节的比较=0.45280 auc_科学社会主义常识=0.57996 auc_稳态与环境=0.61113 auc_第三产业的兴起和“新经济”的出现=0.57233 auc_组成细胞的化合物=0.59983 auc_组成细胞的化学元素=0.58617 auc_细胞大小与物质运输的关系=0.58578 auc_细胞有丝分裂不同时期的特点=0.57367 auc_细胞的多样性和统一性=0.50097 auc_经济学常识=0.00000 auc_群落的结构=0.37032 auc_胚胎移植=0.43082 auc_蛋白质的合成=0.53492 auc_血糖平衡的调节=0.45545 auc_走进细胞=0.51390 auc_近代史=0.53725 auc_选官、用官制度的变化=0.36028 auc_遗传与进化=0.52381 auc_遗传的分子基础=0.66157 auc_遗传的细胞基础=0.64384 auc_避孕的原理和方法=0.74937 auc_郡县制=0.58468 auc_高中=0.00000 auc_高尔基体的结构和功能=0.57766 [step/sec: 1.34]\u001b[0m\n",
      "\u001b[36m[2020-03-01 21:07:15,745] [   TRAIN] - step 80 / 705: loss=4.27507 auc=0.57064 auc_“重农抑商”政策=0.66146 auc_不完全显性=0.62355 auc_与细胞分裂有关的细胞器=0.55863 auc_中央官制——三公九卿制=0.73127 auc_中心体的结构和功能=0.61601 auc_人体免疫系统在维持稳态中的作用=0.54148 auc_人体水盐平衡调节=0.49435 auc_人体的体温调节=0.43925 auc_人口与城市=0.53358 auc_人口增长与人口问题=0.50883 auc_人口迁移与人口流动=0.48714 auc_人工授精、试管婴儿等生殖技术=0.83079 auc_伴性遗传=0.61958 auc_体液免疫的概念和过程=0.58357 auc_免疫系统的功能=0.56522 auc_免疫系统的组成=0.56635 auc_公民道德与伦理常识=0.73302 auc_兴奋在神经元之间的传递=0.44336 auc_兴奋在神经纤维上的传导=0.45856 auc_内环境的稳态=0.62443 auc_内质网的结构和功能=0.52195 auc_农业区位因素=0.41912 auc_减数分裂与有丝分裂的比较=0.70707 auc_减数分裂的概念=0.64745 auc_分子与细胞=0.57306 auc_劳动就业与守法经营=0.55783 auc_历史=0.78266 auc_古代史=0.64292 auc_器官移植=0.45956 auc_地球与地图=0.57152 auc_地球所处的宇宙环境=0.53146 auc_地球的内部圈层结构及特点=0.53947 auc_地球的外部圈层结构及特点=0.46134 auc_地球运动的地理意义=0.70054 auc_地球运动的基本形式=0.50796 auc_地理=0.81372 auc_垄断组织的出现=0.51183 auc_培养基与无菌技术=0.54519 auc_基因工程的原理及技术=0.49685 auc_基因工程的概念=0.53313 auc_基因的分离规律的实质及应用=0.64073 auc_基因的自由组合规律的实质及应用=0.58128 auc_复等位基因=0.51080 auc_夏商两代的政治制度=0.68001 auc_太阳对地球的影响=0.56225 auc_宇宙中的地球=0.82312 auc_工业区位因素=0.52356 auc_拉马克的进化学说=0.50468 auc_政治=0.76825 auc_文艺的春天=0.61468 auc_核糖体的结构和功能=0.60320 auc_海峡两岸关系的发展=0.61440 auc_液泡的结构和功能=0.64040 auc_清末民主革命风潮=0.54685 auc_溶酶体的结构和功能=0.60087 auc_激素调节=0.42101 auc_现代史=0.59214 auc_现代生物技术专题=0.53758 auc_生产活动与地域联系=0.51420 auc_生命活动离不开细胞=0.56716 auc_生态系统的营养结构=0.55634 auc_生活中的法律常识=0.00000 auc_生物=0.92045 auc_生物工程技术=0.49390 auc_生物性污染=0.78428 auc_生物技术在其他方面的应用=0.56416 auc_生物技术实践=0.56661 auc_生物科学与社会=0.77615 auc_皇帝制度=0.76592 auc_社会主义市场经济的伦理要求=0.70683 auc_社会主义是中国人民的历史性选择=0.56138 auc_神经调节和体液调节的比较=0.47754 auc_科学社会主义常识=0.60161 auc_稳态与环境=0.65007 auc_第三产业的兴起和“新经济”的出现=0.58578 auc_组成细胞的化合物=0.60551 auc_组成细胞的化学元素=0.59829 auc_细胞大小与物质运输的关系=0.58136 auc_细胞有丝分裂不同时期的特点=0.60363 auc_细胞的多样性和统一性=0.51807 auc_经济学常识=0.00000 auc_群落的结构=0.36143 auc_胚胎移植=0.43446 auc_蛋白质的合成=0.51409 auc_血糖平衡的调节=0.47785 auc_走进细胞=0.53655 auc_近代史=0.54891 auc_选官、用官制度的变化=0.38856 auc_遗传与进化=0.55319 auc_遗传的分子基础=0.71579 auc_遗传的细胞基础=0.69425 auc_避孕的原理和方法=0.79021 auc_郡县制=0.66525 auc_高中=0.00000 auc_高尔基体的结构和功能=0.62021 [step/sec: 1.33]\u001b[0m\n",
      "\u001b[36m[2020-03-01 21:07:23,225] [   TRAIN] - step 90 / 705: loss=3.77350 auc=0.59744 auc_“重农抑商”政策=0.70657 auc_不完全显性=0.64288 auc_与细胞分裂有关的细胞器=0.58892 auc_中央官制——三公九卿制=0.77487 auc_中心体的结构和功能=0.64827 auc_人体免疫系统在维持稳态中的作用=0.56597 auc_人体水盐平衡调节=0.52337 auc_人体的体温调节=0.45714 auc_人口与城市=0.54835 auc_人口增长与人口问题=0.50950 auc_人口迁移与人口流动=0.49686 auc_人工授精、试管婴儿等生殖技术=0.86160 auc_伴性遗传=0.64402 auc_体液免疫的概念和过程=0.61557 auc_免疫系统的功能=0.59472 auc_免疫系统的组成=0.60246 auc_公民道德与伦理常识=0.76469 auc_兴奋在神经元之间的传递=0.47558 auc_兴奋在神经纤维上的传导=0.48125 auc_内环境的稳态=0.65895 auc_内质网的结构和功能=0.56044 auc_农业区位因素=0.41679 auc_减数分裂与有丝分裂的比较=0.73177 auc_减数分裂的概念=0.66624 auc_分子与细胞=0.60172 auc_劳动就业与守法经营=0.58542 auc_历史=0.81638 auc_古代史=0.69565 auc_器官移植=0.48544 auc_地球与地图=0.61596 auc_地球所处的宇宙环境=0.56080 auc_地球的内部圈层结构及特点=0.57217 auc_地球的外部圈层结构及特点=0.47631 auc_地球运动的地理意义=0.73839 auc_地球运动的基本形式=0.52290 auc_地理=0.84502 auc_垄断组织的出现=0.53176 auc_培养基与无菌技术=0.57361 auc_基因工程的原理及技术=0.52440 auc_基因工程的概念=0.55032 auc_基因的分离规律的实质及应用=0.67924 auc_基因的自由组合规律的实质及应用=0.62857 auc_复等位基因=0.54045 auc_夏商两代的政治制度=0.72550 auc_太阳对地球的影响=0.57984 auc_宇宙中的地球=0.85486 auc_工业区位因素=0.52488 auc_拉马克的进化学说=0.52007 auc_政治=0.80413 auc_文艺的春天=0.64564 auc_核糖体的结构和功能=0.63637 auc_海峡两岸关系的发展=0.65290 auc_液泡的结构和功能=0.67668 auc_清末民主革命风潮=0.57734 auc_溶酶体的结构和功能=0.63398 auc_激素调节=0.40979 auc_现代史=0.63310 auc_现代生物技术专题=0.56117 auc_生产活动与地域联系=0.53237 auc_生命活动离不开细胞=0.57701 auc_生态系统的营养结构=0.52164 auc_生活中的法律常识=0.00000 auc_生物=0.93623 auc_生物工程技术=0.52134 auc_生物性污染=0.82457 auc_生物技术在其他方面的应用=0.59612 auc_生物技术实践=0.60164 auc_生物科学与社会=0.80822 auc_皇帝制度=0.80709 auc_社会主义市场经济的伦理要求=0.74452 auc_社会主义是中国人民的历史性选择=0.60479 auc_神经调节和体液调节的比较=0.50468 auc_科学社会主义常识=0.62222 auc_稳态与环境=0.68864 auc_第三产业的兴起和“新经济”的出现=0.60884 auc_组成细胞的化合物=0.62182 auc_组成细胞的化学元素=0.61479 auc_细胞大小与物质运输的关系=0.58740 auc_细胞有丝分裂不同时期的特点=0.61261 auc_细胞的多样性和统一性=0.54565 auc_经济学常识=0.00000 auc_群落的结构=0.37664 auc_胚胎移植=0.46597 auc_蛋白质的合成=0.52122 auc_血糖平衡的调节=0.51051 auc_走进细胞=0.56592 auc_近代史=0.58053 auc_选官、用官制度的变化=0.43985 auc_遗传与进化=0.58032 auc_遗传的分子基础=0.76934 auc_遗传的细胞基础=0.74575 auc_避孕的原理和方法=0.82903 auc_郡县制=0.71955 auc_高中=0.00000 auc_高尔基体的结构和功能=0.65268 [step/sec: 1.34]\u001b[0m\n",
      "\u001b[36m[2020-03-01 21:07:30,709] [   TRAIN] - step 100 / 705: loss=3.63704 auc=0.62143 auc_“重农抑商”政策=0.74304 auc_不完全显性=0.66016 auc_与细胞分裂有关的细胞器=0.62309 auc_中央官制——三公九卿制=0.81130 auc_中心体的结构和功能=0.68258 auc_人体免疫系统在维持稳态中的作用=0.60714 auc_人体水盐平衡调节=0.56101 auc_人体的体温调节=0.47974 auc_人口与城市=0.57197 auc_人口增长与人口问题=0.52110 auc_人口迁移与人口流动=0.51366 auc_人工授精、试管婴儿等生殖技术=0.88170 auc_伴性遗传=0.66324 auc_体液免疫的概念和过程=0.65657 auc_免疫系统的功能=0.63556 auc_免疫系统的组成=0.64504 auc_公民道德与伦理常识=0.79302 auc_兴奋在神经元之间的传递=0.44301 auc_兴奋在神经纤维上的传导=0.45456 auc_内环境的稳态=0.69525 auc_内质网的结构和功能=0.60014 auc_农业区位因素=0.41387 auc_减数分裂与有丝分裂的比较=0.75653 auc_减数分裂的概念=0.68559 auc_分子与细胞=0.62826 auc_劳动就业与守法经营=0.61520 auc_历史=0.84733 auc_古代史=0.73690 auc_器官移植=0.46888 auc_地球与地图=0.65227 auc_地球所处的宇宙环境=0.58520 auc_地球的内部圈层结构及特点=0.61033 auc_地球的外部圈层结构及特点=0.49104 auc_地球运动的地理意义=0.76718 auc_地球运动的基本形式=0.54842 auc_地理=0.86644 auc_垄断组织的出现=0.55854 auc_培养基与无菌技术=0.60076 auc_基因工程的原理及技术=0.54856 auc_基因工程的概念=0.56556 auc_基因的分离规律的实质及应用=0.71074 auc_基因的自由组合规律的实质及应用=0.67480 auc_复等位基因=0.56047 auc_夏商两代的政治制度=0.76365 auc_太阳对地球的影响=0.59848 auc_宇宙中的地球=0.87807 auc_工业区位因素=0.51475 auc_拉马克的进化学说=0.53217 auc_政治=0.83031 auc_文艺的春天=0.66704 auc_核糖体的结构和功能=0.67207 auc_海峡两岸关系的发展=0.63772 auc_液泡的结构和功能=0.70902 auc_清末民主革命风潮=0.59714 auc_溶酶体的结构和功能=0.66921 auc_激素调节=0.41918 auc_现代史=0.67855 auc_现代生物技术专题=0.56567 auc_生产活动与地域联系=0.54754 auc_生命活动离不开细胞=0.59704 auc_生态系统的营养结构=0.45609 auc_生活中的法律常识=0.18276 auc_生物=0.94765 auc_生物工程技术=0.54687 auc_生物性污染=0.85048 auc_生物技术在其他方面的应用=0.62846 auc_生物技术实践=0.62870 auc_生物科学与社会=0.82894 auc_皇帝制度=0.83888 auc_社会主义市场经济的伦理要求=0.77729 auc_社会主义是中国人民的历史性选择=0.64097 auc_神经调节和体液调节的比较=0.48590 auc_科学社会主义常识=0.64506 auc_稳态与环境=0.72773 auc_第三产业的兴起和“新经济”的出现=0.63709 auc_组成细胞的化合物=0.64465 auc_组成细胞的化学元素=0.63633 auc_细胞大小与物质运输的关系=0.59601 auc_细胞有丝分裂不同时期的特点=0.62010 auc_细胞的多样性和统一性=0.57979 auc_经济学常识=0.00000 auc_群落的结构=0.39455 auc_胚胎移植=0.45129 auc_蛋白质的合成=0.54726 auc_血糖平衡的调节=0.54994 auc_走进细胞=0.59621 auc_近代史=0.61823 auc_选官、用官制度的变化=0.47737 auc_遗传与进化=0.60065 auc_遗传的分子基础=0.80383 auc_遗传的细胞基础=0.78159 auc_避孕的原理和方法=0.85358 auc_郡县制=0.76377 auc_高中=0.00000 auc_高尔基体的结构和功能=0.68423 [step/sec: 1.34]\u001b[0m\n",
      "\u001b[32m[2020-03-01 21:07:30,710] [    INFO] - Evaluation on dev dataset start\u001b[0m\n",
      "WARNING:root:\n",
      "     You can try our memory optimize feature to save your memory usage:\n",
      "         # create a build_strategy variable to set memory optimize option\n",
      "         build_strategy = compiler.BuildStrategy()\n",
      "         build_strategy.enable_inplace = True\n",
      "         build_strategy.memory_optimize = True\n",
      "         \n",
      "         # pass the build_strategy to with_data_parallel API\n",
      "         compiled_prog = compiler.CompiledProgram(main).with_data_parallel(\n",
      "             loss_name=loss.name, build_strategy=build_strategy)\n",
      "      \n",
      "     !!! Memory optimize is our experimental feature !!!\n",
      "         some variables may be removed/reused internal to save memory usage, \n",
      "         in order to fetch the right value of the fetch_list, please set the \n",
      "         persistable property to true for each variable in fetch_list\n",
      "\n",
      "         # Sample\n",
      "         conv1 = fluid.layers.conv2d(data, 4, 5, 1, act=None) \n",
      "         # if you need to fetch conv1, then:\n",
      "         conv1.persistable = True\n",
      "\n",
      "                 \n",
      "share_vars_from is set, scope is ignored.\n",
      "\u001b[34m[2020-03-01 21:08:33,141] [    EVAL] - [dev dataset evaluation result] loss=3.69262 auc=0.78436 auc_“重农抑商”政策=0.95004 auc_不完全显性=0.77492 auc_与细胞分裂有关的细胞器=0.87139 auc_中央官制——三公九卿制=0.97129 auc_中心体的结构和功能=0.88773 auc_人体免疫系统在维持稳态中的作用=0.88080 auc_人体水盐平衡调节=0.68862 auc_人体的体温调节=0.49153 auc_人口与城市=0.68558 auc_人口增长与人口问题=0.50199 auc_人口迁移与人口流动=0.63204 auc_人工授精、试管婴儿等生殖技术=0.97372 auc_伴性遗传=0.80181 auc_体液免疫的概念和过程=0.88243 auc_免疫系统的功能=0.90057 auc_免疫系统的组成=0.89668 auc_公民道德与伦理常识=0.95842 auc_兴奋在神经元之间的传递=0.45177 auc_兴奋在神经纤维上的传导=0.45999 auc_内环境的稳态=0.91112 auc_内质网的结构和功能=0.85260 auc_农业区位因素=0.57675 auc_减数分裂与有丝分裂的比较=0.90683 auc_减数分裂的概念=0.86157 auc_分子与细胞=0.86255 auc_劳动就业与守法经营=0.87813 auc_历史=0.98018 auc_古代史=0.95655 auc_器官移植=0.63577 auc_地球与地图=0.27119 auc_地球所处的宇宙环境=0.78814 auc_地球的内部圈层结构及特点=0.87885 auc_地球的外部圈层结构及特点=0.75139 auc_地球运动的地理意义=0.93634 auc_地球运动的基本形式=0.77015 auc_地理=0.97593 auc_垄断组织的出现=0.79330 auc_培养基与无菌技术=0.84449 auc_基因工程的原理及技术=0.75109 auc_基因工程的概念=0.69336 auc_基因的分离规律的实质及应用=0.90344 auc_基因的自由组合规律的实质及应用=0.89360 auc_复等位基因=0.79291 auc_夏商两代的政治制度=0.96121 auc_太阳对地球的影响=0.82634 auc_宇宙中的地球=0.97960 auc_工业区位因素=0.63212 auc_拉马克的进化学说=0.55613 auc_政治=0.97660 auc_文艺的春天=0.87556 auc_核糖体的结构和功能=0.88647 auc_海峡两岸关系的发展=0.75189 auc_液泡的结构和功能=0.89632 auc_清末民主革命风潮=0.74947 auc_溶酶体的结构和功能=0.87471 auc_激素调节=0.46598 auc_现代史=0.90098 auc_现代生物技术专题=0.77452 auc_生产活动与地域联系=0.77437 auc_生命活动离不开细胞=0.74601 auc_生态系统的营养结构=0.42138 auc_生活中的法律常识=0.68274 auc_生物=0.99491 auc_生物工程技术=0.75907 auc_生物性污染=0.96694 auc_生物技术在其他方面的应用=0.85017 auc_生物技术实践=0.82358 auc_生物科学与社会=0.92603 auc_皇帝制度=0.97629 auc_社会主义市场经济的伦理要求=0.96093 auc_社会主义是中国人民的历史性选择=0.88666 auc_神经调节和体液调节的比较=0.46902 auc_科学社会主义常识=0.85258 auc_稳态与环境=0.91230 auc_第三产业的兴起和“新经济”的出现=0.82983 auc_组成细胞的化合物=0.83542 auc_组成细胞的化学元素=0.83259 auc_细胞大小与物质运输的关系=0.64230 auc_细胞有丝分裂不同时期的特点=0.78417 auc_细胞的多样性和统一性=0.81611 auc_经济学常识=0.00000 auc_群落的结构=0.46664 auc_胚胎移植=0.66737 auc_蛋白质的合成=0.73915 auc_血糖平衡的调节=0.68881 auc_走进细胞=0.78463 auc_近代史=0.84663 auc_选官、用官制度的变化=0.83256 auc_遗传与进化=0.78631 auc_遗传的分子基础=0.95096 auc_遗传的细胞基础=0.94990 auc_避孕的原理和方法=0.96920 auc_郡县制=0.96620 auc_高中=0.00000 auc_高尔基体的结构和功能=0.88660 [step/sec: 4.84]\u001b[0m\n",
      "\u001b[34m[2020-03-01 21:08:33,142] [    EVAL] - best model saved to ckpt_20200301210426/best_model [best auc=0.78436]\u001b[0m\n",
      "WARNING:root:\n",
      "     You can try our memory optimize feature to save your memory usage:\n",
      "         # create a build_strategy variable to set memory optimize option\n",
      "         build_strategy = compiler.BuildStrategy()\n",
      "         build_strategy.enable_inplace = True\n",
      "         build_strategy.memory_optimize = True\n",
      "         \n",
      "         # pass the build_strategy to with_data_parallel API\n",
      "         compiled_prog = compiler.CompiledProgram(main).with_data_parallel(\n",
      "             loss_name=loss.name, build_strategy=build_strategy)\n",
      "      \n",
      "     !!! Memory optimize is our experimental feature !!!\n",
      "         some variables may be removed/reused internal to save memory usage, \n",
      "         in order to fetch the right value of the fetch_list, please set the \n",
      "         persistable property to true for each variable in fetch_list\n",
      "\n",
      "         # Sample\n",
      "         conv1 = fluid.layers.conv2d(data, 4, 5, 1, act=None) \n",
      "         # if you need to fetch conv1, then:\n",
      "         conv1.persistable = True\n",
      "\n",
      "                 \n",
      "\u001b[36m[2020-03-01 21:08:44,601] [   TRAIN] - step 110 / 705: loss=3.71226 auc=0.78561 auc_“重农抑商”政策=0.95111 auc_不完全显性=0.77597 auc_与细胞分裂有关的细胞器=0.87330 auc_中央官制——三公九卿制=0.97211 auc_中心体的结构和功能=0.88829 auc_人体免疫系统在维持稳态中的作用=0.88342 auc_人体水盐平衡调节=0.69125 auc_人体的体温调节=0.49527 auc_人口与城市=0.68004 auc_人口增长与人口问题=0.50562 auc_人口迁移与人口流动=0.62614 auc_人工授精、试管婴儿等生殖技术=0.97430 auc_伴性遗传=0.80421 auc_体液免疫的概念和过程=0.88451 auc_免疫系统的功能=0.90286 auc_免疫系统的组成=0.89886 auc_公民道德与伦理常识=0.95915 auc_兴奋在神经元之间的传递=0.45601 auc_兴奋在神经纤维上的传导=0.46132 auc_内环境的稳态=0.91182 auc_内质网的结构和功能=0.85427 auc_农业区位因素=0.57838 auc_减数分裂与有丝分裂的比较=0.90827 auc_减数分裂的概念=0.86292 auc_分子与细胞=0.86478 auc_劳动就业与守法经营=0.87987 auc_历史=0.98068 auc_古代史=0.95778 auc_器官移植=0.64025 auc_地球与地图=0.27513 auc_地球所处的宇宙环境=0.78906 auc_地球的内部圈层结构及特点=0.88102 auc_地球的外部圈层结构及特点=0.75290 auc_地球运动的地理意义=0.93602 auc_地球运动的基本形式=0.77022 auc_地理=0.97670 auc_垄断组织的出现=0.79502 auc_培养基与无菌技术=0.84597 auc_基因工程的原理及技术=0.75262 auc_基因工程的概念=0.69683 auc_基因的分离规律的实质及应用=0.90475 auc_基因的自由组合规律的实质及应用=0.89453 auc_复等位基因=0.79483 auc_夏商两代的政治制度=0.96224 auc_太阳对地球的影响=0.82867 auc_宇宙中的地球=0.98006 auc_工业区位因素=0.63360 auc_拉马克的进化学说=0.55290 auc_政治=0.97717 auc_文艺的春天=0.87604 auc_核糖体的结构和功能=0.88665 auc_海峡两岸关系的发展=0.75452 auc_液泡的结构和功能=0.89700 auc_清末民主革命风潮=0.75283 auc_溶酶体的结构和功能=0.87520 auc_激素调节=0.46930 auc_现代史=0.89984 auc_现代生物技术专题=0.77547 auc_生产活动与地域联系=0.77694 auc_生命活动离不开细胞=0.74808 auc_生态系统的营养结构=0.42123 auc_生活中的法律常识=0.68553 auc_生物=0.99501 auc_生物工程技术=0.75983 auc_生物性污染=0.96767 auc_生物技术在其他方面的应用=0.84962 auc_生物技术实践=0.82449 auc_生物科学与社会=0.92625 auc_皇帝制度=0.97689 auc_社会主义市场经济的伦理要求=0.96166 auc_社会主义是中国人民的历史性选择=0.88927 auc_神经调节和体液调节的比较=0.47165 auc_科学社会主义常识=0.85412 auc_稳态与环境=0.91294 auc_第三产业的兴起和“新经济”的出现=0.83109 auc_组成细胞的化合物=0.83549 auc_组成细胞的化学元素=0.83453 auc_细胞大小与物质运输的关系=0.64402 auc_细胞有丝分裂不同时期的特点=0.78502 auc_细胞的多样性和统一性=0.81625 auc_经济学常识=0.00000 auc_群落的结构=0.47117 auc_胚胎移植=0.66792 auc_蛋白质的合成=0.74209 auc_血糖平衡的调节=0.69071 auc_走进细胞=0.78634 auc_近代史=0.85139 auc_选官、用官制度的变化=0.83306 auc_遗传与进化=0.78708 auc_遗传的分子基础=0.95131 auc_遗传的细胞基础=0.95006 auc_避孕的原理和方法=0.96995 auc_郡县制=0.96714 auc_高中=0.00000 auc_高尔基体的结构和功能=0.88733 [step/sec: 1.35]\u001b[0m\n",
      "\u001b[36m[2020-03-01 21:08:52,065] [   TRAIN] - step 120 / 705: loss=3.51968 auc=0.78763 auc_“重农抑商”政策=0.95212 auc_不完全显性=0.77849 auc_与细胞分裂有关的细胞器=0.87575 auc_中央官制——三公九卿制=0.97266 auc_中心体的结构和功能=0.89096 auc_人体免疫系统在维持稳态中的作用=0.88557 auc_人体水盐平衡调节=0.69345 auc_人体的体温调节=0.49893 auc_人口与城市=0.68245 auc_人口增长与人口问题=0.51001 auc_人口迁移与人口流动=0.62828 auc_人工授精、试管婴儿等生殖技术=0.97421 auc_伴性遗传=0.80793 auc_体液免疫的概念和过程=0.88636 auc_免疫系统的功能=0.90460 auc_免疫系统的组成=0.90100 auc_公民道德与伦理常识=0.96029 auc_兴奋在神经元之间的传递=0.46083 auc_兴奋在神经纤维上的传导=0.46411 auc_内环境的稳态=0.91284 auc_内质网的结构和功能=0.85775 auc_农业区位因素=0.57837 auc_减数分裂与有丝分裂的比较=0.90941 auc_减数分裂的概念=0.86430 auc_分子与细胞=0.86623 auc_劳动就业与守法经营=0.88190 auc_历史=0.98136 auc_古代史=0.95876 auc_器官移植=0.64590 auc_地球与地图=0.27781 auc_地球所处的宇宙环境=0.79078 auc_地球的内部圈层结构及特点=0.88408 auc_地球的外部圈层结构及特点=0.75685 auc_地球运动的地理意义=0.93738 auc_地球运动的基本形式=0.77060 auc_地理=0.97761 auc_垄断组织的出现=0.79899 auc_培养基与无菌技术=0.84855 auc_基因工程的原理及技术=0.75735 auc_基因工程的概念=0.70383 auc_基因的分离规律的实质及应用=0.90454 auc_基因的自由组合规律的实质及应用=0.89627 auc_复等位基因=0.79859 auc_夏商两代的政治制度=0.96292 auc_太阳对地球的影响=0.83072 auc_宇宙中的地球=0.98072 auc_工业区位因素=0.63642 auc_拉马克的进化学说=0.55223 auc_政治=0.97795 auc_文艺的春天=0.87694 auc_核糖体的结构和功能=0.88947 auc_海峡两岸关系的发展=0.75403 auc_液泡的结构和功能=0.89977 auc_清末民主革命风潮=0.75580 auc_溶酶体的结构和功能=0.87857 auc_激素调节=0.46686 auc_现代史=0.90146 auc_现代生物技术专题=0.77800 auc_生产活动与地域联系=0.78057 auc_生命活动离不开细胞=0.74891 auc_生态系统的营养结构=0.42422 auc_生活中的法律常识=0.68980 auc_生物=0.99523 auc_生物工程技术=0.76165 auc_生物性污染=0.96778 auc_生物技术在其他方面的应用=0.85177 auc_生物技术实践=0.82603 auc_生物科学与社会=0.92618 auc_皇帝制度=0.97722 auc_社会主义市场经济的伦理要求=0.96290 auc_社会主义是中国人民的历史性选择=0.89049 auc_神经调节和体液调节的比较=0.47139 auc_科学社会主义常识=0.85431 auc_稳态与环境=0.91401 auc_第三产业的兴起和“新经济”的出现=0.83416 auc_组成细胞的化合物=0.83749 auc_组成细胞的化学元素=0.83716 auc_细胞大小与物质运输的关系=0.65617 auc_细胞有丝分裂不同时期的特点=0.78474 auc_细胞的多样性和统一性=0.81813 auc_经济学常识=0.00000 auc_群落的结构=0.47255 auc_胚胎移植=0.67382 auc_蛋白质的合成=0.74648 auc_血糖平衡的调节=0.69250 auc_走进细胞=0.79327 auc_近代史=0.85341 auc_选官、用官制度的变化=0.83771 auc_遗传与进化=0.78717 auc_遗传的分子基础=0.95060 auc_遗传的细胞基础=0.94943 auc_避孕的原理和方法=0.96994 auc_郡县制=0.96776 auc_高中=0.00000 auc_高尔基体的结构和功能=0.88990 [step/sec: 1.34]\u001b[0m\n",
      "\u001b[36m[2020-03-01 21:08:59,411] [   TRAIN] - step 130 / 705: loss=3.20357 auc=0.79019 auc_“重农抑商”政策=0.95336 auc_不完全显性=0.78066 auc_与细胞分裂有关的细胞器=0.87723 auc_中央官制——三公九卿制=0.97346 auc_中心体的结构和功能=0.89279 auc_人体免疫系统在维持稳态中的作用=0.88822 auc_人体水盐平衡调节=0.69950 auc_人体的体温调节=0.50742 auc_人口与城市=0.68654 auc_人口增长与人口问题=0.51733 auc_人口迁移与人口流动=0.63114 auc_人工授精、试管婴儿等生殖技术=0.97468 auc_伴性遗传=0.80923 auc_体液免疫的概念和过程=0.88918 auc_免疫系统的功能=0.90723 auc_免疫系统的组成=0.90361 auc_公民道德与伦理常识=0.96122 auc_兴奋在神经元之间的传递=0.46523 auc_兴奋在神经纤维上的传导=0.46656 auc_内环境的稳态=0.91481 auc_内质网的结构和功能=0.86094 auc_农业区位因素=0.57680 auc_减数分裂与有丝分裂的比较=0.91000 auc_减数分裂的概念=0.86572 auc_分子与细胞=0.86875 auc_劳动就业与守法经营=0.88441 auc_历史=0.98207 auc_古代史=0.95992 auc_器官移植=0.65252 auc_地球与地图=0.28319 auc_地球所处的宇宙环境=0.79267 auc_地球的内部圈层结构及特点=0.88663 auc_地球的外部圈层结构及特点=0.76195 auc_地球运动的地理意义=0.93888 auc_地球运动的基本形式=0.77135 auc_地理=0.97816 auc_垄断组织的出现=0.80552 auc_培养基与无菌技术=0.85225 auc_基因工程的原理及技术=0.76020 auc_基因工程的概念=0.70767 auc_基因的分离规律的实质及应用=0.90424 auc_基因的自由组合规律的实质及应用=0.89756 auc_复等位基因=0.80238 auc_夏商两代的政治制度=0.96405 auc_太阳对地球的影响=0.83199 auc_宇宙中的地球=0.98107 auc_工业区位因素=0.64413 auc_拉马克的进化学说=0.55453 auc_政治=0.97849 auc_文艺的春天=0.87777 auc_核糖体的结构和功能=0.89181 auc_海峡两岸关系的发展=0.75748 auc_液泡的结构和功能=0.90149 auc_清末民主革命风潮=0.75976 auc_溶酶体的结构和功能=0.88140 auc_激素调节=0.46844 auc_现代史=0.90333 auc_现代生物技术专题=0.78088 auc_生产活动与地域联系=0.78498 auc_生命活动离不开细胞=0.75238 auc_生态系统的营养结构=0.42883 auc_生活中的法律常识=0.69437 auc_生物=0.99542 auc_生物工程技术=0.76641 auc_生物性污染=0.96845 auc_生物技术在其他方面的应用=0.85514 auc_生物技术实践=0.83000 auc_生物科学与社会=0.92672 auc_皇帝制度=0.97787 auc_社会主义市场经济的伦理要求=0.96396 auc_社会主义是中国人民的历史性选择=0.89238 auc_神经调节和体液调节的比较=0.47748 auc_科学社会主义常识=0.85550 auc_稳态与环境=0.91558 auc_第三产业的兴起和“新经济”的出现=0.83928 auc_组成细胞的化合物=0.83846 auc_组成细胞的化学元素=0.83828 auc_细胞大小与物质运输的关系=0.66089 auc_细胞有丝分裂不同时期的特点=0.78131 auc_细胞的多样性和统一性=0.82170 auc_经济学常识=0.00000 auc_群落的结构=0.48073 auc_胚胎移植=0.67763 auc_蛋白质的合成=0.74929 auc_血糖平衡的调节=0.69889 auc_走进细胞=0.79807 auc_近代史=0.85722 auc_选官、用官制度的变化=0.84170 auc_遗传与进化=0.78634 auc_遗传的分子基础=0.95130 auc_遗传的细胞基础=0.95008 auc_避孕的原理和方法=0.97062 auc_郡县制=0.96875 auc_高中=0.00000 auc_高尔基体的结构和功能=0.89190 [step/sec: 1.36]\u001b[0m\n",
      "\u001b[36m[2020-03-01 21:09:07,254] [   TRAIN] - step 140 / 705: loss=3.11566 auc=0.79303 auc_“重农抑商”政策=0.95451 auc_不完全显性=0.78066 auc_与细胞分裂有关的细胞器=0.88154 auc_中央官制——三公九卿制=0.97435 auc_中心体的结构和功能=0.89636 auc_人体免疫系统在维持稳态中的作用=0.89042 auc_人体水盐平衡调节=0.70718 auc_人体的体温调节=0.51577 auc_人口与城市=0.69047 auc_人口增长与人口问题=0.52020 auc_人口迁移与人口流动=0.63667 auc_人工授精、试管婴儿等生殖技术=0.97538 auc_伴性遗传=0.81096 auc_体液免疫的概念和过程=0.89139 auc_免疫系统的功能=0.90907 auc_免疫系统的组成=0.90551 auc_公民道德与伦理常识=0.96244 auc_兴奋在神经元之间的传递=0.47372 auc_兴奋在神经纤维上的传导=0.47687 auc_内环境的稳态=0.91632 auc_内质网的结构和功能=0.86559 auc_农业区位因素=0.58077 auc_减数分裂与有丝分裂的比较=0.91168 auc_减数分裂的概念=0.86707 auc_分子与细胞=0.87116 auc_劳动就业与守法经营=0.88702 auc_历史=0.98278 auc_古代史=0.96140 auc_器官移植=0.65522 auc_地球与地图=0.28889 auc_地球所处的宇宙环境=0.79519 auc_地球的内部圈层结构及特点=0.88857 auc_地球的外部圈层结构及特点=0.76504 auc_地球运动的地理意义=0.94025 auc_地球运动的基本形式=0.77157 auc_地理=0.97896 auc_垄断组织的出现=0.80906 auc_培养基与无菌技术=0.85427 auc_基因工程的原理及技术=0.76547 auc_基因工程的概念=0.71373 auc_基因的分离规律的实质及应用=0.90426 auc_基因的自由组合规律的实质及应用=0.89640 auc_复等位基因=0.80584 auc_夏商两代的政治制度=0.96519 auc_太阳对地球的影响=0.83545 auc_宇宙中的地球=0.98170 auc_工业区位因素=0.65123 auc_拉马克的进化学说=0.55540 auc_政治=0.97918 auc_文艺的春天=0.87832 auc_核糖体的结构和功能=0.89581 auc_海峡两岸关系的发展=0.75781 auc_液泡的结构和功能=0.90503 auc_清末民主革命风潮=0.76750 auc_溶酶体的结构和功能=0.88566 auc_激素调节=0.47129 auc_现代史=0.90599 auc_现代生物技术专题=0.78438 auc_生产活动与地域联系=0.79066 auc_生命活动离不开细胞=0.75382 auc_生态系统的营养结构=0.43221 auc_生活中的法律常识=0.69871 auc_生物=0.99562 auc_生物工程技术=0.76839 auc_生物性污染=0.96940 auc_生物技术在其他方面的应用=0.85824 auc_生物技术实践=0.83073 auc_生物科学与社会=0.92782 auc_皇帝制度=0.97861 auc_社会主义市场经济的伦理要求=0.96501 auc_社会主义是中国人民的历史性选择=0.89479 auc_神经调节和体液调节的比较=0.48900 auc_科学社会主义常识=0.85820 auc_稳态与环境=0.91663 auc_第三产业的兴起和“新经济”的出现=0.84256 auc_组成细胞的化合物=0.84154 auc_组成细胞的化学元素=0.84127 auc_细胞大小与物质运输的关系=0.66367 auc_细胞有丝分裂不同时期的特点=0.78430 auc_细胞的多样性和统一性=0.82694 auc_经济学常识=0.00000 auc_群落的结构=0.48686 auc_胚胎移植=0.67963 auc_蛋白质的合成=0.75471 auc_血糖平衡的调节=0.70500 auc_走进细胞=0.80235 auc_近代史=0.86090 auc_选官、用官制度的变化=0.84455 auc_遗传与进化=0.78875 auc_遗传的分子基础=0.95124 auc_遗传的细胞基础=0.94959 auc_避孕的原理和方法=0.97145 auc_郡县制=0.96968 auc_高中=0.00000 auc_高尔基体的结构和功能=0.89548 [step/sec: 1.36]\u001b[0m\n",
      "\u001b[36m[2020-03-01 21:09:14,627] [   TRAIN] - step 150 / 705: loss=3.01468 auc=0.79566 auc_“重农抑商”政策=0.95580 auc_不完全显性=0.78253 auc_与细胞分裂有关的细胞器=0.88470 auc_中央官制——三公九卿制=0.97513 auc_中心体的结构和功能=0.89946 auc_人体免疫系统在维持稳态中的作用=0.89200 auc_人体水盐平衡调节=0.71574 auc_人体的体温调节=0.52970 auc_人口与城市=0.69518 auc_人口增长与人口问题=0.52708 auc_人口迁移与人口流动=0.64712 auc_人工授精、试管婴儿等生殖技术=0.97547 auc_伴性遗传=0.81515 auc_体液免疫的概念和过程=0.89325 auc_免疫系统的功能=0.91058 auc_免疫系统的组成=0.90669 auc_公民道德与伦理常识=0.96365 auc_兴奋在神经元之间的传递=0.48815 auc_兴奋在神经纤维上的传导=0.49051 auc_内环境的稳态=0.91814 auc_内质网的结构和功能=0.86960 auc_农业区位因素=0.58874 auc_减数分裂与有丝分裂的比较=0.91360 auc_减数分裂的概念=0.86992 auc_分子与细胞=0.87307 auc_劳动就业与守法经营=0.88914 auc_历史=0.98345 auc_古代史=0.96236 auc_器官移植=0.66307 auc_地球与地图=0.27720 auc_地球所处的宇宙环境=0.79752 auc_地球的内部圈层结构及特点=0.88998 auc_地球的外部圈层结构及特点=0.76539 auc_地球运动的地理意义=0.94124 auc_地球运动的基本形式=0.77220 auc_地理=0.97990 auc_垄断组织的出现=0.81263 auc_培养基与无菌技术=0.85739 auc_基因工程的原理及技术=0.76881 auc_基因工程的概念=0.71882 auc_基因的分离规律的实质及应用=0.90239 auc_基因的自由组合规律的实质及应用=0.89836 auc_复等位基因=0.80915 auc_夏商两代的政治制度=0.96629 auc_太阳对地球的影响=0.83953 auc_宇宙中的地球=0.98230 auc_工业区位因素=0.65675 auc_拉马克的进化学说=0.55567 auc_政治=0.97983 auc_文艺的春天=0.88047 auc_核糖体的结构和功能=0.89896 auc_海峡两岸关系的发展=0.76073 auc_液泡的结构和功能=0.90788 auc_清末民主革命风潮=0.77402 auc_溶酶体的结构和功能=0.88926 auc_激素调节=0.47274 auc_现代史=0.90690 auc_现代生物技术专题=0.78980 auc_生产活动与地域联系=0.79463 auc_生命活动离不开细胞=0.75832 auc_生态系统的营养结构=0.43667 auc_生活中的法律常识=0.67113 auc_生物=0.99581 auc_生物工程技术=0.77060 auc_生物性污染=0.96975 auc_生物技术在其他方面的应用=0.86187 auc_生物技术实践=0.83364 auc_生物科学与社会=0.92885 auc_皇帝制度=0.97919 auc_社会主义市场经济的伦理要求=0.96621 auc_社会主义是中国人民的历史性选择=0.89712 auc_神经调节和体液调节的比较=0.50325 auc_科学社会主义常识=0.86092 auc_稳态与环境=0.91868 auc_第三产业的兴起和“新经济”的出现=0.84551 auc_组成细胞的化合物=0.84432 auc_组成细胞的化学元素=0.84410 auc_细胞大小与物质运输的关系=0.66693 auc_细胞有丝分裂不同时期的特点=0.77431 auc_细胞的多样性和统一性=0.83329 auc_经济学常识=0.00000 auc_群落的结构=0.49244 auc_胚胎移植=0.68725 auc_蛋白质的合成=0.75954 auc_血糖平衡的调节=0.71269 auc_走进细胞=0.80561 auc_近代史=0.86529 auc_选官、用官制度的变化=0.84866 auc_遗传与进化=0.78811 auc_遗传的分子基础=0.95156 auc_遗传的细胞基础=0.94972 auc_避孕的原理和方法=0.97163 auc_郡县制=0.97057 auc_高中=0.00000 auc_高尔基体的结构和功能=0.89834 [step/sec: 1.36]\u001b[0m\n",
      "\u001b[36m[2020-03-01 21:09:22,072] [   TRAIN] - step 160 / 705: loss=2.78875 auc=0.79905 auc_“重农抑商”政策=0.95695 auc_不完全显性=0.78633 auc_与细胞分裂有关的细胞器=0.88854 auc_中央官制——三公九卿制=0.97577 auc_中心体的结构和功能=0.90271 auc_人体免疫系统在维持稳态中的作用=0.89278 auc_人体水盐平衡调节=0.72580 auc_人体的体温调节=0.54635 auc_人口与城市=0.69859 auc_人口增长与人口问题=0.53373 auc_人口迁移与人口流动=0.65134 auc_人工授精、试管婴儿等生殖技术=0.97619 auc_伴性遗传=0.81664 auc_体液免疫的概念和过程=0.89422 auc_免疫系统的功能=0.91102 auc_免疫系统的组成=0.90739 auc_公民道德与伦理常识=0.96485 auc_兴奋在神经元之间的传递=0.49939 auc_兴奋在神经纤维上的传导=0.50295 auc_内环境的稳态=0.91905 auc_内质网的结构和功能=0.87325 auc_农业区位因素=0.59387 auc_减数分裂与有丝分裂的比较=0.91578 auc_减数分裂的概念=0.87284 auc_分子与细胞=0.87465 auc_劳动就业与守法经营=0.89224 auc_历史=0.98406 auc_古代史=0.96356 auc_器官移植=0.67157 auc_地球与地图=0.26713 auc_地球所处的宇宙环境=0.80196 auc_地球的内部圈层结构及特点=0.89313 auc_地球的外部圈层结构及特点=0.77156 auc_地球运动的地理意义=0.94243 auc_地球运动的基本形式=0.77531 auc_地理=0.98075 auc_垄断组织的出现=0.81828 auc_培养基与无菌技术=0.85999 auc_基因工程的原理及技术=0.77355 auc_基因工程的概念=0.72596 auc_基因的分离规律的实质及应用=0.90322 auc_基因的自由组合规律的实质及应用=0.90002 auc_复等位基因=0.81407 auc_夏商两代的政治制度=0.96724 auc_太阳对地球的影响=0.84151 auc_宇宙中的地球=0.98281 auc_工业区位因素=0.66357 auc_拉马克的进化学说=0.55978 auc_政治=0.98056 auc_文艺的春天=0.88320 auc_核糖体的结构和功能=0.90197 auc_海峡两岸关系的发展=0.76503 auc_液泡的结构和功能=0.91047 auc_清末民主革命风潮=0.77882 auc_溶酶体的结构和功能=0.89260 auc_激素调节=0.48135 auc_现代史=0.91008 auc_现代生物技术专题=0.79457 auc_生产活动与地域联系=0.79953 auc_生命活动离不开细胞=0.76177 auc_生态系统的营养结构=0.43912 auc_生活中的法律常识=0.67646 auc_生物=0.99600 auc_生物工程技术=0.77348 auc_生物性污染=0.97074 auc_生物技术在其他方面的应用=0.86598 auc_生物技术实践=0.83684 auc_生物科学与社会=0.92914 auc_皇帝制度=0.97978 auc_社会主义市场经济的伦理要求=0.96742 auc_社会主义是中国人民的历史性选择=0.89912 auc_神经调节和体液调节的比较=0.51865 auc_科学社会主义常识=0.86357 auc_稳态与环境=0.92063 auc_第三产业的兴起和“新经济”的出现=0.85086 auc_组成细胞的化合物=0.84713 auc_组成细胞的化学元素=0.84716 auc_细胞大小与物质运输的关系=0.67271 auc_细胞有丝分裂不同时期的特点=0.77479 auc_细胞的多样性和统一性=0.83907 auc_经济学常识=0.00000 auc_群落的结构=0.49659 auc_胚胎移植=0.69499 auc_蛋白质的合成=0.76394 auc_血糖平衡的调节=0.72250 auc_走进细胞=0.81022 auc_近代史=0.86760 auc_选官、用官制度的变化=0.85195 auc_遗传与进化=0.78983 auc_遗传的分子基础=0.95292 auc_遗传的细胞基础=0.95096 auc_避孕的原理和方法=0.97258 auc_郡县制=0.97141 auc_高中=0.00000 auc_高尔基体的结构和功能=0.90127 [step/sec: 1.35]\u001b[0m\n",
      "\u001b[36m[2020-03-01 21:09:29,523] [   TRAIN] - step 170 / 705: loss=2.77581 auc=0.80213 auc_“重农抑商”政策=0.95800 auc_不完全显性=0.79072 auc_与细胞分裂有关的细胞器=0.88961 auc_中央官制——三公九卿制=0.97661 auc_中心体的结构和功能=0.90434 auc_人体免疫系统在维持稳态中的作用=0.89577 auc_人体水盐平衡调节=0.73296 auc_人体的体温调节=0.55861 auc_人口与城市=0.70432 auc_人口增长与人口问题=0.54533 auc_人口迁移与人口流动=0.65821 auc_人工授精、试管婴儿等生殖技术=0.97688 auc_伴性遗传=0.81710 auc_体液免疫的概念和过程=0.89643 auc_免疫系统的功能=0.91328 auc_免疫系统的组成=0.90965 auc_公民道德与伦理常识=0.96595 auc_兴奋在神经元之间的传递=0.51000 auc_兴奋在神经纤维上的传导=0.51687 auc_内环境的稳态=0.92030 auc_内质网的结构和功能=0.87543 auc_农业区位因素=0.60065 auc_减数分裂与有丝分裂的比较=0.91790 auc_减数分裂的概念=0.87681 auc_分子与细胞=0.87614 auc_劳动就业与守法经营=0.89514 auc_历史=0.98454 auc_古代史=0.96475 auc_器官移植=0.67571 auc_地球与地图=0.26144 auc_地球所处的宇宙环境=0.80528 auc_地球的内部圈层结构及特点=0.89577 auc_地球的外部圈层结构及特点=0.77681 auc_地球运动的地理意义=0.94278 auc_地球运动的基本形式=0.78045 auc_地理=0.98149 auc_垄断组织的出现=0.82168 auc_培养基与无菌技术=0.86248 auc_基因工程的原理及技术=0.77781 auc_基因工程的概念=0.73163 auc_基因的分离规律的实质及应用=0.90357 auc_基因的自由组合规律的实质及应用=0.90080 auc_复等位基因=0.81840 auc_夏商两代的政治制度=0.96821 auc_太阳对地球的影响=0.84520 auc_宇宙中的地球=0.98323 auc_工业区位因素=0.67247 auc_拉马克的进化学说=0.55980 auc_政治=0.98109 auc_文艺的春天=0.88529 auc_核糖体的结构和功能=0.90382 auc_海峡两岸关系的发展=0.76932 auc_液泡的结构和功能=0.91137 auc_清末民主革命风潮=0.78262 auc_溶酶体的结构和功能=0.89474 auc_激素调节=0.48687 auc_现代史=0.91166 auc_现代生物技术专题=0.79655 auc_生产活动与地域联系=0.80576 auc_生命活动离不开细胞=0.76528 auc_生态系统的营养结构=0.43959 auc_生活中的法律常识=0.68210 auc_生物=0.99613 auc_生物工程技术=0.77681 auc_生物性污染=0.97163 auc_生物技术在其他方面的应用=0.86995 auc_生物技术实践=0.83995 auc_生物科学与社会=0.92891 auc_皇帝制度=0.98042 auc_社会主义市场经济的伦理要求=0.96849 auc_社会主义是中国人民的历史性选择=0.90123 auc_神经调节和体液调节的比较=0.53563 auc_科学社会主义常识=0.86610 auc_稳态与环境=0.92224 auc_第三产业的兴起和“新经济”的出现=0.85384 auc_组成细胞的化合物=0.85045 auc_组成细胞的化学元素=0.85044 auc_细胞大小与物质运输的关系=0.67390 auc_细胞有丝分裂不同时期的特点=0.78189 auc_细胞的多样性和统一性=0.83846 auc_经济学常识=0.00000 auc_群落的结构=0.49961 auc_胚胎移植=0.69937 auc_蛋白质的合成=0.76949 auc_血糖平衡的调节=0.72890 auc_走进细胞=0.81470 auc_近代史=0.87120 auc_选官、用官制度的变化=0.85552 auc_遗传与进化=0.79030 auc_遗传的分子基础=0.95374 auc_遗传的细胞基础=0.95152 auc_避孕的原理和方法=0.97340 auc_郡县制=0.97230 auc_高中=0.00000 auc_高尔基体的结构和功能=0.90273 [step/sec: 1.35]\u001b[0m\n",
      "\u001b[36m[2020-03-01 21:09:36,843] [   TRAIN] - step 180 / 705: loss=2.65375 auc=0.80547 auc_“重农抑商”政策=0.95956 auc_不完全显性=0.79254 auc_与细胞分裂有关的细胞器=0.89201 auc_中央官制——三公九卿制=0.97758 auc_中心体的结构和功能=0.90631 auc_人体免疫系统在维持稳态中的作用=0.90114 auc_人体水盐平衡调节=0.73520 auc_人体的体温调节=0.56687 auc_人口与城市=0.70785 auc_人口增长与人口问题=0.55115 auc_人口迁移与人口流动=0.66375 auc_人工授精、试管婴儿等生殖技术=0.97707 auc_伴性遗传=0.81639 auc_体液免疫的概念和过程=0.90074 auc_免疫系统的功能=0.91741 auc_免疫系统的组成=0.91392 auc_公民道德与伦理常识=0.96672 auc_兴奋在神经元之间的传递=0.52744 auc_兴奋在神经纤维上的传导=0.53325 auc_内环境的稳态=0.92334 auc_内质网的结构和功能=0.87820 auc_农业区位因素=0.60676 auc_减数分裂与有丝分裂的比较=0.91991 auc_减数分裂的概念=0.87980 auc_分子与细胞=0.87825 auc_劳动就业与守法经营=0.89706 auc_历史=0.98507 auc_古代史=0.96625 auc_器官移植=0.68316 auc_地球与地图=0.26721 auc_地球所处的宇宙环境=0.80747 auc_地球的内部圈层结构及特点=0.89786 auc_地球的外部圈层结构及特点=0.78120 auc_地球运动的地理意义=0.94443 auc_地球运动的基本形式=0.78427 auc_地理=0.98209 auc_垄断组织的出现=0.82509 auc_培养基与无菌技术=0.86569 auc_基因工程的原理及技术=0.78205 auc_基因工程的概念=0.73692 auc_基因的分离规律的实质及应用=0.90450 auc_基因的自由组合规律的实质及应用=0.90223 auc_复等位基因=0.82241 auc_夏商两代的政治制度=0.96957 auc_太阳对地球的影响=0.84884 auc_宇宙中的地球=0.98386 auc_工业区位因素=0.67593 auc_拉马克的进化学说=0.56181 auc_政治=0.98164 auc_文艺的春天=0.88639 auc_核糖体的结构和功能=0.90604 auc_海峡两岸关系的发展=0.77452 auc_液泡的结构和功能=0.91279 auc_清末民主革命风潮=0.78708 auc_溶酶体的结构和功能=0.89698 auc_激素调节=0.49895 auc_现代史=0.91292 auc_现代生物技术专题=0.80127 auc_生产活动与地域联系=0.81132 auc_生命活动离不开细胞=0.76791 auc_生态系统的营养结构=0.44881 auc_生活中的法律常识=0.68640 auc_生物=0.99624 auc_生物工程技术=0.77933 auc_生物性污染=0.97217 auc_生物技术在其他方面的应用=0.87349 auc_生物技术实践=0.84251 auc_生物科学与社会=0.92929 auc_皇帝制度=0.98124 auc_社会主义市场经济的伦理要求=0.96924 auc_社会主义是中国人民的历史性选择=0.90393 auc_神经调节和体液调节的比较=0.55080 auc_科学社会主义常识=0.86837 auc_稳态与环境=0.92490 auc_第三产业的兴起和“新经济”的出现=0.85636 auc_组成细胞的化合物=0.85362 auc_组成细胞的化学元素=0.85374 auc_细胞大小与物质运输的关系=0.67618 auc_细胞有丝分裂不同时期的特点=0.78500 auc_细胞的多样性和统一性=0.84194 auc_经济学常识=0.00000 auc_群落的结构=0.50669 auc_胚胎移植=0.70651 auc_蛋白质的合成=0.77352 auc_血糖平衡的调节=0.73174 auc_走进细胞=0.81770 auc_近代史=0.87469 auc_选官、用官制度的变化=0.85998 auc_遗传与进化=0.79252 auc_遗传的分子基础=0.95389 auc_遗传的细胞基础=0.95112 auc_避孕的原理和方法=0.97388 auc_郡县制=0.97349 auc_高中=0.00000 auc_高尔基体的结构和功能=0.90433 [step/sec: 1.37]\u001b[0m\n",
      "\u001b[36m[2020-03-01 21:09:44,091] [   TRAIN] - step 190 / 705: loss=2.70063 auc=0.80861 auc_“重农抑商”政策=0.96067 auc_不完全显性=0.79363 auc_与细胞分裂有关的细胞器=0.89475 auc_中央官制——三公九卿制=0.97815 auc_中心体的结构和功能=0.90869 auc_人体免疫系统在维持稳态中的作用=0.90472 auc_人体水盐平衡调节=0.73973 auc_人体的体温调节=0.57624 auc_人口与城市=0.71232 auc_人口增长与人口问题=0.55654 auc_人口迁移与人口流动=0.67317 auc_人工授精、试管婴儿等生殖技术=0.97709 auc_伴性遗传=0.81827 auc_体液免疫的概念和过程=0.90392 auc_免疫系统的功能=0.92041 auc_免疫系统的组成=0.91645 auc_公民道德与伦理常识=0.96774 auc_兴奋在神经元之间的传递=0.53837 auc_兴奋在神经纤维上的传导=0.54095 auc_内环境的稳态=0.92596 auc_内质网的结构和功能=0.88101 auc_农业区位因素=0.61768 auc_减数分裂与有丝分裂的比较=0.92192 auc_减数分裂的概念=0.88152 auc_分子与细胞=0.88101 auc_劳动就业与守法经营=0.89949 auc_历史=0.98559 auc_古代史=0.96652 auc_器官移植=0.69081 auc_地球与地图=0.27288 auc_地球所处的宇宙环境=0.81063 auc_地球的内部圈层结构及特点=0.90042 auc_地球的外部圈层结构及特点=0.78628 auc_地球运动的地理意义=0.94593 auc_地球运动的基本形式=0.78594 auc_地理=0.98270 auc_垄断组织的出现=0.82873 auc_培养基与无菌技术=0.86734 auc_基因工程的原理及技术=0.78540 auc_基因工程的概念=0.74213 auc_基因的分离规律的实质及应用=0.90465 auc_基因的自由组合规律的实质及应用=0.90109 auc_复等位基因=0.82536 auc_夏商两代的政治制度=0.97049 auc_太阳对地球的影响=0.85192 auc_宇宙中的地球=0.98436 auc_工业区位因素=0.68584 auc_拉马克的进化学说=0.56499 auc_政治=0.98225 auc_文艺的春天=0.88817 auc_核糖体的结构和功能=0.90836 auc_海峡两岸关系的发展=0.77815 auc_液泡的结构和功能=0.91450 auc_清末民主革命风潮=0.79208 auc_溶酶体的结构和功能=0.89920 auc_激素调节=0.50900 auc_现代史=0.91460 auc_现代生物技术专题=0.80406 auc_生产活动与地域联系=0.81842 auc_生命活动离不开细胞=0.77054 auc_生态系统的营养结构=0.45717 auc_生活中的法律常识=0.69123 auc_生物=0.99639 auc_生物工程技术=0.78305 auc_生物性污染=0.97229 auc_生物技术在其他方面的应用=0.87539 auc_生物技术实践=0.84573 auc_生物科学与社会=0.92976 auc_皇帝制度=0.98179 auc_社会主义市场经济的伦理要求=0.97019 auc_社会主义是中国人民的历史性选择=0.90622 auc_神经调节和体液调节的比较=0.55686 auc_科学社会主义常识=0.86999 auc_稳态与环境=0.92686 auc_第三产业的兴起和“新经济”的出现=0.85997 auc_组成细胞的化合物=0.85561 auc_组成细胞的化学元素=0.85587 auc_细胞大小与物质运输的关系=0.68061 auc_细胞有丝分裂不同时期的特点=0.78966 auc_细胞的多样性和统一性=0.84732 auc_经济学常识=0.00000 auc_群落的结构=0.51158 auc_胚胎移植=0.71353 auc_蛋白质的合成=0.77777 auc_血糖平衡的调节=0.73656 auc_走进细胞=0.82079 auc_近代史=0.87795 auc_选官、用官制度的变化=0.86429 auc_遗传与进化=0.79407 auc_遗传的分子基础=0.95373 auc_遗传的细胞基础=0.95102 auc_避孕的原理和方法=0.97397 auc_郡县制=0.97427 auc_高中=0.00000 auc_高尔基体的结构和功能=0.90679 [step/sec: 1.38]\u001b[0m\n",
      "\u001b[36m[2020-03-01 21:09:51,459] [   TRAIN] - step 200 / 705: loss=2.56818 auc=0.81209 auc_“重农抑商”政策=0.96209 auc_不完全显性=0.79608 auc_与细胞分裂有关的细胞器=0.89626 auc_中央官制——三公九卿制=0.97911 auc_中心体的结构和功能=0.91018 auc_人体免疫系统在维持稳态中的作用=0.90753 auc_人体水盐平衡调节=0.74504 auc_人体的体温调节=0.58555 auc_人口与城市=0.72161 auc_人口增长与人口问题=0.57433 auc_人口迁移与人口流动=0.68355 auc_人工授精、试管婴儿等生殖技术=0.97757 auc_伴性遗传=0.82015 auc_体液免疫的概念和过程=0.90657 auc_免疫系统的功能=0.92288 auc_免疫系统的组成=0.91889 auc_公民道德与伦理常识=0.96878 auc_兴奋在神经元之间的传递=0.55149 auc_兴奋在神经纤维上的传导=0.55207 auc_内环境的稳态=0.92794 auc_内质网的结构和功能=0.88355 auc_农业区位因素=0.63094 auc_减数分裂与有丝分裂的比较=0.92410 auc_减数分裂的概念=0.88489 auc_分子与细胞=0.88407 auc_劳动就业与守法经营=0.90166 auc_历史=0.98617 auc_古代史=0.96782 auc_器官移植=0.69749 auc_地球与地图=0.26466 auc_地球所处的宇宙环境=0.81366 auc_地球的内部圈层结构及特点=0.90276 auc_地球的外部圈层结构及特点=0.79042 auc_地球运动的地理意义=0.94682 auc_地球运动的基本形式=0.79032 auc_地理=0.98336 auc_垄断组织的出现=0.83373 auc_培养基与无菌技术=0.86976 auc_基因工程的原理及技术=0.79136 auc_基因工程的概念=0.74873 auc_基因的分离规律的实质及应用=0.90441 auc_基因的自由组合规律的实质及应用=0.90229 auc_复等位基因=0.82962 auc_夏商两代的政治制度=0.97180 auc_太阳对地球的影响=0.85517 auc_宇宙中的地球=0.98480 auc_工业区位因素=0.69402 auc_拉马克的进化学说=0.56719 auc_政治=0.98279 auc_文艺的春天=0.88962 auc_核糖体的结构和功能=0.90990 auc_海峡两岸关系的发展=0.78237 auc_液泡的结构和功能=0.91537 auc_清末民主革命风潮=0.79534 auc_溶酶体的结构和功能=0.90107 auc_激素调节=0.51755 auc_现代史=0.91666 auc_现代生物技术专题=0.80819 auc_生产活动与地域联系=0.82490 auc_生命活动离不开细胞=0.77578 auc_生态系统的营养结构=0.46945 auc_生活中的法律常识=0.69616 auc_生物=0.99652 auc_生物工程技术=0.78575 auc_生物性污染=0.97281 auc_生物技术在其他方面的应用=0.87840 auc_生物技术实践=0.84792 auc_生物科学与社会=0.93018 auc_皇帝制度=0.98264 auc_社会主义市场经济的伦理要求=0.97119 auc_社会主义是中国人民的历史性选择=0.90798 auc_神经调节和体液调节的比较=0.56791 auc_科学社会主义常识=0.87249 auc_稳态与环境=0.92848 auc_第三产业的兴起和“新经济”的出现=0.86408 auc_组成细胞的化合物=0.85834 auc_组成细胞的化学元素=0.85781 auc_细胞大小与物质运输的关系=0.68408 auc_细胞有丝分裂不同时期的特点=0.79547 auc_细胞的多样性和统一性=0.85076 auc_经济学常识=0.00000 auc_群落的结构=0.51786 auc_胚胎移植=0.72011 auc_蛋白质的合成=0.78352 auc_血糖平衡的调节=0.74187 auc_走进细胞=0.82368 auc_近代史=0.88042 auc_选官、用官制度的变化=0.86937 auc_遗传与进化=0.79530 auc_遗传的分子基础=0.95472 auc_遗传的细胞基础=0.95236 auc_避孕的原理和方法=0.97446 auc_郡县制=0.97540 auc_高中=0.00000 auc_高尔基体的结构和功能=0.90839 [step/sec: 1.36]\u001b[0m\n",
      "\u001b[32m[2020-03-01 21:09:51,461] [    INFO] - Evaluation on dev dataset start\u001b[0m\n",
      "\u001b[34m[2020-03-01 21:10:49,888] [    EVAL] - [dev dataset evaluation result] loss=2.41515 auc=0.86626 auc_“重农抑商”政策=0.97690 auc_不完全显性=0.82697 auc_与细胞分裂有关的细胞器=0.93625 auc_中央官制——三公九卿制=0.98622 auc_中心体的结构和功能=0.94526 auc_人体免疫系统在维持稳态中的作用=0.94263 auc_人体水盐平衡调节=0.83474 auc_人体的体温调节=0.74414 auc_人口与城市=0.85167 auc_人口增长与人口问题=0.76134 auc_人口迁移与人口流动=0.82373 auc_人工授精、试管婴儿等生殖技术=0.98507 auc_伴性遗传=0.85533 auc_体液免疫的概念和过程=0.94157 auc_免疫系统的功能=0.95168 auc_免疫系统的组成=0.94952 auc_公民道德与伦理常识=0.98352 auc_兴奋在神经元之间的传递=0.76611 auc_兴奋在神经纤维上的传导=0.72798 auc_内环境的稳态=0.95226 auc_内质网的结构和功能=0.93022 auc_农业区位因素=0.80135 auc_减数分裂与有丝分裂的比较=0.95509 auc_减数分裂的概念=0.93198 auc_分子与细胞=0.92620 auc_劳动就业与守法经营=0.94405 auc_历史=0.99317 auc_古代史=0.97858 auc_器官移植=0.81584 auc_地球与地图=0.27382 auc_地球所处的宇宙环境=0.87325 auc_地球的内部圈层结构及特点=0.93055 auc_地球的外部圈层结构及特点=0.87076 auc_地球运动的地理意义=0.96455 auc_地球运动的基本形式=0.86014 auc_地理=0.99163 auc_垄断组织的出现=0.90684 auc_培养基与无菌技术=0.91725 auc_基因工程的原理及技术=0.87882 auc_基因工程的概念=0.85906 auc_基因的分离规律的实质及应用=0.92355 auc_基因的自由组合规律的实质及应用=0.93041 auc_复等位基因=0.90169 auc_夏商两代的政治制度=0.98300 auc_太阳对地球的影响=0.90332 auc_宇宙中的地球=0.99051 auc_工业区位因素=0.82572 auc_拉马克的进化学说=0.62991 auc_政治=0.99079 auc_文艺的春天=0.91486 auc_核糖体的结构和功能=0.94662 auc_海峡两岸关系的发展=0.85798 auc_液泡的结构和功能=0.94745 auc_清末民主革命风潮=0.87534 auc_溶酶体的结构和功能=0.94263 auc_激素调节=0.66258 auc_现代史=0.94234 auc_现代生物技术专题=0.87224 auc_生产活动与地域联系=0.91230 auc_生命活动离不开细胞=0.82852 auc_生态系统的营养结构=0.62054 auc_生活中的法律常识=0.55513 auc_生物=0.99797 auc_生物工程技术=0.85702 auc_生物性污染=0.98183 auc_生物技术在其他方面的应用=0.93035 auc_生物技术实践=0.89838 auc_生物科学与社会=0.94173 auc_皇帝制度=0.98769 auc_社会主义市场经济的伦理要求=0.98509 auc_社会主义是中国人民的历史性选择=0.94119 auc_神经调节和体液调节的比较=0.76271 auc_科学社会主义常识=0.90020 auc_稳态与环境=0.96076 auc_第三产业的兴起和“新经济”的出现=0.92035 auc_组成细胞的化合物=0.90799 auc_组成细胞的化学元素=0.90423 auc_细胞大小与物质运输的关系=0.75091 auc_细胞有丝分裂不同时期的特点=0.85522 auc_细胞的多样性和统一性=0.90818 auc_经济学常识=0.00000 auc_群落的结构=0.65093 auc_胚胎移植=0.83423 auc_蛋白质的合成=0.86420 auc_血糖平衡的调节=0.82680 auc_走进细胞=0.89198 auc_近代史=0.93258 auc_选官、用官制度的变化=0.92968 auc_遗传与进化=0.82427 auc_遗传的分子基础=0.96869 auc_遗传的细胞基础=0.96617 auc_避孕的原理和方法=0.98228 auc_郡县制=0.98386 auc_高中=0.00000 auc_高尔基体的结构和功能=0.94407 [step/sec: 4.85]\u001b[0m\n",
      "\u001b[34m[2020-03-01 21:10:49,889] [    EVAL] - best model saved to ckpt_20200301210426/best_model [best auc=0.86626]\u001b[0m\n",
      "\u001b[36m[2020-03-01 21:11:00,440] [   TRAIN] - step 210 / 705: loss=2.39030 auc=0.86735 auc_“重农抑商”政策=0.97706 auc_不完全显性=0.82766 auc_与细胞分裂有关的细胞器=0.93704 auc_中央官制——三公九卿制=0.98634 auc_中心体的结构和功能=0.94584 auc_人体免疫系统在维持稳态中的作用=0.94344 auc_人体水盐平衡调节=0.83714 auc_人体的体温调节=0.74806 auc_人口与城市=0.85273 auc_人口增长与人口问题=0.76313 auc_人口迁移与人口流动=0.82543 auc_人工授精、试管婴儿等生殖技术=0.98518 auc_伴性遗传=0.85627 auc_体液免疫的概念和过程=0.94242 auc_免疫系统的功能=0.95242 auc_免疫系统的组成=0.95027 auc_公民道德与伦理常识=0.98382 auc_兴奋在神经元之间的传递=0.76994 auc_兴奋在神经纤维上的传导=0.73183 auc_内环境的稳态=0.95270 auc_内质网的结构和功能=0.93098 auc_农业区位因素=0.80508 auc_减数分裂与有丝分裂的比较=0.95580 auc_减数分裂的概念=0.93272 auc_分子与细胞=0.92676 auc_劳动就业与守法经营=0.94476 auc_历史=0.99332 auc_古代史=0.97890 auc_器官移植=0.81860 auc_地球与地图=0.26781 auc_地球所处的宇宙环境=0.87426 auc_地球的内部圈层结构及特点=0.93145 auc_地球的外部圈层结构及特点=0.87227 auc_地球运动的地理意义=0.96497 auc_地球运动的基本形式=0.86086 auc_地理=0.99182 auc_垄断组织的出现=0.90834 auc_培养基与无菌技术=0.91792 auc_基因工程的原理及技术=0.88000 auc_基因工程的概念=0.86073 auc_基因的分离规律的实质及应用=0.92426 auc_基因的自由组合规律的实质及应用=0.93073 auc_复等位基因=0.90271 auc_夏商两代的政治制度=0.98320 auc_太阳对地球的影响=0.90454 auc_宇宙中的地球=0.99065 auc_工业区位因素=0.82893 auc_拉马克的进化学说=0.63198 auc_政治=0.99097 auc_文艺的春天=0.91550 auc_核糖体的结构和功能=0.94724 auc_海峡两岸关系的发展=0.85901 auc_液泡的结构和功能=0.94805 auc_清末民主革命风潮=0.87680 auc_溶酶体的结构和功能=0.94332 auc_激素调节=0.66433 auc_现代史=0.94286 auc_现代生物技术专题=0.87257 auc_生产活动与地域联系=0.91434 auc_生命活动离不开细胞=0.83080 auc_生态系统的营养结构=0.62166 auc_生活中的法律常识=0.55774 auc_生物=0.99801 auc_生物工程技术=0.85839 auc_生物性污染=0.98201 auc_生物技术在其他方面的应用=0.93095 auc_生物技术实践=0.89919 auc_生物科学与社会=0.94154 auc_皇帝制度=0.98778 auc_社会主义市场经济的伦理要求=0.98537 auc_社会主义是中国人民的历史性选择=0.94199 auc_神经调节和体液调节的比较=0.76628 auc_科学社会主义常识=0.90139 auc_稳态与环境=0.96135 auc_第三产业的兴起和“新经济”的出现=0.92158 auc_组成细胞的化合物=0.90892 auc_组成细胞的化学元素=0.90513 auc_细胞大小与物质运输的关系=0.75348 auc_细胞有丝分裂不同时期的特点=0.85827 auc_细胞的多样性和统一性=0.90880 auc_经济学常识=0.00000 auc_群落的结构=0.65781 auc_胚胎移植=0.83681 auc_蛋白质的合成=0.86585 auc_血糖平衡的调节=0.82892 auc_走进细胞=0.89328 auc_近代史=0.93370 auc_选官、用官制度的变化=0.93092 auc_遗传与进化=0.82559 auc_遗传的分子基础=0.96889 auc_遗传的细胞基础=0.96643 auc_避孕的原理和方法=0.98239 auc_郡县制=0.98399 auc_高中=0.00000 auc_高尔基体的结构和功能=0.94470 [step/sec: 1.34]\u001b[0m\n",
      "\u001b[36m[2020-03-01 21:11:07,857] [   TRAIN] - step 220 / 705: loss=2.33436 auc=0.86845 auc_“重农抑商”政策=0.97748 auc_不完全显性=0.82902 auc_与细胞分裂有关的细胞器=0.93789 auc_中央官制——三公九卿制=0.98659 auc_中心体的结构和功能=0.94686 auc_人体免疫系统在维持稳态中的作用=0.94417 auc_人体水盐平衡调节=0.83929 auc_人体的体温调节=0.75163 auc_人口与城市=0.85488 auc_人口增长与人口问题=0.76633 auc_人口迁移与人口流动=0.82843 auc_人工授精、试管婴儿等生殖技术=0.98525 auc_伴性遗传=0.85688 auc_体液免疫的概念和过程=0.94324 auc_免疫系统的功能=0.95304 auc_免疫系统的组成=0.95088 auc_公民道德与伦理常识=0.98415 auc_兴奋在神经元之间的传递=0.77289 auc_兴奋在神经纤维上的传导=0.73464 auc_内环境的稳态=0.95324 auc_内质网的结构和功能=0.93222 auc_农业区位因素=0.80716 auc_减数分裂与有丝分裂的比较=0.95565 auc_减数分裂的概念=0.93241 auc_分子与细胞=0.92738 auc_劳动就业与守法经营=0.94558 auc_历史=0.99348 auc_古代史=0.97939 auc_器官移植=0.81954 auc_地球与地图=0.25862 auc_地球所处的宇宙环境=0.87561 auc_地球的内部圈层结构及特点=0.93261 auc_地球的外部圈层结构及特点=0.87440 auc_地球运动的地理意义=0.96536 auc_地球运动的基本形式=0.86171 auc_地理=0.99201 auc_垄断组织的出现=0.90967 auc_培养基与无菌技术=0.91847 auc_基因工程的原理及技术=0.88161 auc_基因工程的概念=0.86276 auc_基因的分离规律的实质及应用=0.92496 auc_基因的自由组合规律的实质及应用=0.93162 auc_复等位基因=0.90409 auc_夏商两代的政治制度=0.98353 auc_太阳对地球的影响=0.90570 auc_宇宙中的地球=0.99075 auc_工业区位因素=0.83263 auc_拉马克的进化学说=0.63277 auc_政治=0.99118 auc_文艺的春天=0.91614 auc_核糖体的结构和功能=0.94814 auc_海峡两岸关系的发展=0.86030 auc_液泡的结构和功能=0.94893 auc_清末民主革命风潮=0.87961 auc_溶酶体的结构和功能=0.94437 auc_激素调节=0.66762 auc_现代史=0.94323 auc_现代生物技术专题=0.87299 auc_生产活动与地域联系=0.91589 auc_生命活动离不开细胞=0.83126 auc_生态系统的营养结构=0.62512 auc_生活中的法律常识=0.56111 auc_生物=0.99805 auc_生物工程技术=0.86075 auc_生物性污染=0.98212 auc_生物技术在其他方面的应用=0.93177 auc_生物技术实践=0.90034 auc_生物科学与社会=0.94159 auc_皇帝制度=0.98801 auc_社会主义市场经济的伦理要求=0.98566 auc_社会主义是中国人民的历史性选择=0.94307 auc_神经调节和体液调节的比较=0.77093 auc_科学社会主义常识=0.90307 auc_稳态与环境=0.96191 auc_第三产业的兴起和“新经济”的出现=0.92266 auc_组成细胞的化合物=0.91007 auc_组成细胞的化学元素=0.90630 auc_细胞大小与物质运输的关系=0.75586 auc_细胞有丝分裂不同时期的特点=0.85993 auc_细胞的多样性和统一性=0.91013 auc_经济学常识=0.00000 auc_群落的结构=0.66460 auc_胚胎移植=0.83629 auc_蛋白质的合成=0.86763 auc_血糖平衡的调节=0.83066 auc_走进细胞=0.89503 auc_近代史=0.93506 auc_选官、用官制度的变化=0.93158 auc_遗传与进化=0.82606 auc_遗传的分子基础=0.96937 auc_遗传的细胞基础=0.96698 auc_避孕的原理和方法=0.98249 auc_郡县制=0.98430 auc_高中=0.00000 auc_高尔基体的结构和功能=0.94574 [step/sec: 1.35]\u001b[0m\n",
      "\u001b[36m[2020-03-01 21:11:15,281] [   TRAIN] - step 230 / 705: loss=2.19944 auc=0.86952 auc_“重农抑商”政策=0.97786 auc_不完全显性=0.83001 auc_与细胞分裂有关的细胞器=0.93839 auc_中央官制——三公九卿制=0.98681 auc_中心体的结构和功能=0.94740 auc_人体免疫系统在维持稳态中的作用=0.94502 auc_人体水盐平衡调节=0.84158 auc_人体的体温调节=0.75510 auc_人口与城市=0.85762 auc_人口增长与人口问题=0.77217 auc_人口迁移与人口流动=0.83067 auc_人工授精、试管婴儿等生殖技术=0.98551 auc_伴性遗传=0.85758 auc_体液免疫的概念和过程=0.94403 auc_免疫系统的功能=0.95368 auc_免疫系统的组成=0.95135 auc_公民道德与伦理常识=0.98453 auc_兴奋在神经元之间的传递=0.77620 auc_兴奋在神经纤维上的传导=0.73789 auc_内环境的稳态=0.95371 auc_内质网的结构和功能=0.93288 auc_农业区位因素=0.81001 auc_减数分裂与有丝分裂的比较=0.95627 auc_减数分裂的概念=0.93306 auc_分子与细胞=0.92821 auc_劳动就业与守法经营=0.94646 auc_历史=0.99363 auc_古代史=0.97969 auc_器官移植=0.82281 auc_地球与地图=0.24996 auc_地球所处的宇宙环境=0.87596 auc_地球的内部圈层结构及特点=0.93369 auc_地球的外部圈层结构及特点=0.87658 auc_地球运动的地理意义=0.96565 auc_地球运动的基本形式=0.86175 auc_地理=0.99215 auc_垄断组织的出现=0.91076 auc_培养基与无菌技术=0.91956 auc_基因工程的原理及技术=0.88301 auc_基因工程的概念=0.86442 auc_基因的分离规律的实质及应用=0.92543 auc_基因的自由组合规律的实质及应用=0.93207 auc_复等位基因=0.90555 auc_夏商两代的政治制度=0.98384 auc_太阳对地球的影响=0.90677 auc_宇宙中的地球=0.99085 auc_工业区位因素=0.83426 auc_拉马克的进化学说=0.63347 auc_政治=0.99133 auc_文艺的春天=0.91703 auc_核糖体的结构和功能=0.94837 auc_海峡两岸关系的发展=0.86347 auc_液泡的结构和功能=0.94909 auc_清末民主革命风潮=0.88127 auc_溶酶体的结构和功能=0.94454 auc_激素调节=0.67356 auc_现代史=0.94411 auc_现代生物技术专题=0.87431 auc_生产活动与地域联系=0.91740 auc_生命活动离不开细胞=0.83176 auc_生态系统的营养结构=0.62887 auc_生活中的法律常识=0.56451 auc_生物=0.99808 auc_生物工程技术=0.86237 auc_生物性污染=0.98243 auc_生物技术在其他方面的应用=0.93290 auc_生物技术实践=0.90146 auc_生物科学与社会=0.94216 auc_皇帝制度=0.98821 auc_社会主义市场经济的伦理要求=0.98600 auc_社会主义是中国人民的历史性选择=0.94359 auc_神经调节和体液调节的比较=0.77429 auc_科学社会主义常识=0.90410 auc_稳态与环境=0.96244 auc_第三产业的兴起和“新经济”的出现=0.92359 auc_组成细胞的化合物=0.91090 auc_组成细胞的化学元素=0.90726 auc_细胞大小与物质运输的关系=0.75613 auc_细胞有丝分裂不同时期的特点=0.86079 auc_细胞的多样性和统一性=0.90830 auc_经济学常识=0.00000 auc_群落的结构=0.67072 auc_胚胎移植=0.83935 auc_蛋白质的合成=0.86939 auc_血糖平衡的调节=0.83270 auc_走进细胞=0.89633 auc_近代史=0.93599 auc_选官、用官制度的变化=0.93247 auc_遗传与进化=0.82638 auc_遗传的分子基础=0.96998 auc_遗传的细胞基础=0.96764 auc_避孕的原理和方法=0.98280 auc_郡县制=0.98458 auc_高中=0.00000 auc_高尔基体的结构和功能=0.94590 [step/sec: 1.35]\u001b[0m\n",
      "\u001b[36m[2020-03-01 21:11:22,591] [   TRAIN] - step 240 / 705: loss=2.19608 auc=0.87062 auc_“重农抑商”政策=0.97826 auc_不完全显性=0.83153 auc_与细胞分裂有关的细胞器=0.93921 auc_中央官制——三公九卿制=0.98701 auc_中心体的结构和功能=0.94836 auc_人体免疫系统在维持稳态中的作用=0.94577 auc_人体水盐平衡调节=0.84368 auc_人体的体温调节=0.75841 auc_人口与城市=0.85903 auc_人口增长与人口问题=0.77281 auc_人口迁移与人口流动=0.83319 auc_人工授精、试管婴儿等生殖技术=0.98569 auc_伴性遗传=0.85868 auc_体液免疫的概念和过程=0.94477 auc_免疫系统的功能=0.95437 auc_免疫系统的组成=0.95209 auc_公民道德与伦理常识=0.98473 auc_兴奋在神经元之间的传递=0.77945 auc_兴奋在神经纤维上的传导=0.74167 auc_内环境的稳态=0.95433 auc_内质网的结构和功能=0.93416 auc_农业区位因素=0.81289 auc_减数分裂与有丝分裂的比较=0.95668 auc_减数分裂的概念=0.93407 auc_分子与细胞=0.92913 auc_劳动就业与守法经营=0.94710 auc_历史=0.99377 auc_古代史=0.98001 auc_器官移植=0.82576 auc_地球与地图=0.25166 auc_地球所处的宇宙环境=0.87756 auc_地球的内部圈层结构及特点=0.93468 auc_地球的外部圈层结构及特点=0.87840 auc_地球运动的地理意义=0.96611 auc_地球运动的基本形式=0.86364 auc_地理=0.99231 auc_垄断组织的出现=0.91224 auc_培养基与无菌技术=0.92105 auc_基因工程的原理及技术=0.88442 auc_基因工程的概念=0.86598 auc_基因的分离规律的实质及应用=0.92563 auc_基因的自由组合规律的实质及应用=0.93325 auc_复等位基因=0.90667 auc_夏商两代的政治制度=0.98413 auc_太阳对地球的影响=0.90795 auc_宇宙中的地球=0.99103 auc_工业区位因素=0.83749 auc_拉马克的进化学说=0.63506 auc_政治=0.99152 auc_文艺的春天=0.91829 auc_核糖体的结构和功能=0.94939 auc_海峡两岸关系的发展=0.86603 auc_液泡的结构和功能=0.95002 auc_清末民主革命风潮=0.88207 auc_溶酶体的结构和功能=0.94560 auc_激素调节=0.67912 auc_现代史=0.94486 auc_现代生物技术专题=0.87589 auc_生产活动与地域联系=0.91906 auc_生命活动离不开细胞=0.83379 auc_生态系统的营养结构=0.63028 auc_生活中的法律常识=0.55138 auc_生物=0.99812 auc_生物工程技术=0.86419 auc_生物性污染=0.98263 auc_生物技术在其他方面的应用=0.93406 auc_生物技术实践=0.90225 auc_生物科学与社会=0.94237 auc_皇帝制度=0.98840 auc_社会主义市场经济的伦理要求=0.98624 auc_社会主义是中国人民的历史性选择=0.94465 auc_神经调节和体液调节的比较=0.77489 auc_科学社会主义常识=0.90579 auc_稳态与环境=0.96279 auc_第三产业的兴起和“新经济”的出现=0.92489 auc_组成细胞的化合物=0.91203 auc_组成细胞的化学元素=0.90846 auc_细胞大小与物质运输的关系=0.75815 auc_细胞有丝分裂不同时期的特点=0.86237 auc_细胞的多样性和统一性=0.90976 auc_经济学常识=0.00000 auc_群落的结构=0.67603 auc_胚胎移植=0.84187 auc_蛋白质的合成=0.87180 auc_血糖平衡的调节=0.83464 auc_走进细胞=0.89790 auc_近代史=0.93700 auc_选官、用官制度的变化=0.93363 auc_遗传与进化=0.82736 auc_遗传的分子基础=0.97034 auc_遗传的细胞基础=0.96810 auc_避孕的原理和方法=0.98301 auc_郡县制=0.98484 auc_高中=0.00000 auc_高尔基体的结构和功能=0.94682 [step/sec: 1.37]\u001b[0m\n",
      "\u001b[36m[2020-03-01 21:11:29,871] [   TRAIN] - step 250 / 705: loss=2.08554 auc=0.87192 auc_“重农抑商”政策=0.97877 auc_不完全显性=0.83374 auc_与细胞分裂有关的细胞器=0.94005 auc_中央官制——三公九卿制=0.98733 auc_中心体的结构和功能=0.94937 auc_人体免疫系统在维持稳态中的作用=0.94700 auc_人体水盐平衡调节=0.84504 auc_人体的体温调节=0.76117 auc_人口与城市=0.86182 auc_人口增长与人口问题=0.77714 auc_人口迁移与人口流动=0.83551 auc_人工授精、试管婴儿等生殖技术=0.98596 auc_伴性遗传=0.85958 auc_体液免疫的概念和过程=0.94592 auc_免疫系统的功能=0.95536 auc_免疫系统的组成=0.95316 auc_公民道德与伦理常识=0.98499 auc_兴奋在神经元之间的传递=0.78394 auc_兴奋在神经纤维上的传导=0.74680 auc_内环境的稳态=0.95510 auc_内质网的结构和功能=0.93540 auc_农业区位因素=0.81594 auc_减数分裂与有丝分裂的比较=0.95728 auc_减数分裂的概念=0.93510 auc_分子与细胞=0.92966 auc_劳动就业与守法经营=0.94779 auc_历史=0.99391 auc_古代史=0.98040 auc_器官移植=0.82863 auc_地球与地图=0.25345 auc_地球所处的宇宙环境=0.87906 auc_地球的内部圈层结构及特点=0.93614 auc_地球的外部圈层结构及特点=0.88118 auc_地球运动的地理意义=0.96648 auc_地球运动的基本形式=0.86513 auc_地理=0.99249 auc_垄断组织的出现=0.91372 auc_培养基与无菌技术=0.92184 auc_基因工程的原理及技术=0.88531 auc_基因工程的概念=0.86716 auc_基因的分离规律的实质及应用=0.92547 auc_基因的自由组合规律的实质及应用=0.93373 auc_复等位基因=0.90725 auc_夏商两代的政治制度=0.98452 auc_太阳对地球的影响=0.90884 auc_宇宙中的地球=0.99124 auc_工业区位因素=0.83956 auc_拉马克的进化学说=0.63738 auc_政治=0.99170 auc_文艺的春天=0.91890 auc_核糖体的结构和功能=0.95037 auc_海峡两岸关系的发展=0.86715 auc_液泡的结构和功能=0.95098 auc_清末民主革命风潮=0.88356 auc_溶酶体的结构和功能=0.94666 auc_激素调节=0.68377 auc_现代史=0.94529 auc_现代生物技术专题=0.87707 auc_生产活动与地域联系=0.92036 auc_生命活动离不开细胞=0.83524 auc_生态系统的营养结构=0.63242 auc_生活中的法律常识=0.55460 auc_生物=0.99817 auc_生物工程技术=0.86544 auc_生物性污染=0.98297 auc_生物技术在其他方面的应用=0.93461 auc_生物技术实践=0.90324 auc_生物科学与社会=0.94276 auc_皇帝制度=0.98868 auc_社会主义市场经济的伦理要求=0.98650 auc_社会主义是中国人民的历史性选择=0.94585 auc_神经调节和体液调节的比较=0.78016 auc_科学社会主义常识=0.90761 auc_稳态与环境=0.96345 auc_第三产业的兴起和“新经济”的出现=0.92607 auc_组成细胞的化合物=0.91330 auc_组成细胞的化学元素=0.90978 auc_细胞大小与物质运输的关系=0.76016 auc_细胞有丝分裂不同时期的特点=0.86494 auc_细胞的多样性和统一性=0.91123 auc_经济学常识=0.00000 auc_群落的结构=0.67839 auc_胚胎移植=0.84443 auc_蛋白质的合成=0.87318 auc_血糖平衡的调节=0.83576 auc_走进细胞=0.89957 auc_近代史=0.93778 auc_选官、用官制度的变化=0.93483 auc_遗传与进化=0.82839 auc_遗传的分子基础=0.97064 auc_遗传的细胞基础=0.96847 auc_避孕的原理和方法=0.98334 auc_郡县制=0.98522 auc_高中=0.00000 auc_高尔基体的结构和功能=0.94787 [step/sec: 1.38]\u001b[0m\n",
      "\u001b[36m[2020-03-01 21:11:37,179] [   TRAIN] - step 260 / 705: loss=1.97923 auc=0.87301 auc_“重农抑商”政策=0.97930 auc_不完全显性=0.83577 auc_与细胞分裂有关的细胞器=0.94126 auc_中央官制——三公九卿制=0.98763 auc_中心体的结构和功能=0.95047 auc_人体免疫系统在维持稳态中的作用=0.94759 auc_人体水盐平衡调节=0.84690 auc_人体的体温调节=0.76512 auc_人口与城市=0.86440 auc_人口增长与人口问题=0.78089 auc_人口迁移与人口流动=0.83834 auc_人工授精、试管婴儿等生殖技术=0.98618 auc_伴性遗传=0.86085 auc_体液免疫的概念和过程=0.94657 auc_免疫系统的功能=0.95592 auc_免疫系统的组成=0.95371 auc_公民道德与伦理常识=0.98529 auc_兴奋在神经元之间的传递=0.78617 auc_兴奋在神经纤维上的传导=0.74879 auc_内环境的稳态=0.95567 auc_内质网的结构和功能=0.93683 auc_农业区位因素=0.81876 auc_减数分裂与有丝分裂的比较=0.95799 auc_减数分裂的概念=0.93586 auc_分子与细胞=0.93064 auc_劳动就业与守法经营=0.94847 auc_历史=0.99405 auc_古代史=0.98084 auc_器官移植=0.83148 auc_地球与地图=0.25573 auc_地球所处的宇宙环境=0.88041 auc_地球的内部圈层结构及特点=0.93714 auc_地球的外部圈层结构及特点=0.88310 auc_地球运动的地理意义=0.96689 auc_地球运动的基本形式=0.86654 auc_地理=0.99267 auc_垄断组织的出现=0.91542 auc_培养基与无菌技术=0.92228 auc_基因工程的原理及技术=0.88699 auc_基因工程的概念=0.86921 auc_基因的分离规律的实质及应用=0.92639 auc_基因的自由组合规律的实质及应用=0.93417 auc_复等位基因=0.90879 auc_夏商两代的政治制度=0.98491 auc_太阳对地球的影响=0.90994 auc_宇宙中的地球=0.99142 auc_工业区位因素=0.84043 auc_拉马克的进化学说=0.63961 auc_政治=0.99187 auc_文艺的春天=0.91966 auc_核糖体的结构和功能=0.95145 auc_海峡两岸关系的发展=0.86969 auc_液泡的结构和功能=0.95199 auc_清末民主革命风潮=0.88499 auc_溶酶体的结构和功能=0.94783 auc_激素调节=0.68658 auc_现代史=0.94577 auc_现代生物技术专题=0.87833 auc_生产活动与地域联系=0.92140 auc_生命活动离不开细胞=0.83710 auc_生态系统的营养结构=0.63523 auc_生活中的法律常识=0.54352 auc_生物=0.99821 auc_生物工程技术=0.86717 auc_生物性污染=0.98326 auc_生物技术在其他方面的应用=0.93574 auc_生物技术实践=0.90439 auc_生物科学与社会=0.94314 auc_皇帝制度=0.98895 auc_社会主义市场经济的伦理要求=0.98677 auc_社会主义是中国人民的历史性选择=0.94682 auc_神经调节和体液调节的比较=0.78276 auc_科学社会主义常识=0.90907 auc_稳态与环境=0.96399 auc_第三产业的兴起和“新经济”的出现=0.92756 auc_组成细胞的化合物=0.91436 auc_组成细胞的化学元素=0.91085 auc_细胞大小与物质运输的关系=0.76012 auc_细胞有丝分裂不同时期的特点=0.86408 auc_细胞的多样性和统一性=0.91241 auc_经济学常识=0.00000 auc_群落的结构=0.68227 auc_胚胎移植=0.84696 auc_蛋白质的合成=0.87548 auc_血糖平衡的调节=0.83753 auc_走进细胞=0.90162 auc_近代史=0.93890 auc_选官、用官制度的变化=0.93641 auc_遗传与进化=0.82965 auc_遗传的分子基础=0.97105 auc_遗传的细胞基础=0.96903 auc_避孕的原理和方法=0.98361 auc_郡县制=0.98558 auc_高中=0.00000 auc_高尔基体的结构和功能=0.94901 [step/sec: 1.37]\u001b[0m\n",
      "\u001b[36m[2020-03-01 21:11:44,626] [   TRAIN] - step 270 / 705: loss=1.88406 auc=0.87431 auc_“重农抑商”政策=0.97986 auc_不完全显性=0.83710 auc_与细胞分裂有关的细胞器=0.94210 auc_中央官制——三公九卿制=0.98795 auc_中心体的结构和功能=0.95129 auc_人体免疫系统在维持稳态中的作用=0.94884 auc_人体水盐平衡调节=0.84865 auc_人体的体温调节=0.76835 auc_人口与城市=0.86646 auc_人口增长与人口问题=0.78441 auc_人口迁移与人口流动=0.84071 auc_人工授精、试管婴儿等生殖技术=0.98643 auc_伴性遗传=0.86181 auc_体液免疫的概念和过程=0.94777 auc_免疫系统的功能=0.95696 auc_免疫系统的组成=0.95481 auc_公民道德与伦理常识=0.98552 auc_兴奋在神经元之间的传递=0.78983 auc_兴奋在神经纤维上的传导=0.75293 auc_内环境的稳态=0.95619 auc_内质网的结构和功能=0.93790 auc_农业区位因素=0.82167 auc_减数分裂与有丝分裂的比较=0.95842 auc_减数分裂的概念=0.93655 auc_分子与细胞=0.93173 auc_劳动就业与守法经营=0.94909 auc_历史=0.99420 auc_古代史=0.98130 auc_器官移植=0.83381 auc_地球与地图=0.25838 auc_地球所处的宇宙环境=0.88198 auc_地球的内部圈层结构及特点=0.93809 auc_地球的外部圈层结构及特点=0.88481 auc_地球运动的地理意义=0.96722 auc_地球运动的基本形式=0.86759 auc_地理=0.99281 auc_垄断组织的出现=0.91649 auc_培养基与无菌技术=0.92293 auc_基因工程的原理及技术=0.88852 auc_基因工程的概念=0.87100 auc_基因的分离规律的实质及应用=0.92674 auc_基因的自由组合规律的实质及应用=0.93486 auc_复等位基因=0.90994 auc_夏商两代的政治制度=0.98531 auc_太阳对地球的影响=0.91009 auc_宇宙中的地球=0.99146 auc_工业区位因素=0.84456 auc_拉马克的进化学说=0.64113 auc_政治=0.99201 auc_文艺的春天=0.92056 auc_核糖体的结构和功能=0.95229 auc_海峡两岸关系的发展=0.87130 auc_液泡的结构和功能=0.95274 auc_清末民主革命风潮=0.88713 auc_溶酶体的结构和功能=0.94874 auc_激素调节=0.69157 auc_现代史=0.94634 auc_现代生物技术专题=0.87974 auc_生产活动与地域联系=0.92327 auc_生命活动离不开细胞=0.83772 auc_生态系统的营养结构=0.63808 auc_生活中的法律常识=0.54675 auc_生物=0.99825 auc_生物工程技术=0.86833 auc_生物性污染=0.98357 auc_生物技术在其他方面的应用=0.93680 auc_生物技术实践=0.90536 auc_生物科学与社会=0.94329 auc_皇帝制度=0.98922 auc_社会主义市场经济的伦理要求=0.98698 auc_社会主义是中国人民的历史性选择=0.94779 auc_神经调节和体液调节的比较=0.78807 auc_科学社会主义常识=0.91064 auc_稳态与环境=0.96466 auc_第三产业的兴起和“新经济”的出现=0.92849 auc_组成细胞的化合物=0.91559 auc_组成细胞的化学元素=0.91219 auc_细胞大小与物质运输的关系=0.76237 auc_细胞有丝分裂不同时期的特点=0.86554 auc_细胞的多样性和统一性=0.91349 auc_经济学常识=0.00000 auc_群落的结构=0.68693 auc_胚胎移植=0.84925 auc_蛋白质的合成=0.87685 auc_血糖平衡的调节=0.83917 auc_走进细胞=0.90288 auc_近代史=0.93994 auc_选官、用官制度的变化=0.93813 auc_遗传与进化=0.83052 auc_遗传的分子基础=0.97146 auc_遗传的细胞基础=0.96949 auc_避孕的原理和方法=0.98389 auc_郡县制=0.98596 auc_高中=0.00000 auc_高尔基体的结构和功能=0.94985 [step/sec: 1.35]\u001b[0m\n",
      "\u001b[36m[2020-03-01 21:11:52,126] [   TRAIN] - step 280 / 705: loss=2.02075 auc=0.87548 auc_“重农抑商”政策=0.98015 auc_不完全显性=0.83936 auc_与细胞分裂有关的细胞器=0.94212 auc_中央官制——三公九卿制=0.98805 auc_中心体的结构和功能=0.95158 auc_人体免疫系统在维持稳态中的作用=0.94980 auc_人体水盐平衡调节=0.85043 auc_人体的体温调节=0.77156 auc_人口与城市=0.86820 auc_人口增长与人口问题=0.78631 auc_人口迁移与人口流动=0.84292 auc_人工授精、试管婴儿等生殖技术=0.98667 auc_伴性遗传=0.86272 auc_体液免疫的概念和过程=0.94844 auc_免疫系统的功能=0.95766 auc_免疫系统的组成=0.95565 auc_公民道德与伦理常识=0.98578 auc_兴奋在神经元之间的传递=0.79528 auc_兴奋在神经纤维上的传导=0.75958 auc_内环境的稳态=0.95640 auc_内质网的结构和功能=0.93846 auc_农业区位因素=0.82431 auc_减数分裂与有丝分裂的比较=0.95896 auc_减数分裂的概念=0.93740 auc_分子与细胞=0.93221 auc_劳动就业与守法经营=0.94989 auc_历史=0.99423 auc_古代史=0.98099 auc_器官移植=0.83557 auc_地球与地图=0.26160 auc_地球所处的宇宙环境=0.88303 auc_地球的内部圈层结构及特点=0.93915 auc_地球的外部圈层结构及特点=0.88674 auc_地球运动的地理意义=0.96744 auc_地球运动的基本形式=0.86927 auc_地理=0.99296 auc_垄断组织的出现=0.91789 auc_培养基与无菌技术=0.92386 auc_基因工程的原理及技术=0.88958 auc_基因工程的概念=0.87234 auc_基因的分离规律的实质及应用=0.92739 auc_基因的自由组合规律的实质及应用=0.93539 auc_复等位基因=0.91022 auc_夏商两代的政治制度=0.98555 auc_太阳对地球的影响=0.91166 auc_宇宙中的地球=0.99164 auc_工业区位因素=0.84817 auc_拉马克的进化学说=0.64309 auc_政治=0.99218 auc_文艺的春天=0.92012 auc_核糖体的结构和功能=0.95245 auc_海峡两岸关系的发展=0.87223 auc_液泡的结构和功能=0.95308 auc_清末民主革命风潮=0.88891 auc_溶酶体的结构和功能=0.94884 auc_激素调节=0.69474 auc_现代史=0.94613 auc_现代生物技术专题=0.88076 auc_生产活动与地域联系=0.92485 auc_生命活动离不开细胞=0.83849 auc_生态系统的营养结构=0.64242 auc_生活中的法律常识=0.55049 auc_生物=0.99828 auc_生物工程技术=0.86989 auc_生物性污染=0.98387 auc_生物技术在其他方面的应用=0.93740 auc_生物技术实践=0.90630 auc_生物科学与社会=0.94379 auc_皇帝制度=0.98936 auc_社会主义市场经济的伦理要求=0.98722 auc_社会主义是中国人民的历史性选择=0.94906 auc_神经调节和体液调节的比较=0.79386 auc_科学社会主义常识=0.91283 auc_稳态与环境=0.96509 auc_第三产业的兴起和“新经济”的出现=0.92969 auc_组成细胞的化合物=0.91649 auc_组成细胞的化学元素=0.91325 auc_细胞大小与物质运输的关系=0.76249 auc_细胞有丝分裂不同时期的特点=0.86788 auc_细胞的多样性和统一性=0.91452 auc_经济学常识=0.00000 auc_群落的结构=0.68954 auc_胚胎移植=0.85071 auc_蛋白质的合成=0.87829 auc_血糖平衡的调节=0.84127 auc_走进细胞=0.90322 auc_近代史=0.94093 auc_选官、用官制度的变化=0.93918 auc_遗传与进化=0.83092 auc_遗传的分子基础=0.97182 auc_遗传的细胞基础=0.96993 auc_避孕的原理和方法=0.98418 auc_郡县制=0.98616 auc_高中=0.00000 auc_高尔基体的结构和功能=0.95019 [step/sec: 1.34]\u001b[0m\n",
      "\u001b[36m[2020-03-01 21:11:59,579] [   TRAIN] - step 290 / 705: loss=1.92786 auc=0.87666 auc_“重农抑商”政策=0.98069 auc_不完全显性=0.84074 auc_与细胞分裂有关的细胞器=0.94290 auc_中央官制——三公九卿制=0.98834 auc_中心体的结构和功能=0.95221 auc_人体免疫系统在维持稳态中的作用=0.95021 auc_人体水盐平衡调节=0.85251 auc_人体的体温调节=0.77480 auc_人口与城市=0.87033 auc_人口增长与人口问题=0.78991 auc_人口迁移与人口流动=0.84536 auc_人工授精、试管婴儿等生殖技术=0.98676 auc_伴性遗传=0.86274 auc_体液免疫的概念和过程=0.94887 auc_免疫系统的功能=0.95804 auc_免疫系统的组成=0.95611 auc_公民道德与伦理常识=0.98601 auc_兴奋在神经元之间的传递=0.79800 auc_兴奋在神经纤维上的传导=0.76241 auc_内环境的稳态=0.95670 auc_内质网的结构和功能=0.93935 auc_农业区位因素=0.82603 auc_减数分裂与有丝分裂的比较=0.95955 auc_减数分裂的概念=0.93826 auc_分子与细胞=0.93320 auc_劳动就业与守法经营=0.95043 auc_历史=0.99437 auc_古代史=0.98133 auc_器官移植=0.83792 auc_地球与地图=0.26389 auc_地球所处的宇宙环境=0.88400 auc_地球的内部圈层结构及特点=0.94033 auc_地球的外部圈层结构及特点=0.88877 auc_地球运动的地理意义=0.96781 auc_地球运动的基本形式=0.87064 auc_地理=0.99311 auc_垄断组织的出现=0.91919 auc_培养基与无菌技术=0.92389 auc_基因工程的原理及技术=0.89097 auc_基因工程的概念=0.87429 auc_基因的分离规律的实质及应用=0.92756 auc_基因的自由组合规律的实质及应用=0.93634 auc_复等位基因=0.91132 auc_夏商两代的政治制度=0.98592 auc_太阳对地球的影响=0.91256 auc_宇宙中的地球=0.99181 auc_工业区位因素=0.85104 auc_拉马克的进化学说=0.64490 auc_政治=0.99236 auc_文艺的春天=0.92087 auc_核糖体的结构和功能=0.95311 auc_海峡两岸关系的发展=0.87474 auc_液泡的结构和功能=0.95369 auc_清末民主革命风潮=0.89061 auc_溶酶体的结构和功能=0.94957 auc_激素调节=0.69910 auc_现代史=0.94664 auc_现代生物技术专题=0.88183 auc_生产活动与地域联系=0.92621 auc_生命活动离不开细胞=0.83964 auc_生态系统的营养结构=0.64587 auc_生活中的法律常识=0.55351 auc_生物=0.99831 auc_生物工程技术=0.87149 auc_生物性污染=0.98397 auc_生物技术在其他方面的应用=0.93825 auc_生物技术实践=0.90707 auc_生物科学与社会=0.94382 auc_皇帝制度=0.98962 auc_社会主义市场经济的伦理要求=0.98743 auc_社会主义是中国人民的历史性选择=0.95072 auc_神经调节和体液调节的比较=0.79717 auc_科学社会主义常识=0.91546 auc_稳态与环境=0.96551 auc_第三产业的兴起和“新经济”的出现=0.93078 auc_组成细胞的化合物=0.91768 auc_组成细胞的化学元素=0.91450 auc_细胞大小与物质运输的关系=0.76391 auc_细胞有丝分裂不同时期的特点=0.86906 auc_细胞的多样性和统一性=0.91566 auc_经济学常识=0.00000 auc_群落的结构=0.69428 auc_胚胎移植=0.85291 auc_蛋白质的合成=0.88002 auc_血糖平衡的调节=0.84329 auc_走进细胞=0.90430 auc_近代史=0.94148 auc_选官、用官制度的变化=0.94045 auc_遗传与进化=0.83156 auc_遗传的分子基础=0.97194 auc_遗传的细胞基础=0.97021 auc_避孕的原理和方法=0.98433 auc_郡县制=0.98653 auc_高中=0.00000 auc_高尔基体的结构和功能=0.95090 [step/sec: 1.35]\u001b[0m\n",
      "\u001b[36m[2020-03-01 21:12:07,020] [   TRAIN] - step 300 / 705: loss=1.94070 auc=0.87788 auc_“重农抑商”政策=0.98108 auc_不完全显性=0.84170 auc_与细胞分裂有关的细胞器=0.94323 auc_中央官制——三公九卿制=0.98857 auc_中心体的结构和功能=0.95236 auc_人体免疫系统在维持稳态中的作用=0.95136 auc_人体水盐平衡调节=0.85506 auc_人体的体温调节=0.77893 auc_人口与城市=0.87303 auc_人口增长与人口问题=0.79464 auc_人口迁移与人口流动=0.84838 auc_人工授精、试管婴儿等生殖技术=0.98684 auc_伴性遗传=0.86351 auc_体液免疫的概念和过程=0.95002 auc_免疫系统的功能=0.95901 auc_免疫系统的组成=0.95712 auc_公民道德与伦理常识=0.98628 auc_兴奋在神经元之间的传递=0.80079 auc_兴奋在神经纤维上的传导=0.76568 auc_内环境的稳态=0.95751 auc_内质网的结构和功能=0.93924 auc_农业区位因素=0.82854 auc_减数分裂与有丝分裂的比较=0.96003 auc_减数分裂的概念=0.93900 auc_分子与细胞=0.93369 auc_劳动就业与守法经营=0.95141 auc_历史=0.99449 auc_古代史=0.98157 auc_器官移植=0.84054 auc_地球与地图=0.26736 auc_地球所处的宇宙环境=0.88658 auc_地球的内部圈层结构及特点=0.94151 auc_地球的外部圈层结构及特点=0.89095 auc_地球运动的地理意义=0.96829 auc_地球运动的基本形式=0.87135 auc_地理=0.99324 auc_垄断组织的出现=0.92042 auc_培养基与无菌技术=0.92461 auc_基因工程的原理及技术=0.89255 auc_基因工程的概念=0.87621 auc_基因的分离规律的实质及应用=0.92764 auc_基因的自由组合规律的实质及应用=0.93732 auc_复等位基因=0.91231 auc_夏商两代的政治制度=0.98620 auc_太阳对地球的影响=0.91379 auc_宇宙中的地球=0.99199 auc_工业区位因素=0.85371 auc_拉马克的进化学说=0.64732 auc_政治=0.99247 auc_文艺的春天=0.92226 auc_核糖体的结构和功能=0.95282 auc_海峡两岸关系的发展=0.87651 auc_液泡的结构和功能=0.95373 auc_清末民主革命风潮=0.89219 auc_溶酶体的结构和功能=0.94950 auc_激素调节=0.70193 auc_现代史=0.94738 auc_现代生物技术专题=0.88337 auc_生产活动与地域联系=0.92740 auc_生命活动离不开细胞=0.84104 auc_生态系统的营养结构=0.65330 auc_生活中的法律常识=0.55711 auc_生物=0.99835 auc_生物工程技术=0.87328 auc_生物性污染=0.98410 auc_生物技术在其他方面的应用=0.93911 auc_生物技术实践=0.90807 auc_生物科学与社会=0.94416 auc_皇帝制度=0.98982 auc_社会主义市场经济的伦理要求=0.98768 auc_社会主义是中国人民的历史性选择=0.95127 auc_神经调节和体液调节的比较=0.79706 auc_科学社会主义常识=0.91651 auc_稳态与环境=0.96621 auc_第三产业的兴起和“新经济”的出现=0.93181 auc_组成细胞的化合物=0.91823 auc_组成细胞的化学元素=0.91513 auc_细胞大小与物质运输的关系=0.76403 auc_细胞有丝分裂不同时期的特点=0.87010 auc_细胞的多样性和统一性=0.91761 auc_经济学常识=0.00000 auc_群落的结构=0.70035 auc_胚胎移植=0.85525 auc_蛋白质的合成=0.88157 auc_血糖平衡的调节=0.84566 auc_走进细胞=0.90345 auc_近代史=0.94233 auc_选官、用官制度的变化=0.94131 auc_遗传与进化=0.83269 auc_遗传的分子基础=0.97237 auc_遗传的细胞基础=0.97047 auc_避孕的原理和方法=0.98445 auc_郡县制=0.98679 auc_高中=0.00000 auc_高尔基体的结构和功能=0.95118 [step/sec: 1.35]\u001b[0m\n",
      "\u001b[32m[2020-03-01 21:12:07,021] [    INFO] - Evaluation on dev dataset start\u001b[0m\n",
      "\u001b[34m[2020-03-01 21:13:05,495] [    EVAL] - [dev dataset evaluation result] loss=1.89657 auc=0.89974 auc_“重农抑商”政策=0.98637 auc_不完全显性=0.87190 auc_与细胞分裂有关的细胞器=0.95664 auc_中央官制——三公九卿制=0.99152 auc_中心体的结构和功能=0.96298 auc_人体免疫系统在维持稳态中的作用=0.96319 auc_人体水盐平衡调节=0.88621 auc_人体的体温调节=0.84040 auc_人口与城市=0.92299 auc_人口增长与人口问题=0.87115 auc_人口迁移与人口流动=0.89830 auc_人工授精、试管婴儿等生殖技术=0.98880 auc_伴性遗传=0.89157 auc_体液免疫的概念和过程=0.96233 auc_免疫系统的功能=0.96830 auc_免疫系统的组成=0.96653 auc_公民道德与伦理常识=0.99014 auc_兴奋在神经元之间的传递=0.86469 auc_兴奋在神经纤维上的传导=0.83896 auc_内环境的稳态=0.96662 auc_内质网的结构和功能=0.95401 auc_农业区位因素=0.88986 auc_减数分裂与有丝分裂的比较=0.96848 auc_减数分裂的概念=0.95025 auc_分子与细胞=0.94973 auc_劳动就业与守法经营=0.96480 auc_历史=0.99622 auc_古代史=0.98573 auc_器官移植=0.88909 auc_地球与地图=0.28980 auc_地球所处的宇宙环境=0.91969 auc_地球的内部圈层结构及特点=0.95891 auc_地球的外部圈层结构及特点=0.92654 auc_地球运动的地理意义=0.97567 auc_地球运动的基本形式=0.90235 auc_地理=0.99558 auc_垄断组织的出现=0.94498 auc_培养基与无菌技术=0.94086 auc_基因工程的原理及技术=0.92428 auc_基因工程的概念=0.91193 auc_基因的分离规律的实质及应用=0.93495 auc_基因的自由组合规律的实质及应用=0.94319 auc_复等位基因=0.93446 auc_夏商两代的政治制度=0.98981 auc_太阳对地球的影响=0.93686 auc_宇宙中的地球=0.99453 auc_工业区位因素=0.90284 auc_拉马克的进化学说=0.69450 auc_政治=0.99459 auc_文艺的春天=0.94306 auc_核糖体的结构和功能=0.96307 auc_海峡两岸关系的发展=0.91116 auc_液泡的结构和功能=0.96280 auc_清末民主革命风潮=0.92631 auc_溶酶体的结构和功能=0.96094 auc_激素调节=0.77466 auc_现代史=0.95758 auc_现代生物技术专题=0.90319 auc_生产活动与地域联系=0.95358 auc_生命活动离不开细胞=0.86011 auc_生态系统的营养结构=0.74062 auc_生活中的法律常识=0.52654 auc_生物=0.99888 auc_生物工程技术=0.90843 auc_生物性污染=0.98649 auc_生物技术在其他方面的应用=0.95433 auc_生物技术实践=0.92790 auc_生物科学与社会=0.94896 auc_皇帝制度=0.99179 auc_社会主义市场经济的伦理要求=0.99095 auc_社会主义是中国人民的历史性选择=0.96656 auc_神经调节和体液调节的比较=0.85669 auc_科学社会主义常识=0.94377 auc_稳态与环境=0.97474 auc_第三产业的兴起和“新经济”的出现=0.95209 auc_组成细胞的化合物=0.93697 auc_组成细胞的化学元素=0.93416 auc_细胞大小与物质运输的关系=0.80029 auc_细胞有丝分裂不同时期的特点=0.87378 auc_细胞的多样性和统一性=0.93696 auc_经济学常识=0.00000 auc_群落的结构=0.77644 auc_胚胎移植=0.89760 auc_蛋白质的合成=0.90823 auc_血糖平衡的调节=0.88183 auc_走进细胞=0.92532 auc_近代史=0.95964 auc_选官、用官制度的变化=0.95934 auc_遗传与进化=0.85022 auc_遗传的分子基础=0.97799 auc_遗传的细胞基础=0.97799 auc_避孕的原理和方法=0.98717 auc_郡县制=0.98978 auc_高中=0.00000 auc_高尔基体的结构和功能=0.96195 [step/sec: 4.84]\u001b[0m\n",
      "\u001b[34m[2020-03-01 21:13:05,496] [    EVAL] - best model saved to ckpt_20200301210426/best_model [best auc=0.89974]\u001b[0m\n",
      "\u001b[36m[2020-03-01 21:13:16,584] [   TRAIN] - step 310 / 705: loss=1.84233 auc=0.90030 auc_“重农抑商”政策=0.98656 auc_不完全显性=0.87219 auc_与细胞分裂有关的细胞器=0.95703 auc_中央官制——三公九卿制=0.99163 auc_中心体的结构和功能=0.96336 auc_人体免疫系统在维持稳态中的作用=0.96362 auc_人体水盐平衡调节=0.88705 auc_人体的体温调节=0.84163 auc_人口与城市=0.92372 auc_人口增长与人口问题=0.87214 auc_人口迁移与人口流动=0.89939 auc_人工授精、试管婴儿等生殖技术=0.98883 auc_伴性遗传=0.89243 auc_体液免疫的概念和过程=0.96277 auc_免疫系统的功能=0.96867 auc_免疫系统的组成=0.96692 auc_公民道德与伦理常识=0.99029 auc_兴奋在神经元之间的传递=0.86551 auc_兴奋在神经纤维上的传导=0.83976 auc_内环境的稳态=0.96698 auc_内质网的结构和功能=0.95457 auc_农业区位因素=0.89104 auc_减数分裂与有丝分裂的比较=0.96881 auc_减数分裂的概念=0.95049 auc_分子与细胞=0.95018 auc_劳动就业与守法经营=0.96511 auc_历史=0.99626 auc_古代史=0.98592 auc_器官移植=0.89021 auc_地球与地图=0.28783 auc_地球所处的宇宙环境=0.92014 auc_地球的内部圈层结构及特点=0.95942 auc_地球的外部圈层结构及特点=0.92742 auc_地球运动的地理意义=0.97583 auc_地球运动的基本形式=0.90301 auc_地理=0.99565 auc_垄断组织的出现=0.94561 auc_培养基与无菌技术=0.94139 auc_基因工程的原理及技术=0.92509 auc_基因工程的概念=0.91282 auc_基因的分离规律的实质及应用=0.93536 auc_基因的自由组合规律的实质及应用=0.94364 auc_复等位基因=0.93510 auc_夏商两代的政治制度=0.98994 auc_太阳对地球的影响=0.93762 auc_宇宙中的地球=0.99456 auc_工业区位因素=0.90445 auc_拉马克的进化学说=0.69612 auc_政治=0.99468 auc_文艺的春天=0.94337 auc_核糖体的结构和功能=0.96348 auc_海峡两岸关系的发展=0.91217 auc_液泡的结构和功能=0.96319 auc_清末民主革命风潮=0.92694 auc_溶酶体的结构和功能=0.96140 auc_激素调节=0.77705 auc_现代史=0.95783 auc_现代生物技术专题=0.90409 auc_生产活动与地域联系=0.95405 auc_生命活动离不开细胞=0.86122 auc_生态系统的营养结构=0.74172 auc_生活中的法律常识=0.52881 auc_生物=0.99889 auc_生物工程技术=0.90952 auc_生物性污染=0.98655 auc_生物技术在其他方面的应用=0.95442 auc_生物技术实践=0.92815 auc_生物科学与社会=0.94918 auc_皇帝制度=0.99189 auc_社会主义市场经济的伦理要求=0.99109 auc_社会主义是中国人民的历史性选择=0.96705 auc_神经调节和体液调节的比较=0.85764 auc_科学社会主义常识=0.94458 auc_稳态与环境=0.97485 auc_第三产业的兴起和“新经济”的出现=0.95263 auc_组成细胞的化合物=0.93726 auc_组成细胞的化学元素=0.93458 auc_细胞大小与物质运输的关系=0.80222 auc_细胞有丝分裂不同时期的特点=0.87491 auc_细胞的多样性和统一性=0.93777 auc_经济学常识=0.00000 auc_群落的结构=0.77859 auc_胚胎移植=0.89859 auc_蛋白质的合成=0.90876 auc_血糖平衡的调节=0.88253 auc_走进细胞=0.92590 auc_近代史=0.96012 auc_选官、用官制度的变化=0.95965 auc_遗传与进化=0.85073 auc_遗传的分子基础=0.97823 auc_遗传的细胞基础=0.97823 auc_避孕的原理和方法=0.98724 auc_郡县制=0.98992 auc_高中=0.00000 auc_高尔基体的结构和功能=0.96237 [step/sec: 1.34]\u001b[0m\n",
      "\u001b[36m[2020-03-01 21:13:23,912] [   TRAIN] - step 320 / 705: loss=1.98117 auc=0.90086 auc_“重农抑商”政策=0.98677 auc_不完全显性=0.87226 auc_与细胞分裂有关的细胞器=0.95692 auc_中央官制——三公九卿制=0.99176 auc_中心体的结构和功能=0.96348 auc_人体免疫系统在维持稳态中的作用=0.96382 auc_人体水盐平衡调节=0.88855 auc_人体的体温调节=0.84392 auc_人口与城市=0.92467 auc_人口增长与人口问题=0.87338 auc_人口迁移与人口流动=0.90059 auc_人工授精、试管婴儿等生殖技术=0.98885 auc_伴性遗传=0.89332 auc_体液免疫的概念和过程=0.96303 auc_免疫系统的功能=0.96889 auc_免疫系统的组成=0.96714 auc_公民道德与伦理常识=0.99041 auc_兴奋在神经元之间的传递=0.86692 auc_兴奋在神经纤维上的传导=0.84147 auc_内环境的稳态=0.96724 auc_内质网的结构和功能=0.95467 auc_农业区位因素=0.89194 auc_减数分裂与有丝分裂的比较=0.96913 auc_减数分裂的概念=0.95074 auc_分子与细胞=0.95070 auc_劳动就业与守法经营=0.96528 auc_历史=0.99632 auc_古代史=0.98602 auc_器官移植=0.89208 auc_地球与地图=0.29020 auc_地球所处的宇宙环境=0.92090 auc_地球的内部圈层结构及特点=0.96004 auc_地球的外部圈层结构及特点=0.92840 auc_地球运动的地理意义=0.97590 auc_地球运动的基本形式=0.90384 auc_地理=0.99568 auc_垄断组织的出现=0.94655 auc_培养基与无菌技术=0.94215 auc_基因工程的原理及技术=0.92573 auc_基因工程的概念=0.91363 auc_基因的分离规律的实质及应用=0.93528 auc_基因的自由组合规律的实质及应用=0.94399 auc_复等位基因=0.93554 auc_夏商两代的政治制度=0.99011 auc_太阳对地球的影响=0.93807 auc_宇宙中的地球=0.99463 auc_工业区位因素=0.90518 auc_拉马克的进化学说=0.69646 auc_政治=0.99477 auc_文艺的春天=0.94367 auc_核糖体的结构和功能=0.96340 auc_海峡两岸关系的发展=0.91298 auc_液泡的结构和功能=0.96317 auc_清末民主革命风潮=0.92771 auc_溶酶体的结构和功能=0.96141 auc_激素调节=0.77964 auc_现代史=0.95802 auc_现代生物技术专题=0.90323 auc_生产活动与地域联系=0.95439 auc_生命活动离不开细胞=0.86087 auc_生态系统的营养结构=0.74396 auc_生活中的法律常识=0.53147 auc_生物=0.99887 auc_生物工程技术=0.91042 auc_生物性污染=0.98660 auc_生物技术在其他方面的应用=0.95463 auc_生物技术实践=0.92865 auc_生物科学与社会=0.94921 auc_皇帝制度=0.99202 auc_社会主义市场经济的伦理要求=0.99120 auc_社会主义是中国人民的历史性选择=0.96752 auc_神经调节和体液调节的比较=0.85895 auc_科学社会主义常识=0.94536 auc_稳态与环境=0.97500 auc_第三产业的兴起和“新经济”的出现=0.95342 auc_组成细胞的化合物=0.93786 auc_组成细胞的化学元素=0.93527 auc_细胞大小与物质运输的关系=0.80227 auc_细胞有丝分裂不同时期的特点=0.87608 auc_细胞的多样性和统一性=0.93818 auc_经济学常识=0.00000 auc_群落的结构=0.78058 auc_胚胎移植=0.90025 auc_蛋白质的合成=0.90983 auc_血糖平衡的调节=0.88411 auc_走进细胞=0.92603 auc_近代史=0.96050 auc_选官、用官制度的变化=0.96018 auc_遗传与进化=0.85075 auc_遗传的分子基础=0.97850 auc_遗传的细胞基础=0.97852 auc_避孕的原理和方法=0.98729 auc_郡县制=0.99007 auc_高中=0.00000 auc_高尔基体的结构和功能=0.96242 [step/sec: 1.37]\u001b[0m\n",
      "\u001b[36m[2020-03-01 21:13:31,342] [   TRAIN] - step 330 / 705: loss=1.77962 auc=0.90146 auc_“重农抑商”政策=0.98671 auc_不完全显性=0.87368 auc_与细胞分裂有关的细胞器=0.95763 auc_中央官制——三公九卿制=0.99169 auc_中心体的结构和功能=0.96398 auc_人体免疫系统在维持稳态中的作用=0.96434 auc_人体水盐平衡调节=0.88938 auc_人体的体温调节=0.84507 auc_人口与城市=0.92586 auc_人口增长与人口问题=0.87519 auc_人口迁移与人口流动=0.90170 auc_人工授精、试管婴儿等生殖技术=0.98890 auc_伴性遗传=0.89404 auc_体液免疫的概念和过程=0.96354 auc_免疫系统的功能=0.96932 auc_免疫系统的组成=0.96760 auc_公民道德与伦理常识=0.99051 auc_兴奋在神经元之间的传递=0.86805 auc_兴奋在神经纤维上的传导=0.84258 auc_内环境的稳态=0.96747 auc_内质网的结构和功能=0.95532 auc_农业区位因素=0.89319 auc_减数分裂与有丝分裂的比较=0.96918 auc_减数分裂的概念=0.95098 auc_分子与细胞=0.95098 auc_劳动就业与守法经营=0.96563 auc_历史=0.99637 auc_古代史=0.98587 auc_器官移植=0.89336 auc_地球与地图=0.29262 auc_地球所处的宇宙环境=0.92132 auc_地球的内部圈层结构及特点=0.96059 auc_地球的外部圈层结构及特点=0.92938 auc_地球运动的地理意义=0.97606 auc_地球运动的基本形式=0.90472 auc_地理=0.99572 auc_垄断组织的出现=0.94696 auc_培养基与无菌技术=0.94243 auc_基因工程的原理及技术=0.92569 auc_基因工程的概念=0.91374 auc_基因的分离规律的实质及应用=0.93535 auc_基因的自由组合规律的实质及应用=0.94442 auc_复等位基因=0.93557 auc_夏商两代的政治制度=0.99002 auc_太阳对地球的影响=0.93871 auc_宇宙中的地球=0.99471 auc_工业区位因素=0.90613 auc_拉马克的进化学说=0.69726 auc_政治=0.99483 auc_文艺的春天=0.94441 auc_核糖体的结构和功能=0.96390 auc_海峡两岸关系的发展=0.91401 auc_液泡的结构和功能=0.96367 auc_清末民主革命风潮=0.92854 auc_溶酶体的结构和功能=0.96195 auc_激素调节=0.78166 auc_现代史=0.95828 auc_现代生物技术专题=0.90367 auc_生产活动与地域联系=0.95463 auc_生命活动离不开细胞=0.86206 auc_生态系统的营养结构=0.74799 auc_生活中的法律常识=0.53430 auc_生物=0.99888 auc_生物工程技术=0.91180 auc_生物性污染=0.98670 auc_生物技术在其他方面的应用=0.95486 auc_生物技术实践=0.92897 auc_生物科学与社会=0.94922 auc_皇帝制度=0.99177 auc_社会主义市场经济的伦理要求=0.99129 auc_社会主义是中国人民的历史性选择=0.96795 auc_神经调节和体液调节的比较=0.86026 auc_科学社会主义常识=0.94609 auc_稳态与环境=0.97511 auc_第三产业的兴起和“新经济”的出现=0.95381 auc_组成细胞的化合物=0.93814 auc_组成细胞的化学元素=0.93546 auc_细胞大小与物质运输的关系=0.80285 auc_细胞有丝分裂不同时期的特点=0.87721 auc_细胞的多样性和统一性=0.93900 auc_经济学常识=0.00000 auc_群落的结构=0.78346 auc_胚胎移植=0.90147 auc_蛋白质的合成=0.91072 auc_血糖平衡的调节=0.88488 auc_走进细胞=0.92673 auc_近代史=0.96088 auc_选官、用官制度的变化=0.95963 auc_遗传与进化=0.85101 auc_遗传的分子基础=0.97872 auc_遗传的细胞基础=0.97874 auc_避孕的原理和方法=0.98736 auc_郡县制=0.98980 auc_高中=0.00000 auc_高尔基体的结构和功能=0.96293 [step/sec: 1.35]\u001b[0m\n",
      "\u001b[36m[2020-03-01 21:13:38,836] [   TRAIN] - step 340 / 705: loss=1.78118 auc=0.90211 auc_“重农抑商”政策=0.98684 auc_不完全显性=0.87434 auc_与细胞分裂有关的细胞器=0.95782 auc_中央官制——三公九卿制=0.99174 auc_中心体的结构和功能=0.96418 auc_人体免疫系统在维持稳态中的作用=0.96471 auc_人体水盐平衡调节=0.89057 auc_人体的体温调节=0.84684 auc_人口与城市=0.92674 auc_人口增长与人口问题=0.87621 auc_人口迁移与人口流动=0.90297 auc_人工授精、试管婴儿等生殖技术=0.98893 auc_伴性遗传=0.89484 auc_体液免疫的概念和过程=0.96388 auc_免疫系统的功能=0.96964 auc_免疫系统的组成=0.96793 auc_公民道德与伦理常识=0.99055 auc_兴奋在神经元之间的传递=0.87016 auc_兴奋在神经纤维上的传导=0.84514 auc_内环境的稳态=0.96765 auc_内质网的结构和功能=0.95557 auc_农业区位因素=0.89453 auc_减数分裂与有丝分裂的比较=0.96954 auc_减数分裂的概念=0.95150 auc_分子与细胞=0.95147 auc_劳动就业与守法经营=0.96572 auc_历史=0.99642 auc_古代史=0.98603 auc_器官移植=0.89491 auc_地球与地图=0.29492 auc_地球所处的宇宙环境=0.92200 auc_地球的内部圈层结构及特点=0.96120 auc_地球的外部圈层结构及特点=0.93043 auc_地球运动的地理意义=0.97618 auc_地球运动的基本形式=0.90552 auc_地理=0.99577 auc_垄断组织的出现=0.94753 auc_培养基与无菌技术=0.94275 auc_基因工程的原理及技术=0.92629 auc_基因工程的概念=0.91437 auc_基因的分离规律的实质及应用=0.93515 auc_基因的自由组合规律的实质及应用=0.94471 auc_复等位基因=0.93581 auc_夏商两代的政治制度=0.99011 auc_太阳对地球的影响=0.93933 auc_宇宙中的地球=0.99480 auc_工业区位因素=0.90699 auc_拉马克的进化学说=0.69904 auc_政治=0.99489 auc_文艺的春天=0.94492 auc_核糖体的结构和功能=0.96412 auc_海峡两岸关系的发展=0.91492 auc_液泡的结构和功能=0.96389 auc_清末民主革命风潮=0.92971 auc_溶酶体的结构和功能=0.96219 auc_激素调节=0.78504 auc_现代史=0.95866 auc_现代生物技术专题=0.90408 auc_生产活动与地域联系=0.95535 auc_生命活动离不开细胞=0.86323 auc_生态系统的营养结构=0.74985 auc_生活中的法律常识=0.53712 auc_生物=0.99890 auc_生物工程技术=0.91238 auc_生物性污染=0.98678 auc_生物技术在其他方面的应用=0.95529 auc_生物技术实践=0.92937 auc_生物科学与社会=0.94936 auc_皇帝制度=0.99183 auc_社会主义市场经济的伦理要求=0.99130 auc_社会主义是中国人民的历史性选择=0.96822 auc_神经调节和体液调节的比较=0.86207 auc_科学社会主义常识=0.94657 auc_稳态与环境=0.97536 auc_第三产业的兴起和“新经济”的出现=0.95428 auc_组成细胞的化合物=0.93894 auc_组成细胞的化学元素=0.93632 auc_细胞大小与物质运输的关系=0.80344 auc_细胞有丝分裂不同时期的特点=0.87855 auc_细胞的多样性和统一性=0.93862 auc_经济学常识=0.00000 auc_群落的结构=0.78516 auc_胚胎移植=0.90294 auc_蛋白质的合成=0.91213 auc_血糖平衡的调节=0.88612 auc_走进细胞=0.92722 auc_近代史=0.96124 auc_选官、用官制度的变化=0.95976 auc_遗传与进化=0.85169 auc_遗传的分子基础=0.97879 auc_遗传的细胞基础=0.97878 auc_避孕的原理和方法=0.98738 auc_郡县制=0.98988 auc_高中=0.00000 auc_高尔基体的结构和功能=0.96325 [step/sec: 1.34]\u001b[0m\n",
      "\u001b[36m[2020-03-01 21:13:45,862] [   TRAIN] - step 350 / 705: loss=1.63154 auc=0.90266 auc_“重农抑商”政策=0.98693 auc_不完全显性=0.87527 auc_与细胞分裂有关的细胞器=0.95839 auc_中央官制——三公九卿制=0.99181 auc_中心体的结构和功能=0.96461 auc_人体免疫系统在维持稳态中的作用=0.96516 auc_人体水盐平衡调节=0.89166 auc_人体的体温调节=0.84875 auc_人口与城市=0.92746 auc_人口增长与人口问题=0.87749 auc_人口迁移与人口流动=0.90363 auc_人工授精、试管婴儿等生殖技术=0.98907 auc_伴性遗传=0.89507 auc_体液免疫的概念和过程=0.96433 auc_免疫系统的功能=0.97001 auc_免疫系统的组成=0.96832 auc_公民道德与伦理常识=0.99067 auc_兴奋在神经元之间的传递=0.87130 auc_兴奋在神经纤维上的传导=0.84650 auc_内环境的稳态=0.96802 auc_内质网的结构和功能=0.95613 auc_农业区位因素=0.89585 auc_减数分裂与有丝分裂的比较=0.96984 auc_减数分裂的概念=0.95215 auc_分子与细胞=0.95179 auc_劳动就业与守法经营=0.96598 auc_历史=0.99647 auc_古代史=0.98619 auc_器官移植=0.89556 auc_地球与地图=0.29732 auc_地球所处的宇宙环境=0.92284 auc_地球的内部圈层结构及特点=0.96173 auc_地球的外部圈层结构及特点=0.93137 auc_地球运动的地理意义=0.97636 auc_地球运动的基本形式=0.90609 auc_地理=0.99581 auc_垄断组织的出现=0.94815 auc_培养基与无菌技术=0.94339 auc_基因工程的原理及技术=0.92680 auc_基因工程的概念=0.91504 auc_基因的分离规律的实质及应用=0.93517 auc_基因的自由组合规律的实质及应用=0.94497 auc_复等位基因=0.93627 auc_夏商两代的政治制度=0.99019 auc_太阳对地球的影响=0.93983 auc_宇宙中的地球=0.99486 auc_工业区位因素=0.90760 auc_拉马克的进化学说=0.69930 auc_政治=0.99495 auc_文艺的春天=0.94535 auc_核糖体的结构和功能=0.96447 auc_海峡两岸关系的发展=0.91585 auc_液泡的结构和功能=0.96431 auc_清末民主革命风潮=0.93033 auc_溶酶体的结构和功能=0.96266 auc_激素调节=0.78572 auc_现代史=0.95893 auc_现代生物技术专题=0.90455 auc_生产活动与地域联系=0.95579 auc_生命活动离不开细胞=0.86352 auc_生态系统的营养结构=0.75237 auc_生活中的法律常识=0.53945 auc_生物=0.99889 auc_生物工程技术=0.91323 auc_生物性污染=0.98694 auc_生物技术在其他方面的应用=0.95567 auc_生物技术实践=0.92985 auc_生物科学与社会=0.94952 auc_皇帝制度=0.99189 auc_社会主义市场经济的伦理要求=0.99142 auc_社会主义是中国人民的历史性选择=0.96855 auc_神经调节和体液调节的比较=0.86330 auc_科学社会主义常识=0.94711 auc_稳态与环境=0.97553 auc_第三产业的兴起和“新经济”的出现=0.95480 auc_组成细胞的化合物=0.93953 auc_组成细胞的化学元素=0.93695 auc_细胞大小与物质运输的关系=0.80383 auc_细胞有丝分裂不同时期的特点=0.88038 auc_细胞的多样性和统一性=0.93951 auc_经济学常识=0.00000 auc_群落的结构=0.78624 auc_胚胎移植=0.90343 auc_蛋白质的合成=0.91279 auc_血糖平衡的调节=0.88719 auc_走进细胞=0.92767 auc_近代史=0.96165 auc_选官、用官制度的变化=0.96005 auc_遗传与进化=0.85144 auc_遗传的分子基础=0.97896 auc_遗传的细胞基础=0.97893 auc_避孕的原理和方法=0.98754 auc_郡县制=0.98996 auc_高中=0.00000 auc_高尔基体的结构和功能=0.96370 [step/sec: 1.31]\u001b[0m\n",
      "\u001b[36m[2020-03-01 21:13:53,262] [   TRAIN] - step 360 / 705: loss=1.66480 auc=0.90318 auc_“重农抑商”政策=0.98709 auc_不完全显性=0.87675 auc_与细胞分裂有关的细胞器=0.95868 auc_中央官制——三公九卿制=0.99190 auc_中心体的结构和功能=0.96507 auc_人体免疫系统在维持稳态中的作用=0.96562 auc_人体水盐平衡调节=0.89240 auc_人体的体温调节=0.84983 auc_人口与城市=0.92832 auc_人口增长与人口问题=0.87890 auc_人口迁移与人口流动=0.90450 auc_人工授精、试管婴儿等生殖技术=0.98920 auc_伴性遗传=0.89597 auc_体液免疫的概念和过程=0.96471 auc_免疫系统的功能=0.97035 auc_免疫系统的组成=0.96869 auc_公民道德与伦理常识=0.99075 auc_兴奋在神经元之间的传递=0.87343 auc_兴奋在神经纤维上的传导=0.84902 auc_内环境的稳态=0.96837 auc_内质网的结构和功能=0.95672 auc_农业区位因素=0.89738 auc_减数分裂与有丝分裂的比较=0.97011 auc_减数分裂的概念=0.95256 auc_分子与细胞=0.95229 auc_劳动就业与守法经营=0.96637 auc_历史=0.99652 auc_古代史=0.98628 auc_器官移植=0.89661 auc_地球与地图=0.29985 auc_地球所处的宇宙环境=0.92352 auc_地球的内部圈层结构及特点=0.96236 auc_地球的外部圈层结构及特点=0.93248 auc_地球运动的地理意义=0.97655 auc_地球运动的基本形式=0.90694 auc_地理=0.99589 auc_垄断组织的出现=0.94860 auc_培养基与无菌技术=0.94373 auc_基因工程的原理及技术=0.92713 auc_基因工程的概念=0.91534 auc_基因的分离规律的实质及应用=0.93539 auc_基因的自由组合规律的实质及应用=0.94530 auc_复等位基因=0.93634 auc_夏商两代的政治制度=0.99031 auc_太阳对地球的影响=0.94074 auc_宇宙中的地球=0.99494 auc_工业区位因素=0.90923 auc_拉马克的进化学说=0.70095 auc_政治=0.99502 auc_文艺的春天=0.94611 auc_核糖体的结构和功能=0.96493 auc_海峡两岸关系的发展=0.91689 auc_液泡的结构和功能=0.96474 auc_清末民主革命风潮=0.93128 auc_溶酶体的结构和功能=0.96313 auc_激素调节=0.78662 auc_现代史=0.95917 auc_现代生物技术专题=0.90491 auc_生产活动与地域联系=0.95663 auc_生命活动离不开细胞=0.86428 auc_生态系统的营养结构=0.75478 auc_生活中的法律常识=0.53186 auc_生物=0.99890 auc_生物工程技术=0.91435 auc_生物性污染=0.98710 auc_生物技术在其他方面的应用=0.95589 auc_生物技术实践=0.93002 auc_生物科学与社会=0.94978 auc_皇帝制度=0.99197 auc_社会主义市场经济的伦理要求=0.99149 auc_社会主义是中国人民的历史性选择=0.96899 auc_神经调节和体液调节的比较=0.86461 auc_科学社会主义常识=0.94790 auc_稳态与环境=0.97560 auc_第三产业的兴起和“新经济”的出现=0.95520 auc_组成细胞的化合物=0.94007 auc_组成细胞的化学元素=0.93757 auc_细胞大小与物质运输的关系=0.80439 auc_细胞有丝分裂不同时期的特点=0.88165 auc_细胞的多样性和统一性=0.93996 auc_经济学常识=0.00000 auc_群落的结构=0.78730 auc_胚胎移植=0.90435 auc_蛋白质的合成=0.91360 auc_血糖平衡的调节=0.88790 auc_走进细胞=0.92854 auc_近代史=0.96212 auc_选官、用官制度的变化=0.96033 auc_遗传与进化=0.85179 auc_遗传的分子基础=0.97919 auc_遗传的细胞基础=0.97916 auc_避孕的原理和方法=0.98770 auc_郡县制=0.99008 auc_高中=0.00000 auc_高尔基体的结构和功能=0.96418 [step/sec: 1.35]\u001b[0m\n",
      "\u001b[36m[2020-03-01 21:14:00,803] [   TRAIN] - step 370 / 705: loss=1.55471 auc=0.90383 auc_“重农抑商”政策=0.98726 auc_不完全显性=0.87776 auc_与细胞分裂有关的细胞器=0.95911 auc_中央官制——三公九卿制=0.99200 auc_中心体的结构和功能=0.96549 auc_人体免疫系统在维持稳态中的作用=0.96605 auc_人体水盐平衡调节=0.89402 auc_人体的体温调节=0.85223 auc_人口与城市=0.92940 auc_人口增长与人口问题=0.88052 auc_人口迁移与人口流动=0.90564 auc_人工授精、试管婴儿等生殖技术=0.98930 auc_伴性遗传=0.89643 auc_体液免疫的概念和过程=0.96515 auc_免疫系统的功能=0.97073 auc_免疫系统的组成=0.96912 auc_公民道德与伦理常识=0.99090 auc_兴奋在神经元之间的传递=0.87456 auc_兴奋在神经纤维上的传导=0.85034 auc_内环境的稳态=0.96873 auc_内质网的结构和功能=0.95725 auc_农业区位因素=0.89822 auc_减数分裂与有丝分裂的比较=0.97051 auc_减数分裂的概念=0.95305 auc_分子与细胞=0.95279 auc_劳动就业与守法经营=0.96685 auc_历史=0.99658 auc_古代史=0.98648 auc_器官移植=0.89736 auc_地球与地图=0.29649 auc_地球所处的宇宙环境=0.92390 auc_地球的内部圈层结构及特点=0.96270 auc_地球的外部圈层结构及特点=0.93310 auc_地球运动的地理意义=0.97675 auc_地球运动的基本形式=0.90792 auc_地理=0.99595 auc_垄断组织的出现=0.94953 auc_培养基与无菌技术=0.94433 auc_基因工程的原理及技术=0.92788 auc_基因工程的概念=0.91619 auc_基因的分离规律的实质及应用=0.93575 auc_基因的自由组合规律的实质及应用=0.94585 auc_复等位基因=0.93699 auc_夏商两代的政治制度=0.99043 auc_太阳对地球的影响=0.94144 auc_宇宙中的地球=0.99498 auc_工业区位因素=0.91040 auc_拉马克的进化学说=0.70351 auc_政治=0.99510 auc_文艺的春天=0.94648 auc_核糖体的结构和功能=0.96536 auc_海峡两岸关系的发展=0.91738 auc_液泡的结构和功能=0.96511 auc_清末民主革命风潮=0.93195 auc_溶酶体的结构和功能=0.96358 auc_激素调节=0.78943 auc_现代史=0.95949 auc_现代生物技术专题=0.90554 auc_生产活动与地域联系=0.95713 auc_生命活动离不开细胞=0.86570 auc_生态系统的营养结构=0.75827 auc_生活中的法律常识=0.53422 auc_生物=0.99892 auc_生物工程技术=0.91560 auc_生物性污染=0.98724 auc_生物技术在其他方面的应用=0.95628 auc_生物技术实践=0.93074 auc_生物科学与社会=0.94993 auc_皇帝制度=0.99206 auc_社会主义市场经济的伦理要求=0.99162 auc_社会主义是中国人民的历史性选择=0.96937 auc_神经调节和体液调节的比较=0.86644 auc_科学社会主义常识=0.94854 auc_稳态与环境=0.97596 auc_第三产业的兴起和“新经济”的出现=0.95600 auc_组成细胞的化合物=0.94076 auc_组成细胞的化学元素=0.93829 auc_细胞大小与物质运输的关系=0.80456 auc_细胞有丝分裂不同时期的特点=0.88320 auc_细胞的多样性和统一性=0.94030 auc_经济学常识=0.00000 auc_群落的结构=0.78986 auc_胚胎移植=0.90506 auc_蛋白质的合成=0.91451 auc_血糖平衡的调节=0.88956 auc_走进细胞=0.92928 auc_近代史=0.96232 auc_选官、用官制度的变化=0.96075 auc_遗传与进化=0.85309 auc_遗传的分子基础=0.97928 auc_遗传的细胞基础=0.97929 auc_避孕的原理和方法=0.98779 auc_郡县制=0.99019 auc_高中=0.00000 auc_高尔基体的结构和功能=0.96462 [step/sec: 1.33]\u001b[0m\n",
      "\u001b[36m[2020-03-01 21:14:08,215] [   TRAIN] - step 380 / 705: loss=1.54096 auc=0.90453 auc_“重农抑商”政策=0.98743 auc_不完全显性=0.87820 auc_与细胞分裂有关的细胞器=0.95964 auc_中央官制——三公九卿制=0.99210 auc_中心体的结构和功能=0.96604 auc_人体免疫系统在维持稳态中的作用=0.96647 auc_人体水盐平衡调节=0.89536 auc_人体的体温调节=0.85415 auc_人口与城市=0.92995 auc_人口增长与人口问题=0.88139 auc_人口迁移与人口流动=0.90633 auc_人工授精、试管婴儿等生殖技术=0.98942 auc_伴性遗传=0.89705 auc_体液免疫的概念和过程=0.96555 auc_免疫系统的功能=0.97108 auc_免疫系统的组成=0.96948 auc_公民道德与伦理常识=0.99103 auc_兴奋在神经元之间的传递=0.87583 auc_兴奋在神经纤维上的传导=0.85173 auc_内环境的稳态=0.96896 auc_内质网的结构和功能=0.95792 auc_农业区位因素=0.89952 auc_减数分裂与有丝分裂的比较=0.97087 auc_减数分裂的概念=0.95336 auc_分子与细胞=0.95287 auc_劳动就业与守法经营=0.96733 auc_历史=0.99663 auc_古代史=0.98661 auc_器官移植=0.89805 auc_地球与地图=0.29921 auc_地球所处的宇宙环境=0.92484 auc_地球的内部圈层结构及特点=0.96317 auc_地球的外部圈层结构及特点=0.93388 auc_地球运动的地理意义=0.97690 auc_地球运动的基本形式=0.90865 auc_地理=0.99601 auc_垄断组织的出现=0.95015 auc_培养基与无菌技术=0.94460 auc_基因工程的原理及技术=0.92866 auc_基因工程的概念=0.91704 auc_基因的分离规律的实质及应用=0.93614 auc_基因的自由组合规律的实质及应用=0.94595 auc_复等位基因=0.93762 auc_夏商两代的政治制度=0.99055 auc_太阳对地球的影响=0.94205 auc_宇宙中的地球=0.99506 auc_工业区位因素=0.91192 auc_拉马克的进化学说=0.70668 auc_政治=0.99518 auc_文艺的春天=0.94703 auc_核糖体的结构和功能=0.96589 auc_海峡两岸关系的发展=0.91848 auc_液泡的结构和功能=0.96562 auc_清末民主革命风潮=0.93280 auc_溶酶体的结构和功能=0.96415 auc_激素调节=0.79159 auc_现代史=0.95976 auc_现代生物技术专题=0.90629 auc_生产活动与地域联系=0.95781 auc_生命活动离不开细胞=0.86655 auc_生态系统的营养结构=0.76099 auc_生活中的法律常识=0.53702 auc_生物=0.99894 auc_生物工程技术=0.91671 auc_生物性污染=0.98740 auc_生物技术在其他方面的应用=0.95676 auc_生物技术实践=0.93118 auc_生物科学与社会=0.95014 auc_皇帝制度=0.99215 auc_社会主义市场经济的伦理要求=0.99175 auc_社会主义是中国人民的历史性选择=0.96982 auc_神经调节和体液调节的比较=0.86791 auc_科学社会主义常识=0.94924 auc_稳态与环境=0.97623 auc_第三产业的兴起和“新经济”的出现=0.95655 auc_组成细胞的化合物=0.94124 auc_组成细胞的化学元素=0.93889 auc_细胞大小与物质运输的关系=0.80608 auc_细胞有丝分裂不同时期的特点=0.88456 auc_细胞的多样性和统一性=0.94103 auc_经济学常识=0.00000 auc_群落的结构=0.79322 auc_胚胎移植=0.90571 auc_蛋白质的合成=0.91560 auc_血糖平衡的调节=0.89084 auc_走进细胞=0.93000 auc_近代史=0.96285 auc_选官、用官制度的变化=0.96119 auc_遗传与进化=0.85377 auc_遗传的分子基础=0.97949 auc_遗传的细胞基础=0.97954 auc_避孕的原理和方法=0.98791 auc_郡县制=0.99031 auc_高中=0.00000 auc_高尔基体的结构和功能=0.96516 [step/sec: 1.35]\u001b[0m\n",
      "\u001b[36m[2020-03-01 21:14:15,687] [   TRAIN] - step 390 / 705: loss=1.58952 auc=0.90517 auc_“重农抑商”政策=0.98760 auc_不完全显性=0.87843 auc_与细胞分裂有关的细胞器=0.95928 auc_中央官制——三公九卿制=0.99221 auc_中心体的结构和功能=0.96611 auc_人体免疫系统在维持稳态中的作用=0.96700 auc_人体水盐平衡调节=0.89635 auc_人体的体温调节=0.85566 auc_人口与城市=0.93073 auc_人口增长与人口问题=0.88315 auc_人口迁移与人口流动=0.90688 auc_人工授精、试管婴儿等生殖技术=0.98953 auc_伴性遗传=0.89755 auc_体液免疫的概念和过程=0.96610 auc_免疫系统的功能=0.97154 auc_免疫系统的组成=0.96996 auc_公民道德与伦理常识=0.99115 auc_兴奋在神经元之间的传递=0.87716 auc_兴奋在神经纤维上的传导=0.85325 auc_内环境的稳态=0.96932 auc_内质网的结构和功能=0.95795 auc_农业区位因素=0.90077 auc_减数分裂与有丝分裂的比较=0.97124 auc_减数分裂的概念=0.95375 auc_分子与细胞=0.95337 auc_劳动就业与守法经营=0.96764 auc_历史=0.99668 auc_古代史=0.98674 auc_器官移植=0.89937 auc_地球与地图=0.30163 auc_地球所处的宇宙环境=0.92558 auc_地球的内部圈层结构及特点=0.96364 auc_地球的外部圈层结构及特点=0.93470 auc_地球运动的地理意义=0.97707 auc_地球运动的基本形式=0.90946 auc_地理=0.99606 auc_垄断组织的出现=0.95075 auc_培养基与无菌技术=0.94498 auc_基因工程的原理及技术=0.92960 auc_基因工程的概念=0.91813 auc_基因的分离规律的实质及应用=0.93661 auc_基因的自由组合规律的实质及应用=0.94624 auc_复等位基因=0.93845 auc_夏商两代的政治制度=0.99068 auc_太阳对地球的影响=0.94215 auc_宇宙中的地球=0.99512 auc_工业区位因素=0.91343 auc_拉马克的进化学说=0.70790 auc_政治=0.99525 auc_文艺的春天=0.94758 auc_核糖体的结构和功能=0.96605 auc_海峡两岸关系的发展=0.91938 auc_液泡的结构和功能=0.96565 auc_清末民主革命风潮=0.93360 auc_溶酶体的结构和功能=0.96427 auc_激素调节=0.79462 auc_现代史=0.96001 auc_现代生物技术专题=0.90692 auc_生产活动与地域联系=0.95852 auc_生命活动离不开细胞=0.86757 auc_生态系统的营养结构=0.76400 auc_生活中的法律常识=0.53951 auc_生物=0.99895 auc_生物工程技术=0.91757 auc_生物性污染=0.98752 auc_生物技术在其他方面的应用=0.95733 auc_生物技术实践=0.93181 auc_生物科学与社会=0.95022 auc_皇帝制度=0.99226 auc_社会主义市场经济的伦理要求=0.99186 auc_社会主义是中国人民的历史性选择=0.97030 auc_神经调节和体液调节的比较=0.86976 auc_科学社会主义常识=0.95003 auc_稳态与环境=0.97650 auc_第三产业的兴起和“新经济”的出现=0.95706 auc_组成细胞的化合物=0.94193 auc_组成细胞的化学元素=0.93961 auc_细胞大小与物质运输的关系=0.80656 auc_细胞有丝分裂不同时期的特点=0.88522 auc_细胞的多样性和统一性=0.94155 auc_经济学常识=0.00000 auc_群落的结构=0.79621 auc_胚胎移植=0.90697 auc_蛋白质的合成=0.91679 auc_血糖平衡的调节=0.89191 auc_走进细胞=0.93011 auc_近代史=0.96328 auc_选官、用官制度的变化=0.96140 auc_遗传与进化=0.85401 auc_遗传的分子基础=0.97963 auc_遗传的细胞基础=0.97974 auc_避孕的原理和方法=0.98804 auc_郡县制=0.99044 auc_高中=0.00000 auc_高尔基体的结构和功能=0.96522 [step/sec: 1.34]\u001b[0m\n",
      "\u001b[36m[2020-03-01 21:14:23,048] [   TRAIN] - step 400 / 705: loss=1.50546 auc=0.90582 auc_“重农抑商”政策=0.98779 auc_不完全显性=0.87908 auc_与细胞分裂有关的细胞器=0.95967 auc_中央官制——三公九卿制=0.99231 auc_中心体的结构和功能=0.96654 auc_人体免疫系统在维持稳态中的作用=0.96742 auc_人体水盐平衡调节=0.89733 auc_人体的体温调节=0.85716 auc_人口与城市=0.93188 auc_人口增长与人口问题=0.88483 auc_人口迁移与人口流动=0.90807 auc_人工授精、试管婴儿等生殖技术=0.98959 auc_伴性遗传=0.89835 auc_体液免疫的概念和过程=0.96653 auc_免疫系统的功能=0.97189 auc_免疫系统的组成=0.97034 auc_公民道德与伦理常识=0.99127 auc_兴奋在神经元之间的传递=0.87868 auc_兴奋在神经纤维上的传导=0.85508 auc_内环境的稳态=0.96938 auc_内质网的结构和功能=0.95851 auc_农业区位因素=0.90203 auc_减数分裂与有丝分裂的比较=0.97149 auc_减数分裂的概念=0.95414 auc_分子与细胞=0.95387 auc_劳动就业与守法经营=0.96787 auc_历史=0.99673 auc_古代史=0.98694 auc_器官移植=0.90051 auc_地球与地图=0.30423 auc_地球所处的宇宙环境=0.92636 auc_地球的内部圈层结构及特点=0.96420 auc_地球的外部圈层结构及特点=0.93568 auc_地球运动的地理意义=0.97728 auc_地球运动的基本形式=0.90984 auc_地理=0.99612 auc_垄断组织的出现=0.95136 auc_培养基与无菌技术=0.94579 auc_基因工程的原理及技术=0.93044 auc_基因工程的概念=0.91912 auc_基因的分离规律的实质及应用=0.93684 auc_基因的自由组合规律的实质及应用=0.94661 auc_复等位基因=0.93915 auc_夏商两代的政治制度=0.99082 auc_太阳对地球的影响=0.94270 auc_宇宙中的地球=0.99519 auc_工业区位因素=0.91408 auc_拉马克的进化学说=0.70951 auc_政治=0.99531 auc_文艺的春天=0.94791 auc_核糖体的结构和功能=0.96648 auc_海峡两岸关系的发展=0.91998 auc_液泡的结构和功能=0.96607 auc_清末民主革命风潮=0.93437 auc_溶酶体的结构和功能=0.96474 auc_激素调节=0.79696 auc_现代史=0.96029 auc_现代生物技术专题=0.90764 auc_生产活动与地域联系=0.95893 auc_生命活动离不开细胞=0.86837 auc_生态系统的营养结构=0.76694 auc_生活中的法律常识=0.54223 auc_生物=0.99896 auc_生物工程技术=0.91816 auc_生物性污染=0.98759 auc_生物技术在其他方面的应用=0.95757 auc_生物技术实践=0.93210 auc_生物科学与社会=0.95042 auc_皇帝制度=0.99235 auc_社会主义市场经济的伦理要求=0.99198 auc_社会主义是中国人民的历史性选择=0.97064 auc_神经调节和体液调节的比较=0.87165 auc_科学社会主义常识=0.95058 auc_稳态与环境=0.97676 auc_第三产业的兴起和“新经济”的出现=0.95757 auc_组成细胞的化合物=0.94248 auc_组成细胞的化学元素=0.94018 auc_细胞大小与物质运输的关系=0.80820 auc_细胞有丝分裂不同时期的特点=0.88533 auc_细胞的多样性和统一性=0.94226 auc_经济学常识=0.00000 auc_群落的结构=0.79798 auc_胚胎移植=0.90806 auc_蛋白质的合成=0.91746 auc_血糖平衡的调节=0.89291 auc_走进细胞=0.93078 auc_近代史=0.96371 auc_选官、用官制度的变化=0.96192 auc_遗传与进化=0.85460 auc_遗传的分子基础=0.97983 auc_遗传的细胞基础=0.97992 auc_避孕的原理和方法=0.98810 auc_郡县制=0.99057 auc_高中=0.00000 auc_高尔基体的结构和功能=0.96567 [step/sec: 1.36]\u001b[0m\n",
      "\u001b[32m[2020-03-01 21:14:23,050] [    INFO] - Evaluation on dev dataset start\u001b[0m\n",
      "\u001b[34m[2020-03-01 21:15:22,141] [    EVAL] - [dev dataset evaluation result] loss=1.64209 auc=0.91624 auc_“重农抑商”政策=0.99025 auc_不完全显性=0.89606 auc_与细胞分裂有关的细胞器=0.96466 auc_中央官制——三公九卿制=0.99383 auc_中心体的结构和功能=0.96991 auc_人体免疫系统在维持稳态中的作用=0.97161 auc_人体水盐平衡调节=0.91424 auc_人体的体温调节=0.88746 auc_人口与城市=0.95162 auc_人口增长与人口问题=0.91587 auc_人口迁移与人口流动=0.93045 auc_人工授精、试管婴儿等生殖技术=0.99097 auc_伴性遗传=0.90895 auc_体液免疫的概念和过程=0.97002 auc_免疫系统的功能=0.97496 auc_免疫系统的组成=0.97258 auc_公民道德与伦理常识=0.99293 auc_兴奋在神经元之间的传递=0.90729 auc_兴奋在神经纤维上的传导=0.89193 auc_内环境的稳态=0.97342 auc_内质网的结构和功能=0.96302 auc_农业区位因素=0.92822 auc_减数分裂与有丝分裂的比较=0.97599 auc_减数分裂的概念=0.96017 auc_分子与细胞=0.95594 auc_劳动就业与守法经营=0.97409 auc_历史=0.99727 auc_古代史=0.98916 auc_器官移植=0.92208 auc_地球与地图=0.32288 auc_地球所处的宇宙环境=0.94378 auc_地球的内部圈层结构及特点=0.97242 auc_地球的外部圈层结构及特点=0.95183 auc_地球运动的地理意义=0.98089 auc_地球运动的基本形式=0.92542 auc_地理=0.99705 auc_垄断组织的出现=0.96231 auc_培养基与无菌技术=0.95300 auc_基因工程的原理及技术=0.94594 auc_基因工程的概念=0.93878 auc_基因的分离规律的实质及应用=0.94084 auc_基因的自由组合规律的实质及应用=0.95066 auc_复等位基因=0.95056 auc_夏商两代的政治制度=0.99268 auc_太阳对地球的影响=0.95580 auc_宇宙中的地球=0.99615 auc_工业区位因素=0.93542 auc_拉马克的进化学说=0.74406 auc_政治=0.99623 auc_文艺的春天=0.95870 auc_核糖体的结构和功能=0.96965 auc_海峡两岸关系的发展=0.93771 auc_液泡的结构和功能=0.96904 auc_清末民主革命风潮=0.94918 auc_溶酶体的结构和功能=0.96833 auc_激素调节=0.83981 auc_现代史=0.96515 auc_现代生物技术专题=0.91566 auc_生产活动与地域联系=0.96954 auc_生命活动离不开细胞=0.88318 auc_生态系统的营养结构=0.81789 auc_生活中的法律常识=0.52098 auc_生物=0.99918 auc_生物工程技术=0.93652 auc_生物性污染=0.98939 auc_生物技术在其他方面的应用=0.96447 auc_生物技术实践=0.94014 auc_生物科学与社会=0.95449 auc_皇帝制度=0.99367 auc_社会主义市场经济的伦理要求=0.99341 auc_社会主义是中国人民的历史性选择=0.97716 auc_神经调节和体液调节的比较=0.90399 auc_科学社会主义常识=0.96257 auc_稳态与环境=0.97977 auc_第三产业的兴起和“新经济”的出现=0.96733 auc_组成细胞的化合物=0.94899 auc_组成细胞的化学元素=0.94696 auc_细胞大小与物质运输的关系=0.81016 auc_细胞有丝分裂不同时期的特点=0.89576 auc_细胞的多样性和统一性=0.95121 auc_经济学常识=0.00000 auc_群落的结构=0.83643 auc_胚胎移植=0.92796 auc_蛋白质的合成=0.92986 auc_血糖平衡的调节=0.91324 auc_走进细胞=0.93655 auc_近代史=0.97023 auc_选官、用官制度的变化=0.97035 auc_遗传与进化=0.86947 auc_遗传的分子基础=0.98252 auc_遗传的细胞基础=0.98307 auc_避孕的原理和方法=0.98992 auc_郡县制=0.99228 auc_高中=0.00000 auc_高尔基体的结构和功能=0.96891 [step/sec: 4.79]\u001b[0m\n",
      "\u001b[34m[2020-03-01 21:15:22,143] [    EVAL] - best model saved to ckpt_20200301210426/best_model [best auc=0.91624]\u001b[0m\n",
      "\u001b[36m[2020-03-01 21:15:33,298] [   TRAIN] - step 410 / 705: loss=1.39441 auc=0.91664 auc_“重农抑商”政策=0.99035 auc_不完全显性=0.89727 auc_与细胞分裂有关的细胞器=0.96499 auc_中央官制——三公九卿制=0.99389 auc_中心体的结构和功能=0.97021 auc_人体免疫系统在维持稳态中的作用=0.97191 auc_人体水盐平衡调节=0.91480 auc_人体的体温调节=0.88821 auc_人口与城市=0.95202 auc_人口增长与人口问题=0.91662 auc_人口迁移与人口流动=0.93083 auc_人工授精、试管婴儿等生殖技术=0.99107 auc_伴性遗传=0.90916 auc_体液免疫的概念和过程=0.97032 auc_免疫系统的功能=0.97522 auc_免疫系统的组成=0.97285 auc_公民道德与伦理常识=0.99300 auc_兴奋在神经元之间的传递=0.90841 auc_兴奋在神经纤维上的传导=0.89326 auc_内环境的稳态=0.97363 auc_内质网的结构和功能=0.96339 auc_农业区位因素=0.92878 auc_减数分裂与有丝分裂的比较=0.97615 auc_减数分裂的概念=0.96030 auc_分子与细胞=0.95609 auc_劳动就业与守法经营=0.97426 auc_历史=0.99731 auc_古代史=0.98925 auc_器官移植=0.92293 auc_地球与地图=0.32477 auc_地球所处的宇宙环境=0.94424 auc_地球的内部圈层结构及特点=0.97275 auc_地球的外部圈层结构及特点=0.95238 auc_地球运动的地理意义=0.98101 auc_地球运动的基本形式=0.92578 auc_地理=0.99709 auc_垄断组织的出现=0.96291 auc_培养基与无菌技术=0.95331 auc_基因工程的原理及技术=0.94641 auc_基因工程的概念=0.93932 auc_基因的分离规律的实质及应用=0.94090 auc_基因的自由组合规律的实质及应用=0.95090 auc_复等位基因=0.95104 auc_夏商两代的政治制度=0.99276 auc_太阳对地球的影响=0.95617 auc_宇宙中的地球=0.99620 auc_工业区位因素=0.93657 auc_拉马克的进化学说=0.74485 auc_政治=0.99627 auc_文艺的春天=0.95899 auc_核糖体的结构和功能=0.96994 auc_海峡两岸关系的发展=0.93807 auc_液泡的结构和功能=0.96933 auc_清末民主革命风潮=0.94959 auc_溶酶体的结构和功能=0.96865 auc_激素调节=0.84092 auc_现代史=0.96541 auc_现代生物技术专题=0.91615 auc_生产活动与地域联系=0.97000 auc_生命活动离不开细胞=0.88364 auc_生态系统的营养结构=0.81863 auc_生活中的法律常识=0.52294 auc_生物=0.99919 auc_生物工程技术=0.93721 auc_生物性污染=0.98950 auc_生物技术在其他方面的应用=0.96481 auc_生物技术实践=0.94060 auc_生物科学与社会=0.95457 auc_皇帝制度=0.99374 auc_社会主义市场经济的伦理要求=0.99348 auc_社会主义是中国人民的历史性选择=0.97734 auc_神经调节和体液调节的比较=0.90466 auc_科学社会主义常识=0.96286 auc_稳态与环境=0.97994 auc_第三产业的兴起和“新经济”的出现=0.96785 auc_组成细胞的化合物=0.94926 auc_组成细胞的化学元素=0.94733 auc_细胞大小与物质运输的关系=0.81020 auc_细胞有丝分裂不同时期的特点=0.89633 auc_细胞的多样性和统一性=0.95164 auc_经济学常识=0.00000 auc_群落的结构=0.83756 auc_胚胎移植=0.92878 auc_蛋白质的合成=0.93032 auc_血糖平衡的调节=0.91377 auc_走进细胞=0.93701 auc_近代史=0.97042 auc_选官、用官制度的变化=0.97052 auc_遗传与进化=0.87000 auc_遗传的分子基础=0.98267 auc_遗传的细胞基础=0.98318 auc_避孕的原理和方法=0.99004 auc_郡县制=0.99235 auc_高中=0.00000 auc_高尔基体的结构和功能=0.96921 [step/sec: 1.34]\u001b[0m\n",
      "\u001b[36m[2020-03-01 21:15:40,797] [   TRAIN] - step 420 / 705: loss=1.35663 auc=0.91706 auc_“重农抑商”政策=0.99046 auc_不完全显性=0.89783 auc_与细胞分裂有关的细胞器=0.96536 auc_中央官制——三公九卿制=0.99396 auc_中心体的结构和功能=0.97050 auc_人体免疫系统在维持稳态中的作用=0.97219 auc_人体水盐平衡调节=0.91563 auc_人体的体温调节=0.88937 auc_人口与城市=0.95267 auc_人口增长与人口问题=0.91771 auc_人口迁移与人口流动=0.93151 auc_人工授精、试管婴儿等生殖技术=0.99114 auc_伴性遗传=0.90934 auc_体液免疫的概念和过程=0.97061 auc_免疫系统的功能=0.97546 auc_免疫系统的组成=0.97312 auc_公民道德与伦理常识=0.99308 auc_兴奋在神经元之间的传递=0.90908 auc_兴奋在神经纤维上的传导=0.89396 auc_内环境的稳态=0.97381 auc_内质网的结构和功能=0.96377 auc_农业区位因素=0.92892 auc_减数分裂与有丝分裂的比较=0.97632 auc_减数分裂的概念=0.96072 auc_分子与细胞=0.95651 auc_劳动就业与守法经营=0.97442 auc_历史=0.99734 auc_古代史=0.98938 auc_器官移植=0.92373 auc_地球与地图=0.32666 auc_地球所处的宇宙环境=0.94480 auc_地球的内部圈层结构及特点=0.97308 auc_地球的外部圈层结构及特点=0.95293 auc_地球运动的地理意义=0.98114 auc_地球运动的基本形式=0.92618 auc_地理=0.99712 auc_垄断组织的出现=0.96338 auc_培养基与无菌技术=0.95361 auc_基因工程的原理及技术=0.94697 auc_基因工程的概念=0.93996 auc_基因的分离规律的实质及应用=0.94096 auc_基因的自由组合规律的实质及应用=0.95118 auc_复等位基因=0.95161 auc_夏商两代的政治制度=0.99284 auc_太阳对地球的影响=0.95636 auc_宇宙中的地球=0.99624 auc_工业区位因素=0.93636 auc_拉马克的进化学说=0.74585 auc_政治=0.99632 auc_文艺的春天=0.95925 auc_核糖体的结构和功能=0.97024 auc_海峡两岸关系的发展=0.93855 auc_液泡的结构和功能=0.96963 auc_清末民主革命风潮=0.95008 auc_溶酶体的结构和功能=0.96896 auc_激素调节=0.84221 auc_现代史=0.96554 auc_现代生物技术专题=0.91654 auc_生产活动与地域联系=0.97011 auc_生命活动离不开细胞=0.88418 auc_生态系统的营养结构=0.82033 auc_生活中的法律常识=0.52488 auc_生物=0.99920 auc_生物工程技术=0.93766 auc_生物性污染=0.98957 auc_生物技术在其他方面的应用=0.96520 auc_生物技术实践=0.94102 auc_生物科学与社会=0.95472 auc_皇帝制度=0.99381 auc_社会主义市场经济的伦理要求=0.99355 auc_社会主义是中国人民的历史性选择=0.97763 auc_神经调节和体液调节的比较=0.90548 auc_科学社会主义常识=0.96336 auc_稳态与环境=0.98015 auc_第三产业的兴起和“新经济”的出现=0.96826 auc_组成细胞的化合物=0.94966 auc_组成细胞的化学元素=0.94777 auc_细胞大小与物质运输的关系=0.81089 auc_细胞有丝分裂不同时期的特点=0.89680 auc_细胞的多样性和统一性=0.95199 auc_经济学常识=0.00000 auc_群落的结构=0.83890 auc_胚胎移植=0.92950 auc_蛋白质的合成=0.93117 auc_血糖平衡的调节=0.91461 auc_走进细胞=0.93744 auc_近代史=0.97066 auc_选官、用官制度的变化=0.97086 auc_遗传与进化=0.87054 auc_遗传的分子基础=0.98283 auc_遗传的细胞基础=0.98335 auc_避孕的原理和方法=0.99012 auc_郡县制=0.99244 auc_高中=0.00000 auc_高尔基体的结构和功能=0.96951 [step/sec: 1.34]\u001b[0m\n",
      "\u001b[36m[2020-03-01 21:15:48,308] [   TRAIN] - step 430 / 705: loss=1.46343 auc=0.91742 auc_“重农抑商”政策=0.99056 auc_不完全显性=0.89881 auc_与细胞分裂有关的细胞器=0.96563 auc_中央官制——三公九卿制=0.99403 auc_中心体的结构和功能=0.97078 auc_人体免疫系统在维持稳态中的作用=0.97247 auc_人体水盐平衡调节=0.91573 auc_人体的体温调节=0.89011 auc_人口与城市=0.95313 auc_人口增长与人口问题=0.91824 auc_人口迁移与人口流动=0.93221 auc_人工授精、试管婴儿等生殖技术=0.99121 auc_伴性遗传=0.90967 auc_体液免疫的概念和过程=0.97086 auc_免疫系统的功能=0.97570 auc_免疫系统的组成=0.97338 auc_公民道德与伦理常识=0.99316 auc_兴奋在神经元之间的传递=0.90979 auc_兴奋在神经纤维上的传导=0.89477 auc_内环境的稳态=0.97396 auc_内质网的结构和功能=0.96409 auc_农业区位因素=0.92977 auc_减数分裂与有丝分裂的比较=0.97652 auc_减数分裂的概念=0.96100 auc_分子与细胞=0.95685 auc_劳动就业与守法经营=0.97461 auc_历史=0.99737 auc_古代史=0.98946 auc_器官移植=0.92453 auc_地球与地图=0.32376 auc_地球所处的宇宙环境=0.94526 auc_地球的内部圈层结构及特点=0.97343 auc_地球的外部圈层结构及特点=0.95354 auc_地球运动的地理意义=0.98133 auc_地球运动的基本形式=0.92642 auc_地理=0.99716 auc_垄断组织的出现=0.96356 auc_培养基与无菌技术=0.95395 auc_基因工程的原理及技术=0.94739 auc_基因工程的概念=0.94046 auc_基因的分离规律的实质及应用=0.94095 auc_基因的自由组合规律的实质及应用=0.95134 auc_复等位基因=0.95193 auc_夏商两代的政治制度=0.99292 auc_太阳对地球的影响=0.95677 auc_宇宙中的地球=0.99627 auc_工业区位因素=0.93695 auc_拉马克的进化学说=0.74774 auc_政治=0.99636 auc_文艺的春天=0.95964 auc_核糖体的结构和功能=0.97049 auc_海峡两岸关系的发展=0.93913 auc_液泡的结构和功能=0.96990 auc_清末民主革命风潮=0.95068 auc_溶酶体的结构和功能=0.96923 auc_激素调节=0.84386 auc_现代史=0.96569 auc_现代生物技术专题=0.91676 auc_生产活动与地域联系=0.97049 auc_生命活动离不开细胞=0.88445 auc_生态系统的营养结构=0.82132 auc_生活中的法律常识=0.52703 auc_生物=0.99921 auc_生物工程技术=0.93818 auc_生物性污染=0.98966 auc_生物技术在其他方面的应用=0.96544 auc_生物技术实践=0.94130 auc_生物科学与社会=0.95484 auc_皇帝制度=0.99387 auc_社会主义市场经济的伦理要求=0.99362 auc_社会主义是中国人民的历史性选择=0.97792 auc_神经调节和体液调节的比较=0.90650 auc_科学社会主义常识=0.96384 auc_稳态与环境=0.98027 auc_第三产业的兴起和“新经济”的出现=0.96842 auc_组成细胞的化合物=0.94985 auc_组成细胞的化学元素=0.94796 auc_细胞大小与物质运输的关系=0.81176 auc_细胞有丝分裂不同时期的特点=0.89785 auc_细胞的多样性和统一性=0.95240 auc_经济学常识=0.00000 auc_群落的结构=0.84051 auc_胚胎移植=0.93036 auc_蛋白质的合成=0.93204 auc_血糖平衡的调节=0.91494 auc_走进细胞=0.93783 auc_近代史=0.97094 auc_选官、用官制度的变化=0.97111 auc_遗传与进化=0.87128 auc_遗传的分子基础=0.98294 auc_遗传的细胞基础=0.98348 auc_避孕的原理和方法=0.99020 auc_郡县制=0.99252 auc_高中=0.00000 auc_高尔基体的结构和功能=0.96979 [step/sec: 1.33]\u001b[0m\n",
      "\u001b[36m[2020-03-01 21:15:55,794] [   TRAIN] - step 440 / 705: loss=1.38894 auc=0.91782 auc_“重农抑商”政策=0.99065 auc_不完全显性=0.89953 auc_与细胞分裂有关的细胞器=0.96586 auc_中央官制——三公九卿制=0.99409 auc_中心体的结构和功能=0.97098 auc_人体免疫系统在维持稳态中的作用=0.97281 auc_人体水盐平衡调节=0.91636 auc_人体的体温调节=0.89094 auc_人口与城市=0.95348 auc_人口增长与人口问题=0.91882 auc_人口迁移与人口流动=0.93296 auc_人工授精、试管婴儿等生殖技术=0.99128 auc_伴性遗传=0.90990 auc_体液免疫的概念和过程=0.97122 auc_免疫系统的功能=0.97600 auc_免疫系统的组成=0.97371 auc_公民道德与伦理常识=0.99322 auc_兴奋在神经元之间的传递=0.91034 auc_兴奋在神经纤维上的传导=0.89535 auc_内环境的稳态=0.97415 auc_内质网的结构和功能=0.96438 auc_农业区位因素=0.93065 auc_减数分裂与有丝分裂的比较=0.97672 auc_减数分裂的概念=0.96134 auc_分子与细胞=0.95721 auc_劳动就业与守法经营=0.97474 auc_历史=0.99739 auc_古代史=0.98953 auc_器官移植=0.92530 auc_地球与地图=0.32536 auc_地球所处的宇宙环境=0.94571 auc_地球的内部圈层结构及特点=0.97374 auc_地球的外部圈层结构及特点=0.95406 auc_地球运动的地理意义=0.98135 auc_地球运动的基本形式=0.92713 auc_地理=0.99719 auc_垄断组织的出现=0.96398 auc_培养基与无菌技术=0.95417 auc_基因工程的原理及技术=0.94793 auc_基因工程的概念=0.94108 auc_基因的分离规律的实质及应用=0.94117 auc_基因的自由组合规律的实质及应用=0.95115 auc_复等位基因=0.95241 auc_夏商两代的政治制度=0.99299 auc_太阳对地球的影响=0.95731 auc_宇宙中的地球=0.99631 auc_工业区位因素=0.93780 auc_拉马克的进化学说=0.74824 auc_政治=0.99640 auc_文艺的春天=0.95996 auc_核糖体的结构和功能=0.97070 auc_海峡两岸关系的发展=0.93963 auc_液泡的结构和功能=0.97013 auc_清末民主革命风潮=0.95105 auc_溶酶体的结构和功能=0.96948 auc_激素调节=0.84495 auc_现代史=0.96589 auc_现代生物技术专题=0.91720 auc_生产活动与地域联系=0.97088 auc_生命活动离不开细胞=0.88499 auc_生态系统的营养结构=0.82243 auc_生活中的法律常识=0.52884 auc_生物=0.99922 auc_生物工程技术=0.93870 auc_生物性污染=0.98975 auc_生物技术在其他方面的应用=0.96578 auc_生物技术实践=0.94176 auc_生物科学与社会=0.95505 auc_皇帝制度=0.99393 auc_社会主义市场经济的伦理要求=0.99367 auc_社会主义是中国人民的历史性选择=0.97838 auc_神经调节和体液调节的比较=0.90738 auc_科学社会主义常识=0.96456 auc_稳态与环境=0.98038 auc_第三产业的兴起和“新经济”的出现=0.96878 auc_组成细胞的化合物=0.95037 auc_组成细胞的化学元素=0.94851 auc_细胞大小与物质运输的关系=0.81210 auc_细胞有丝分裂不同时期的特点=0.89815 auc_细胞的多样性和统一性=0.95282 auc_经济学常识=0.00000 auc_群落的结构=0.84197 auc_胚胎移植=0.93110 auc_蛋白质的合成=0.93276 auc_血糖平衡的调节=0.91557 auc_走进细胞=0.93804 auc_近代史=0.97108 auc_选官、用官制度的变化=0.97135 auc_遗传与进化=0.87167 auc_遗传的分子基础=0.98300 auc_遗传的细胞基础=0.98359 auc_避孕的原理和方法=0.99028 auc_郡县制=0.99259 auc_高中=0.00000 auc_高尔基体的结构和功能=0.97002 [step/sec: 1.34]\u001b[0m\n",
      "\u001b[36m[2020-03-01 21:16:03,319] [   TRAIN] - step 450 / 705: loss=1.33529 auc=0.91818 auc_“重农抑商”政策=0.99075 auc_不完全显性=0.90073 auc_与细胞分裂有关的细胞器=0.96616 auc_中央官制——三公九卿制=0.99414 auc_中心体的结构和功能=0.97127 auc_人体免疫系统在维持稳态中的作用=0.97304 auc_人体水盐平衡调节=0.91713 auc_人体的体温调节=0.89194 auc_人口与城市=0.95387 auc_人口增长与人口问题=0.91915 auc_人口迁移与人口流动=0.93379 auc_人工授精、试管婴儿等生殖技术=0.99133 auc_伴性遗传=0.91003 auc_体液免疫的概念和过程=0.97144 auc_免疫系统的功能=0.97619 auc_免疫系统的组成=0.97390 auc_公民道德与伦理常识=0.99329 auc_兴奋在神经元之间的传递=0.91096 auc_兴奋在神经纤维上的传导=0.89603 auc_内环境的稳态=0.97433 auc_内质网的结构和功能=0.96474 auc_农业区位因素=0.93138 auc_减数分裂与有丝分裂的比较=0.97673 auc_减数分裂的概念=0.96165 auc_分子与细胞=0.95755 auc_劳动就业与守法经营=0.97491 auc_历史=0.99741 auc_古代史=0.98964 auc_器官移植=0.92570 auc_地球与地图=0.32226 auc_地球所处的宇宙环境=0.94596 auc_地球的内部圈层结构及特点=0.97407 auc_地球的外部圈层结构及特点=0.95461 auc_地球运动的地理意义=0.98150 auc_地球运动的基本形式=0.92751 auc_地理=0.99723 auc_垄断组织的出现=0.96435 auc_培养基与无菌技术=0.95453 auc_基因工程的原理及技术=0.94833 auc_基因工程的概念=0.94153 auc_基因的分离规律的实质及应用=0.94111 auc_基因的自由组合规律的实质及应用=0.95147 auc_复等位基因=0.95284 auc_夏商两代的政治制度=0.99306 auc_太阳对地球的影响=0.95782 auc_宇宙中的地球=0.99634 auc_工业区位因素=0.93835 auc_拉马克的进化学说=0.74971 auc_政治=0.99643 auc_文艺的春天=0.96006 auc_核糖体的结构和功能=0.97098 auc_海峡两岸关系的发展=0.94023 auc_液泡的结构和功能=0.97041 auc_清末民主革命风潮=0.95152 auc_溶酶体的结构和功能=0.96978 auc_激素调节=0.84736 auc_现代史=0.96601 auc_现代生物技术专题=0.91766 auc_生产活动与地域联系=0.97120 auc_生命活动离不开细胞=0.88580 auc_生态系统的营养结构=0.82356 auc_生活中的法律常识=0.53099 auc_生物=0.99923 auc_生物工程技术=0.93914 auc_生物性污染=0.98981 auc_生物技术在其他方面的应用=0.96607 auc_生物技术实践=0.94209 auc_生物科学与社会=0.95536 auc_皇帝制度=0.99398 auc_社会主义市场经济的伦理要求=0.99374 auc_社会主义是中国人民的历史性选择=0.97858 auc_神经调节和体液调节的比较=0.90791 auc_科学社会主义常识=0.96491 auc_稳态与环境=0.98057 auc_第三产业的兴起和“新经济”的出现=0.96912 auc_组成细胞的化合物=0.95075 auc_组成细胞的化学元素=0.94892 auc_细胞大小与物质运输的关系=0.81260 auc_细胞有丝分裂不同时期的特点=0.89899 auc_细胞的多样性和统一性=0.95323 auc_经济学常识=0.00000 auc_群落的结构=0.84370 auc_胚胎移植=0.93147 auc_蛋白质的合成=0.93338 auc_血糖平衡的调节=0.91633 auc_走进细胞=0.93844 auc_近代史=0.97124 auc_选官、用官制度的变化=0.97164 auc_遗传与进化=0.87194 auc_遗传的分子基础=0.98310 auc_遗传的细胞基础=0.98374 auc_避孕的原理和方法=0.99032 auc_郡县制=0.99267 auc_高中=0.00000 auc_高尔基体的结构和功能=0.97032 [step/sec: 1.33]\u001b[0m\n",
      "\u001b[36m[2020-03-01 21:16:10,746] [   TRAIN] - step 460 / 705: loss=1.39986 auc=0.91857 auc_“重农抑商”政策=0.99086 auc_不完全显性=0.90182 auc_与细胞分裂有关的细胞器=0.96654 auc_中央官制——三公九卿制=0.99421 auc_中心体的结构和功能=0.97164 auc_人体免疫系统在维持稳态中的作用=0.97327 auc_人体水盐平衡调节=0.91796 auc_人体的体温调节=0.89296 auc_人口与城市=0.95436 auc_人口增长与人口问题=0.91989 auc_人口迁移与人口流动=0.93453 auc_人工授精、试管婴儿等生殖技术=0.99140 auc_伴性遗传=0.91016 auc_体液免疫的概念和过程=0.97167 auc_免疫系统的功能=0.97638 auc_免疫系统的组成=0.97412 auc_公民道德与伦理常识=0.99335 auc_兴奋在神经元之间的传递=0.91141 auc_兴奋在神经纤维上的传导=0.89654 auc_内环境的稳态=0.97459 auc_内质网的结构和功能=0.96518 auc_农业区位因素=0.93205 auc_减数分裂与有丝分裂的比较=0.97678 auc_减数分裂的概念=0.96170 auc_分子与细胞=0.95787 auc_劳动就业与守法经营=0.97503 auc_历史=0.99744 auc_古代史=0.98963 auc_器官移植=0.92642 auc_地球与地图=0.32433 auc_地球所处的宇宙环境=0.94643 auc_地球的内部圈层结构及特点=0.97426 auc_地球的外部圈层结构及特点=0.95493 auc_地球运动的地理意义=0.98163 auc_地球运动的基本形式=0.92790 auc_地理=0.99726 auc_垄断组织的出现=0.96469 auc_培养基与无菌技术=0.95476 auc_基因工程的原理及技术=0.94835 auc_基因工程的概念=0.94154 auc_基因的分离规律的实质及应用=0.94110 auc_基因的自由组合规律的实质及应用=0.95162 auc_复等位基因=0.95255 auc_夏商两代的政治制度=0.99315 auc_太阳对地球的影响=0.95833 auc_宇宙中的地球=0.99638 auc_工业区位因素=0.93877 auc_拉马克的进化学说=0.75049 auc_政治=0.99647 auc_文艺的春天=0.96041 auc_核糖体的结构和功能=0.97135 auc_海峡两岸关系的发展=0.94079 auc_液泡的结构和功能=0.97078 auc_清末民主革命风潮=0.95183 auc_溶酶体的结构和功能=0.97017 auc_激素调节=0.84900 auc_现代史=0.96614 auc_现代生物技术专题=0.91812 auc_生产活动与地域联系=0.97146 auc_生命活动离不开细胞=0.88593 auc_生态系统的营养结构=0.82546 auc_生活中的法律常识=0.53318 auc_生物=0.99924 auc_生物工程技术=0.93939 auc_生物性污染=0.98990 auc_生物技术在其他方面的应用=0.96615 auc_生物技术实践=0.94213 auc_生物科学与社会=0.95548 auc_皇帝制度=0.99405 auc_社会主义市场经济的伦理要求=0.99378 auc_社会主义是中国人民的历史性选择=0.97883 auc_神经调节和体液调节的比较=0.90885 auc_科学社会主义常识=0.96532 auc_稳态与环境=0.98080 auc_第三产业的兴起和“新经济”的出现=0.96942 auc_组成细胞的化合物=0.95106 auc_组成细胞的化学元素=0.94927 auc_细胞大小与物质运输的关系=0.81437 auc_细胞有丝分裂不同时期的特点=0.89881 auc_细胞的多样性和统一性=0.95369 auc_经济学常识=0.00000 auc_群落的结构=0.84545 auc_胚胎移植=0.93215 auc_蛋白质的合成=0.93362 auc_血糖平衡的调节=0.91712 auc_走进细胞=0.93886 auc_近代史=0.97139 auc_选官、用官制度的变化=0.97183 auc_遗传与进化=0.87248 auc_遗传的分子基础=0.98321 auc_遗传的细胞基础=0.98385 auc_避孕的原理和方法=0.99039 auc_郡县制=0.99276 auc_高中=0.00000 auc_高尔基体的结构和功能=0.97070 [step/sec: 1.35]\u001b[0m\n",
      "\u001b[36m[2020-03-01 21:16:18,173] [   TRAIN] - step 470 / 705: loss=1.36770 auc=0.91891 auc_“重农抑商”政策=0.99097 auc_不完全显性=0.90275 auc_与细胞分裂有关的细胞器=0.96688 auc_中央官制——三公九卿制=0.99428 auc_中心体的结构和功能=0.97196 auc_人体免疫系统在维持稳态中的作用=0.97322 auc_人体水盐平衡调节=0.91860 auc_人体的体温调节=0.89385 auc_人口与城市=0.95483 auc_人口增长与人口问题=0.92057 auc_人口迁移与人口流动=0.93513 auc_人工授精、试管婴儿等生殖技术=0.99149 auc_伴性遗传=0.91034 auc_体液免疫的概念和过程=0.97181 auc_免疫系统的功能=0.97635 auc_免疫系统的组成=0.97412 auc_公民道德与伦理常识=0.99343 auc_兴奋在神经元之间的传递=0.91237 auc_兴奋在神经纤维上的传导=0.89767 auc_内环境的稳态=0.97469 auc_内质网的结构和功能=0.96557 auc_农业区位因素=0.93265 auc_减数分裂与有丝分裂的比较=0.97681 auc_减数分裂的概念=0.96189 auc_分子与细胞=0.95809 auc_劳动就业与守法经营=0.97521 auc_历史=0.99747 auc_古代史=0.98972 auc_器官移植=0.92674 auc_地球与地图=0.32152 auc_地球所处的宇宙环境=0.94701 auc_地球的内部圈层结构及特点=0.97460 auc_地球的外部圈层结构及特点=0.95551 auc_地球运动的地理意义=0.98175 auc_地球运动的基本形式=0.92835 auc_地理=0.99729 auc_垄断组织的出现=0.96496 auc_培养基与无菌技术=0.95511 auc_基因工程的原理及技术=0.94840 auc_基因工程的概念=0.94172 auc_基因的分离规律的实质及应用=0.94127 auc_基因的自由组合规律的实质及应用=0.95175 auc_复等位基因=0.95257 auc_夏商两代的政治制度=0.99323 auc_太阳对地球的影响=0.95854 auc_宇宙中的地球=0.99641 auc_工业区位因素=0.93930 auc_拉马克的进化学说=0.75207 auc_政治=0.99651 auc_文艺的春天=0.96091 auc_核糖体的结构和功能=0.97167 auc_海峡两岸关系的发展=0.94160 auc_液泡的结构和功能=0.97110 auc_清末民主革命风潮=0.95210 auc_溶酶体的结构和功能=0.97050 auc_激素调节=0.85055 auc_现代史=0.96637 auc_现代生物技术专题=0.91839 auc_生产活动与地域联系=0.97175 auc_生命活动离不开细胞=0.88610 auc_生态系统的营养结构=0.82692 auc_生活中的法律常识=0.53543 auc_生物=0.99924 auc_生物工程技术=0.93997 auc_生物性污染=0.99000 auc_生物技术在其他方面的应用=0.96623 auc_生物技术实践=0.94235 auc_生物科学与社会=0.95549 auc_皇帝制度=0.99412 auc_社会主义市场经济的伦理要求=0.99386 auc_社会主义是中国人民的历史性选择=0.97896 auc_神经调节和体液调节的比较=0.90981 auc_科学社会主义常识=0.96555 auc_稳态与环境=0.98091 auc_第三产业的兴起和“新经济”的出现=0.96967 auc_组成细胞的化合物=0.95139 auc_组成细胞的化学元素=0.94963 auc_细胞大小与物质运输的关系=0.81539 auc_细胞有丝分裂不同时期的特点=0.89959 auc_细胞的多样性和统一性=0.95406 auc_经济学常识=0.00000 auc_群落的结构=0.84693 auc_胚胎移植=0.93240 auc_蛋白质的合成=0.93424 auc_血糖平衡的调节=0.91774 auc_走进细胞=0.93943 auc_近代史=0.97154 auc_选官、用官制度的变化=0.97196 auc_遗传与进化=0.87327 auc_遗传的分子基础=0.98332 auc_遗传的细胞基础=0.98395 auc_避孕的原理和方法=0.99049 auc_郡县制=0.99284 auc_高中=0.00000 auc_高尔基体的结构和功能=0.97102 [step/sec: 1.35]\u001b[0m\n",
      "\u001b[36m[2020-03-01 21:16:25,585] [   TRAIN] - step 480 / 705: loss=1.40448 auc=0.91919 auc_“重农抑商”政策=0.99108 auc_不完全显性=0.90338 auc_与细胞分裂有关的细胞器=0.96715 auc_中央官制——三公九卿制=0.99436 auc_中心体的结构和功能=0.97227 auc_人体免疫系统在维持稳态中的作用=0.97342 auc_人体水盐平衡调节=0.91841 auc_人体的体温调节=0.89413 auc_人口与城市=0.95535 auc_人口增长与人口问题=0.92170 auc_人口迁移与人口流动=0.93554 auc_人工授精、试管婴儿等生殖技术=0.99156 auc_伴性遗传=0.91093 auc_体液免疫的概念和过程=0.97201 auc_免疫系统的功能=0.97653 auc_免疫系统的组成=0.97432 auc_公民道德与伦理常识=0.99349 auc_兴奋在神经元之间的传递=0.91346 auc_兴奋在神经纤维上的传导=0.89893 auc_内环境的稳态=0.97484 auc_内质网的结构和功能=0.96596 auc_农业区位因素=0.93327 auc_减数分裂与有丝分裂的比较=0.97692 auc_减数分裂的概念=0.96218 auc_分子与细胞=0.95852 auc_劳动就业与守法经营=0.97536 auc_历史=0.99750 auc_古代史=0.98984 auc_器官移植=0.92758 auc_地球与地图=0.32360 auc_地球所处的宇宙环境=0.94746 auc_地球的内部圈层结构及特点=0.97489 auc_地球的外部圈层结构及特点=0.95601 auc_地球运动的地理意义=0.98193 auc_地球运动的基本形式=0.92864 auc_地理=0.99732 auc_垄断组织的出现=0.96526 auc_培养基与无菌技术=0.95552 auc_基因工程的原理及技术=0.94849 auc_基因工程的概念=0.94190 auc_基因的分离规律的实质及应用=0.94153 auc_基因的自由组合规律的实质及应用=0.95184 auc_复等位基因=0.95272 auc_夏商两代的政治制度=0.99332 auc_太阳对地球的影响=0.95883 auc_宇宙中的地球=0.99645 auc_工业区位因素=0.93954 auc_拉马克的进化学说=0.75408 auc_政治=0.99656 auc_文艺的春天=0.96119 auc_核糖体的结构和功能=0.97199 auc_海峡两岸关系的发展=0.94203 auc_液泡的结构和功能=0.97141 auc_清末民主革命风潮=0.95246 auc_溶酶体的结构和功能=0.97082 auc_激素调节=0.85084 auc_现代史=0.96651 auc_现代生物技术专题=0.91898 auc_生产活动与地域联系=0.97205 auc_生命活动离不开细胞=0.88656 auc_生态系统的营养结构=0.82768 auc_生活中的法律常识=0.52990 auc_生物=0.99925 auc_生物工程技术=0.94006 auc_生物性污染=0.99007 auc_生物技术在其他方面的应用=0.96656 auc_生物技术实践=0.94233 auc_生物科学与社会=0.95557 auc_皇帝制度=0.99418 auc_社会主义市场经济的伦理要求=0.99392 auc_社会主义是中国人民的历史性选择=0.97918 auc_神经调节和体液调节的比较=0.90983 auc_科学社会主义常识=0.96592 auc_稳态与环境=0.98106 auc_第三产业的兴起和“新经济”的出现=0.96993 auc_组成细胞的化合物=0.95164 auc_组成细胞的化学元素=0.94977 auc_细胞大小与物质运输的关系=0.81542 auc_细胞有丝分裂不同时期的特点=0.90047 auc_细胞的多样性和统一性=0.95431 auc_经济学常识=0.00000 auc_群落的结构=0.84852 auc_胚胎移植=0.93312 auc_蛋白质的合成=0.93475 auc_血糖平衡的调节=0.91830 auc_走进细胞=0.93994 auc_近代史=0.97176 auc_选官、用官制度的变化=0.97212 auc_遗传与进化=0.87426 auc_遗传的分子基础=0.98346 auc_遗传的细胞基础=0.98415 auc_避孕的原理和方法=0.99057 auc_郡县制=0.99293 auc_高中=0.00000 auc_高尔基体的结构和功能=0.97135 [step/sec: 1.35]\u001b[0m\n",
      "\u001b[36m[2020-03-01 21:16:33,055] [   TRAIN] - step 490 / 705: loss=1.36208 auc=0.91946 auc_“重农抑商”政策=0.99119 auc_不完全显性=0.90371 auc_与细胞分裂有关的细胞器=0.96732 auc_中央官制——三公九卿制=0.99443 auc_中心体的结构和功能=0.97251 auc_人体免疫系统在维持稳态中的作用=0.97364 auc_人体水盐平衡调节=0.91870 auc_人体的体温调节=0.89466 auc_人口与城市=0.95576 auc_人口增长与人口问题=0.92243 auc_人口迁移与人口流动=0.93604 auc_人工授精、试管婴儿等生殖技术=0.99164 auc_伴性遗传=0.91130 auc_体液免疫的概念和过程=0.97218 auc_免疫系统的功能=0.97664 auc_免疫系统的组成=0.97452 auc_公民道德与伦理常识=0.99357 auc_兴奋在神经元之间的传递=0.91370 auc_兴奋在神经纤维上的传导=0.89962 auc_内环境的稳态=0.97498 auc_内质网的结构和功能=0.96623 auc_农业区位因素=0.93384 auc_减数分裂与有丝分裂的比较=0.97712 auc_减数分裂的概念=0.96235 auc_分子与细胞=0.95882 auc_劳动就业与守法经营=0.97554 auc_历史=0.99753 auc_古代史=0.98997 auc_器官移植=0.92817 auc_地球与地图=0.32245 auc_地球所处的宇宙环境=0.94777 auc_地球的内部圈层结构及特点=0.97518 auc_地球的外部圈层结构及特点=0.95649 auc_地球运动的地理意义=0.98203 auc_地球运动的基本形式=0.92908 auc_地理=0.99735 auc_垄断组织的出现=0.96553 auc_培养基与无菌技术=0.95573 auc_基因工程的原理及技术=0.94902 auc_基因工程的概念=0.94250 auc_基因的分离规律的实质及应用=0.94174 auc_基因的自由组合规律的实质及应用=0.95207 auc_复等位基因=0.95318 auc_夏商两代的政治制度=0.99341 auc_太阳对地球的影响=0.95925 auc_宇宙中的地球=0.99646 auc_工业区位因素=0.94017 auc_拉马克的进化学说=0.75460 auc_政治=0.99659 auc_文艺的春天=0.96142 auc_核糖体的结构和功能=0.97225 auc_海峡两岸关系的发展=0.94269 auc_液泡的结构和功能=0.97169 auc_清末民主革命风潮=0.95288 auc_溶酶体的结构和功能=0.97111 auc_激素调节=0.85176 auc_现代史=0.96672 auc_现代生物技术专题=0.91930 auc_生产活动与地域联系=0.97231 auc_生命活动离不开细胞=0.88698 auc_生态系统的营养结构=0.82807 auc_生活中的法律常识=0.53169 auc_生物=0.99926 auc_生物工程技术=0.93980 auc_生物性污染=0.99016 auc_生物技术在其他方面的应用=0.96689 auc_生物技术实践=0.94255 auc_生物科学与社会=0.95557 auc_皇帝制度=0.99425 auc_社会主义市场经济的伦理要求=0.99398 auc_社会主义是中国人民的历史性选择=0.97930 auc_神经调节和体液调节的比较=0.91036 auc_科学社会主义常识=0.96612 auc_稳态与环境=0.98115 auc_第三产业的兴起和“新经济”的出现=0.97017 auc_组成细胞的化合物=0.95171 auc_组成细胞的化学元素=0.94987 auc_细胞大小与物质运输的关系=0.81551 auc_细胞有丝分裂不同时期的特点=0.90098 auc_细胞的多样性和统一性=0.95464 auc_经济学常识=0.00000 auc_群落的结构=0.84918 auc_胚胎移植=0.93364 auc_蛋白质的合成=0.93514 auc_血糖平衡的调节=0.91864 auc_走进细胞=0.94028 auc_近代史=0.97196 auc_选官、用官制度的变化=0.97215 auc_遗传与进化=0.87461 auc_遗传的分子基础=0.98356 auc_遗传的细胞基础=0.98426 auc_避孕的原理和方法=0.99066 auc_郡县制=0.99302 auc_高中=0.00000 auc_高尔基体的结构和功能=0.97163 [step/sec: 1.34]\u001b[0m\n",
      "\u001b[36m[2020-03-01 21:16:40,456] [   TRAIN] - step 500 / 705: loss=1.32272 auc=0.91985 auc_“重农抑商”政策=0.99129 auc_不完全显性=0.90418 auc_与细胞分裂有关的细胞器=0.96746 auc_中央官制——三公九卿制=0.99449 auc_中心体的结构和功能=0.97276 auc_人体免疫系统在维持稳态中的作用=0.97389 auc_人体水盐平衡调节=0.91923 auc_人体的体温调节=0.89540 auc_人口与城市=0.95625 auc_人口增长与人口问题=0.92323 auc_人口迁移与人口流动=0.93663 auc_人工授精、试管婴儿等生殖技术=0.99171 auc_伴性遗传=0.91150 auc_体液免疫的概念和过程=0.97242 auc_免疫系统的功能=0.97685 auc_免疫系统的组成=0.97475 auc_公民道德与伦理常识=0.99362 auc_兴奋在神经元之间的传递=0.91476 auc_兴奋在神经纤维上的传导=0.90080 auc_内环境的稳态=0.97522 auc_内质网的结构和功能=0.96655 auc_农业区位因素=0.93455 auc_减数分裂与有丝分裂的比较=0.97723 auc_减数分裂的概念=0.96224 auc_分子与细胞=0.95889 auc_劳动就业与守法经营=0.97563 auc_历史=0.99756 auc_古代史=0.99005 auc_器官移植=0.92889 auc_地球与地图=0.32460 auc_地球所处的宇宙环境=0.94818 auc_地球的内部圈层结构及特点=0.97542 auc_地球的外部圈层结构及特点=0.95691 auc_地球运动的地理意义=0.98214 auc_地球运动的基本形式=0.92959 auc_地理=0.99738 auc_垄断组织的出现=0.96590 auc_培养基与无菌技术=0.95578 auc_基因工程的原理及技术=0.94954 auc_基因工程的概念=0.94309 auc_基因的分离规律的实质及应用=0.94184 auc_基因的自由组合规律的实质及应用=0.95237 auc_复等位基因=0.95368 auc_夏商两代的政治制度=0.99348 auc_太阳对地球的影响=0.95960 auc_宇宙中的地球=0.99649 auc_工业区位因素=0.94050 auc_拉马克的进化学说=0.75607 auc_政治=0.99662 auc_文艺的春天=0.96169 auc_核糖体的结构和功能=0.97248 auc_海峡两岸关系的发展=0.94319 auc_液泡的结构和功能=0.97193 auc_清末民主革命风潮=0.95333 auc_溶酶体的结构和功能=0.97134 auc_激素调节=0.85268 auc_现代史=0.96693 auc_现代生物技术专题=0.91992 auc_生产活动与地域联系=0.97259 auc_生命活动离不开细胞=0.88714 auc_生态系统的营养结构=0.82980 auc_生活中的法律常识=0.53380 auc_生物=0.99927 auc_生物工程技术=0.94039 auc_生物性污染=0.99025 auc_生物技术在其他方面的应用=0.96716 auc_生物技术实践=0.94273 auc_生物科学与社会=0.95567 auc_皇帝制度=0.99431 auc_社会主义市场经济的伦理要求=0.99404 auc_社会主义是中国人民的历史性选择=0.97951 auc_神经调节和体液调节的比较=0.91139 auc_科学社会主义常识=0.96647 auc_稳态与环境=0.98132 auc_第三产业的兴起和“新经济”的出现=0.97049 auc_组成细胞的化合物=0.95210 auc_组成细胞的化学元素=0.95026 auc_细胞大小与物质运输的关系=0.81624 auc_细胞有丝分裂不同时期的特点=0.90122 auc_细胞的多样性和统一性=0.95484 auc_经济学常识=0.00000 auc_群落的结构=0.85007 auc_胚胎移植=0.93430 auc_蛋白质的合成=0.93580 auc_血糖平衡的调节=0.91918 auc_走进细胞=0.94088 auc_近代史=0.97213 auc_选官、用官制度的变化=0.97235 auc_遗传与进化=0.87517 auc_遗传的分子基础=0.98373 auc_遗传的细胞基础=0.98440 auc_避孕的原理和方法=0.99075 auc_郡县制=0.99309 auc_高中=0.00000 auc_高尔基体的结构和功能=0.97185 [step/sec: 1.35]\u001b[0m\n",
      "\u001b[32m[2020-03-01 21:16:40,458] [    INFO] - Evaluation on dev dataset start\u001b[0m\n",
      "\u001b[34m[2020-03-01 21:17:38,733] [    EVAL] - [dev dataset evaluation result] loss=1.46352 auc=0.92620 auc_“重农抑商”政策=0.99172 auc_不完全显性=0.91697 auc_与细胞分裂有关的细胞器=0.97013 auc_中央官制——三公九卿制=0.99476 auc_中心体的结构和功能=0.97474 auc_人体免疫系统在维持稳态中的作用=0.97636 auc_人体水盐平衡调节=0.92762 auc_人体的体温调节=0.91154 auc_人口与城市=0.96606 auc_人口增长与人口问题=0.94005 auc_人口迁移与人口流动=0.94875 auc_人工授精、试管婴儿等生殖技术=0.99228 auc_伴性遗传=0.92006 auc_体液免疫的概念和过程=0.97519 auc_免疫系统的功能=0.97860 auc_免疫系统的组成=0.97660 auc_公民道德与伦理常识=0.99457 auc_兴奋在神经元之间的传递=0.93053 auc_兴奋在神经纤维上的传导=0.92024 auc_内环境的稳态=0.97770 auc_内质网的结构和功能=0.96885 auc_农业区位因素=0.94865 auc_减数分裂与有丝分裂的比较=0.97956 auc_减数分裂的概念=0.96513 auc_分子与细胞=0.96322 auc_劳动就业与守法经营=0.97985 auc_历史=0.99767 auc_古代史=0.99025 auc_器官移植=0.94187 auc_地球与地图=0.34444 auc_地球所处的宇宙环境=0.95767 auc_地球的内部圈层结构及特点=0.97895 auc_地球的外部圈层结构及特点=0.96458 auc_地球运动的地理意义=0.98461 auc_地球运动的基本形式=0.94012 auc_地理=0.99785 auc_垄断组织的出现=0.97141 auc_培养基与无菌技术=0.96037 auc_基因工程的原理及技术=0.95892 auc_基因工程的概念=0.95431 auc_基因的分离规律的实质及应用=0.94416 auc_基因的自由组合规律的实质及应用=0.95498 auc_复等位基因=0.96062 auc_夏商两代的政治制度=0.99384 auc_太阳对地球的影响=0.96741 auc_宇宙中的地球=0.99690 auc_工业区位因素=0.95242 auc_拉马克的进化学说=0.78201 auc_政治=0.99721 auc_文艺的春天=0.96785 auc_核糖体的结构和功能=0.97458 auc_海峡两岸关系的发展=0.95396 auc_液泡的结构和功能=0.97372 auc_清末民主革命风潮=0.96240 auc_溶酶体的结构和功能=0.97334 auc_激素调节=0.87611 auc_现代史=0.96927 auc_现代生物技术专题=0.92579 auc_生产活动与地域联系=0.97812 auc_生命活动离不开细胞=0.90059 auc_生态系统的营养结构=0.85895 auc_生活中的法律常识=0.51768 auc_生物=0.99940 auc_生物工程技术=0.95071 auc_生物性污染=0.99112 auc_生物技术在其他方面的应用=0.97160 auc_生物技术实践=0.94689 auc_生物科学与社会=0.95869 auc_皇帝制度=0.99415 auc_社会主义市场经济的伦理要求=0.99488 auc_社会主义是中国人民的历史性选择=0.98321 auc_神经调节和体液调节的比较=0.92959 auc_科学社会主义常识=0.97350 auc_稳态与环境=0.98304 auc_第三产业的兴起和“新经济”的出现=0.97581 auc_组成细胞的化合物=0.95705 auc_组成细胞的化学元素=0.95543 auc_细胞大小与物质运输的关系=0.83268 auc_细胞有丝分裂不同时期的特点=0.91305 auc_细胞的多样性和统一性=0.95905 auc_经济学常识=0.00000 auc_群落的结构=0.87242 auc_胚胎移植=0.94605 auc_蛋白质的合成=0.94396 auc_血糖平衡的调节=0.92994 auc_走进细胞=0.94436 auc_近代史=0.97566 auc_选官、用官制度的变化=0.97635 auc_遗传与进化=0.88530 auc_遗传的分子基础=0.98534 auc_遗传的细胞基础=0.98624 auc_避孕的原理和方法=0.99163 auc_郡县制=0.99328 auc_高中=0.00000 auc_高尔基体的结构和功能=0.97365 [step/sec: 4.86]\u001b[0m\n",
      "\u001b[34m[2020-03-01 21:17:38,734] [    EVAL] - best model saved to ckpt_20200301210426/best_model [best auc=0.92620]\u001b[0m\n",
      "\u001b[36m[2020-03-01 21:17:49,878] [   TRAIN] - step 510 / 705: loss=1.22416 auc=0.92647 auc_“重农抑商”政策=0.99178 auc_不完全显性=0.91751 auc_与细胞分裂有关的细胞器=0.97034 auc_中央官制——三公九卿制=0.99480 auc_中心体的结构和功能=0.97501 auc_人体免疫系统在维持稳态中的作用=0.97656 auc_人体水盐平衡调节=0.92810 auc_人体的体温调节=0.91222 auc_人口与城市=0.96635 auc_人口增长与人口问题=0.94037 auc_人口迁移与人口流动=0.94926 auc_人工授精、试管婴儿等生殖技术=0.99234 auc_伴性遗传=0.92032 auc_体液免疫的概念和过程=0.97539 auc_免疫系统的功能=0.97877 auc_免疫系统的组成=0.97679 auc_公民道德与伦理常识=0.99463 auc_兴奋在神经元之间的传递=0.93103 auc_兴奋在神经纤维上的传导=0.92079 auc_内环境的稳态=0.97785 auc_内质网的结构和功能=0.96918 auc_农业区位因素=0.94916 auc_减数分裂与有丝分裂的比较=0.97963 auc_减数分裂的概念=0.96538 auc_分子与细胞=0.96349 auc_劳动就业与守法经营=0.97995 auc_历史=0.99769 auc_古代史=0.99032 auc_器官移植=0.94250 auc_地球与地图=0.34254 auc_地球所处的宇宙环境=0.95814 auc_地球的内部圈层结构及特点=0.97915 auc_地球的外部圈层结构及特点=0.96491 auc_地球运动的地理意义=0.98470 auc_地球运动的基本形式=0.94041 auc_地理=0.99787 auc_垄断组织的出现=0.97161 auc_培养基与无菌技术=0.96059 auc_基因工程的原理及技术=0.95930 auc_基因工程的概念=0.95474 auc_基因的分离规律的实质及应用=0.94427 auc_基因的自由组合规律的实质及应用=0.95513 auc_复等位基因=0.96097 auc_夏商两代的政治制度=0.99389 auc_太阳对地球的影响=0.96760 auc_宇宙中的地球=0.99692 auc_工业区位因素=0.95289 auc_拉马克的进化学说=0.78290 auc_政治=0.99724 auc_文艺的春天=0.96811 auc_核糖体的结构和功能=0.97485 auc_海峡两岸关系的发展=0.95430 auc_液泡的结构和功能=0.97399 auc_清末民主革命风潮=0.96268 auc_溶酶体的结构和功能=0.97362 auc_激素调节=0.87749 auc_现代史=0.96945 auc_现代生物技术专题=0.92611 auc_生产活动与地域联系=0.97835 auc_生命活动离不开细胞=0.90081 auc_生态系统的营养结构=0.85967 auc_生活中的法律常识=0.51926 auc_生物=0.99940 auc_生物工程技术=0.95104 auc_生物性污染=0.99117 auc_生物技术在其他方面的应用=0.97174 auc_生物技术实践=0.94718 auc_生物科学与社会=0.95878 auc_皇帝制度=0.99420 auc_社会主义市场经济的伦理要求=0.99493 auc_社会主义是中国人民的历史性选择=0.98337 auc_神经调节和体液调节的比较=0.92998 auc_科学社会主义常识=0.97374 auc_稳态与环境=0.98320 auc_第三产业的兴起和“新经济”的出现=0.97600 auc_组成细胞的化合物=0.95737 auc_组成细胞的化学元素=0.95573 auc_细胞大小与物质运输的关系=0.83324 auc_细胞有丝分裂不同时期的特点=0.91355 auc_细胞的多样性和统一性=0.95933 auc_经济学常识=0.00000 auc_群落的结构=0.87342 auc_胚胎移植=0.94664 auc_蛋白质的合成=0.94430 auc_血糖平衡的调节=0.93043 auc_走进细胞=0.94473 auc_近代史=0.97579 auc_选官、用官制度的变化=0.97644 auc_遗传与进化=0.88589 auc_遗传的分子基础=0.98546 auc_遗传的细胞基础=0.98635 auc_避孕的原理和方法=0.99169 auc_郡县制=0.99333 auc_高中=0.00000 auc_高尔基体的结构和功能=0.97392 [step/sec: 1.34]\u001b[0m\n",
      "\u001b[36m[2020-03-01 21:17:57,250] [   TRAIN] - step 520 / 705: loss=1.27288 auc=0.92673 auc_“重农抑商”政策=0.99184 auc_不完全显性=0.91773 auc_与细胞分裂有关的细胞器=0.97059 auc_中央官制——三公九卿制=0.99484 auc_中心体的结构和功能=0.97525 auc_人体免疫系统在维持稳态中的作用=0.97675 auc_人体水盐平衡调节=0.92857 auc_人体的体温调节=0.91278 auc_人口与城市=0.96659 auc_人口增长与人口问题=0.94078 auc_人口迁移与人口流动=0.94952 auc_人工授精、试管婴儿等生殖技术=0.99231 auc_伴性遗传=0.92053 auc_体液免疫的概念和过程=0.97558 auc_免疫系统的功能=0.97895 auc_免疫系统的组成=0.97697 auc_公民道德与伦理常识=0.99468 auc_兴奋在神经元之间的传递=0.93149 auc_兴奋在神经纤维上的传导=0.92130 auc_内环境的稳态=0.97799 auc_内质网的结构和功能=0.96948 auc_农业区位因素=0.94947 auc_减数分裂与有丝分裂的比较=0.97971 auc_减数分裂的概念=0.96553 auc_分子与细胞=0.96365 auc_劳动就业与守法经营=0.98008 auc_历史=0.99771 auc_古代史=0.99039 auc_器官移植=0.94300 auc_地球与地图=0.34397 auc_地球所处的宇宙环境=0.95843 auc_地球的内部圈层结构及特点=0.97930 auc_地球的外部圈层结构及特点=0.96516 auc_地球运动的地理意义=0.98476 auc_地球运动的基本形式=0.94073 auc_地理=0.99790 auc_垄断组织的出现=0.97180 auc_培养基与无菌技术=0.96083 auc_基因工程的原理及技术=0.95956 auc_基因工程的概念=0.95503 auc_基因的分离规律的实质及应用=0.94426 auc_基因的自由组合规律的实质及应用=0.95527 auc_复等位基因=0.96101 auc_夏商两代的政治制度=0.99394 auc_太阳对地球的影响=0.96793 auc_宇宙中的地球=0.99695 auc_工业区位因素=0.95335 auc_拉马克的进化学说=0.78422 auc_政治=0.99727 auc_文艺的春天=0.96839 auc_核糖体的结构和功能=0.97509 auc_海峡两岸关系的发展=0.95475 auc_液泡的结构和功能=0.97424 auc_清末民主革命风潮=0.96281 auc_溶酶体的结构和功能=0.97388 auc_激素调节=0.87834 auc_现代史=0.96959 auc_现代生物技术专题=0.92649 auc_生产活动与地域联系=0.97854 auc_生命活动离不开细胞=0.90151 auc_生态系统的营养结构=0.86069 auc_生活中的法律常识=0.52098 auc_生物=0.99941 auc_生物工程技术=0.95124 auc_生物性污染=0.99116 auc_生物技术在其他方面的应用=0.97186 auc_生物技术实践=0.94728 auc_生物科学与社会=0.95888 auc_皇帝制度=0.99424 auc_社会主义市场经济的伦理要求=0.99498 auc_社会主义是中国人民的历史性选择=0.98355 auc_神经调节和体液调节的比较=0.93026 auc_科学社会主义常识=0.97404 auc_稳态与环境=0.98332 auc_第三产业的兴起和“新经济”的出现=0.97617 auc_组成细胞的化合物=0.95757 auc_组成细胞的化学元素=0.95597 auc_细胞大小与物质运输的关系=0.83342 auc_细胞有丝分裂不同时期的特点=0.91425 auc_细胞的多样性和统一性=0.95955 auc_经济学常识=0.00000 auc_群落的结构=0.87411 auc_胚胎移植=0.94709 auc_蛋白质的合成=0.94462 auc_血糖平衡的调节=0.93087 auc_走进细胞=0.94512 auc_近代史=0.97594 auc_选官、用官制度的变化=0.97656 auc_遗传与进化=0.88620 auc_遗传的分子基础=0.98545 auc_遗传的细胞基础=0.98637 auc_避孕的原理和方法=0.99166 auc_郡县制=0.99338 auc_高中=0.00000 auc_高尔基体的结构和功能=0.97418 [step/sec: 1.36]\u001b[0m\n",
      "\u001b[36m[2020-03-01 21:18:04,736] [   TRAIN] - step 530 / 705: loss=1.21642 auc=0.92700 auc_“重农抑商”政策=0.99192 auc_不完全显性=0.91818 auc_与细胞分裂有关的细胞器=0.97077 auc_中央官制——三公九卿制=0.99489 auc_中心体的结构和功能=0.97541 auc_人体免疫系统在维持稳态中的作用=0.97698 auc_人体水盐平衡调节=0.92889 auc_人体的体温调节=0.91321 auc_人口与城市=0.96688 auc_人口增长与人口问题=0.94111 auc_人口迁移与人口流动=0.94999 auc_人工授精、试管婴儿等生殖技术=0.99236 auc_伴性遗传=0.92065 auc_体液免疫的概念和过程=0.97581 auc_免疫系统的功能=0.97915 auc_免疫系统的组成=0.97719 auc_公民道德与伦理常识=0.99472 auc_兴奋在神经元之间的传递=0.93203 auc_兴奋在神经纤维上的传导=0.92189 auc_内环境的稳态=0.97814 auc_内质网的结构和功能=0.96967 auc_农业区位因素=0.94970 auc_减数分裂与有丝分裂的比较=0.97985 auc_减数分裂的概念=0.96572 auc_分子与细胞=0.96389 auc_劳动就业与守法经营=0.98026 auc_历史=0.99773 auc_古代史=0.99034 auc_器官移植=0.94337 auc_地球与地图=0.34552 auc_地球所处的宇宙环境=0.95870 auc_地球的内部圈层结构及特点=0.97945 auc_地球的外部圈层结构及特点=0.96541 auc_地球运动的地理意义=0.98485 auc_地球运动的基本形式=0.94099 auc_地理=0.99792 auc_垄断组织的出现=0.97204 auc_培养基与无菌技术=0.96107 auc_基因工程的原理及技术=0.95988 auc_基因工程的概念=0.95539 auc_基因的分离规律的实质及应用=0.94431 auc_基因的自由组合规律的实质及应用=0.95536 auc_复等位基因=0.96132 auc_夏商两代的政治制度=0.99399 auc_太阳对地球的影响=0.96823 auc_宇宙中的地球=0.99698 auc_工业区位因素=0.95377 auc_拉马克的进化学说=0.78514 auc_政治=0.99730 auc_文艺的春天=0.96870 auc_核糖体的结构和功能=0.97523 auc_海峡两岸关系的发展=0.95505 auc_液泡的结构和功能=0.97439 auc_清末民主革命风潮=0.96312 auc_溶酶体的结构和功能=0.97402 auc_激素调节=0.87950 auc_现代史=0.96974 auc_现代生物技术专题=0.92666 auc_生产活动与地域联系=0.97871 auc_生命活动离不开细胞=0.90186 auc_生态系统的营养结构=0.86096 auc_生活中的法律常识=0.52269 auc_生物=0.99941 auc_生物工程技术=0.95161 auc_生物性污染=0.99121 auc_生物技术在其他方面的应用=0.97213 auc_生物技术实践=0.94755 auc_生物科学与社会=0.95892 auc_皇帝制度=0.99429 auc_社会主义市场经济的伦理要求=0.99502 auc_社会主义是中国人民的历史性选择=0.98368 auc_神经调节和体液调节的比较=0.93093 auc_科学社会主义常识=0.97424 auc_稳态与环境=0.98346 auc_第三产业的兴起和“新经济”的出现=0.97639 auc_组成细胞的化合物=0.95804 auc_组成细胞的化学元素=0.95647 auc_细胞大小与物质运输的关系=0.83374 auc_细胞有丝分裂不同时期的特点=0.91420 auc_细胞的多样性和统一性=0.95979 auc_经济学常识=0.00000 auc_群落的结构=0.87483 auc_胚胎移植=0.94744 auc_蛋白质的合成=0.94526 auc_血糖平衡的调节=0.93116 auc_走进细胞=0.94531 auc_近代史=0.97606 auc_选官、用官制度的变化=0.97670 auc_遗传与进化=0.88668 auc_遗传的分子基础=0.98553 auc_遗传的细胞基础=0.98647 auc_避孕的原理和方法=0.99172 auc_郡县制=0.99344 auc_高中=0.00000 auc_高尔基体的结构和功能=0.97434 [step/sec: 1.34]\u001b[0m\n",
      "\u001b[36m[2020-03-01 21:18:12,092] [   TRAIN] - step 540 / 705: loss=1.20875 auc=0.92723 auc_“重农抑商”政策=0.99200 auc_不完全显性=0.91818 auc_与细胞分裂有关的细胞器=0.97096 auc_中央官制——三公九卿制=0.99494 auc_中心体的结构和功能=0.97563 auc_人体免疫系统在维持稳态中的作用=0.97722 auc_人体水盐平衡调节=0.92879 auc_人体的体温调节=0.91334 auc_人口与城市=0.96728 auc_人口增长与人口问题=0.94175 auc_人口迁移与人口流动=0.95048 auc_人工授精、试管婴儿等生殖技术=0.99241 auc_伴性遗传=0.92085 auc_体液免疫的概念和过程=0.97606 auc_免疫系统的功能=0.97936 auc_免疫系统的组成=0.97741 auc_公民道德与伦理常识=0.99476 auc_兴奋在神经元之间的传递=0.93248 auc_兴奋在神经纤维上的传导=0.92242 auc_内环境的稳态=0.97822 auc_内质网的结构和功能=0.96995 auc_农业区位因素=0.94998 auc_减数分裂与有丝分裂的比较=0.98003 auc_减数分裂的概念=0.96593 auc_分子与细胞=0.96416 auc_劳动就业与守法经营=0.98041 auc_历史=0.99775 auc_古代史=0.99041 auc_器官移植=0.94392 auc_地球与地图=0.34704 auc_地球所处的宇宙环境=0.95902 auc_地球的内部圈层结构及特点=0.97972 auc_地球的外部圈层结构及特点=0.96585 auc_地球运动的地理意义=0.98494 auc_地球运动的基本形式=0.94128 auc_地理=0.99794 auc_垄断组织的出现=0.97218 auc_培养基与无菌技术=0.96134 auc_基因工程的原理及技术=0.96009 auc_基因工程的概念=0.95561 auc_基因的分离规律的实质及应用=0.94447 auc_基因的自由组合规律的实质及应用=0.95542 auc_复等位基因=0.96153 auc_夏商两代的政治制度=0.99406 auc_太阳对地球的影响=0.96844 auc_宇宙中的地球=0.99700 auc_工业区位因素=0.95418 auc_拉马克的进化学说=0.78615 auc_政治=0.99732 auc_文艺的春天=0.96896 auc_核糖体的结构和功能=0.97546 auc_海峡两岸关系的发展=0.95538 auc_液泡的结构和功能=0.97461 auc_清末民主革命风潮=0.96340 auc_溶酶体的结构和功能=0.97426 auc_激素调节=0.87953 auc_现代史=0.96980 auc_现代生物技术专题=0.92698 auc_生产活动与地域联系=0.97888 auc_生命活动离不开细胞=0.90218 auc_生态系统的营养结构=0.86166 auc_生活中的法律常识=0.52182 auc_生物=0.99942 auc_生物工程技术=0.95176 auc_生物性污染=0.99127 auc_生物技术在其他方面的应用=0.97232 auc_生物技术实践=0.94779 auc_生物科学与社会=0.95906 auc_皇帝制度=0.99435 auc_社会主义市场经济的伦理要求=0.99506 auc_社会主义是中国人民的历史性选择=0.98383 auc_神经调节和体液调节的比较=0.93140 auc_科学社会主义常识=0.97448 auc_稳态与环境=0.98356 auc_第三产业的兴起和“新经济”的出现=0.97652 auc_组成细胞的化合物=0.95835 auc_组成细胞的化学元素=0.95679 auc_细胞大小与物质运输的关系=0.83463 auc_细胞有丝分裂不同时期的特点=0.91439 auc_细胞的多样性和统一性=0.95999 auc_经济学常识=0.00000 auc_群落的结构=0.87584 auc_胚胎移植=0.94795 auc_蛋白质的合成=0.94552 auc_血糖平衡的调节=0.93150 auc_走进细胞=0.94577 auc_近代史=0.97614 auc_选官、用官制度的变化=0.97684 auc_遗传与进化=0.88685 auc_遗传的分子基础=0.98563 auc_遗传的细胞基础=0.98658 auc_避孕的原理和方法=0.99177 auc_郡县制=0.99351 auc_高中=0.00000 auc_高尔基体的结构和功能=0.97458 [step/sec: 1.36]\u001b[0m\n",
      "\u001b[36m[2020-03-01 21:18:19,382] [   TRAIN] - step 550 / 705: loss=1.14536 auc=0.92751 auc_“重农抑商”政策=0.99204 auc_不完全显性=0.91896 auc_与细胞分裂有关的细胞器=0.97116 auc_中央官制——三公九卿制=0.99497 auc_中心体的结构和功能=0.97586 auc_人体免疫系统在维持稳态中的作用=0.97741 auc_人体水盐平衡调节=0.92949 auc_人体的体温调节=0.91417 auc_人口与城市=0.96752 auc_人口增长与人口问题=0.94220 auc_人口迁移与人口流动=0.95080 auc_人工授精、试管婴儿等生殖技术=0.99247 auc_伴性遗传=0.92096 auc_体液免疫的概念和过程=0.97623 auc_免疫系统的功能=0.97953 auc_免疫系统的组成=0.97758 auc_公民道德与伦理常识=0.99481 auc_兴奋在神经元之间的传递=0.93284 auc_兴奋在神经纤维上的传导=0.92281 auc_内环境的稳态=0.97839 auc_内质网的结构和功能=0.97023 auc_农业区位因素=0.95029 auc_减数分裂与有丝分裂的比较=0.98019 auc_减数分裂的概念=0.96608 auc_分子与细胞=0.96444 auc_劳动就业与守法经营=0.98058 auc_历史=0.99777 auc_古代史=0.99047 auc_器官移植=0.94426 auc_地球与地图=0.34863 auc_地球所处的宇宙环境=0.95925 auc_地球的内部圈层结构及特点=0.97996 auc_地球的外部圈层结构及特点=0.96625 auc_地球运动的地理意义=0.98505 auc_地球运动的基本形式=0.94145 auc_地理=0.99796 auc_垄断组织的出现=0.97243 auc_培养基与无菌技术=0.96162 auc_基因工程的原理及技术=0.96027 auc_基因工程的概念=0.95581 auc_基因的分离规律的实质及应用=0.94464 auc_基因的自由组合规律的实质及应用=0.95551 auc_复等位基因=0.96170 auc_夏商两代的政治制度=0.99409 auc_太阳对地球的影响=0.96869 auc_宇宙中的地球=0.99703 auc_工业区位因素=0.95461 auc_拉马克的进化学说=0.78711 auc_政治=0.99735 auc_文艺的春天=0.96923 auc_核糖体的结构和功能=0.97569 auc_海峡两岸关系的发展=0.95570 auc_液泡的结构和功能=0.97484 auc_清末民主革命风潮=0.96361 auc_溶酶体的结构和功能=0.97449 auc_激素调节=0.88051 auc_现代史=0.97002 auc_现代生物技术专题=0.92724 auc_生产活动与地域联系=0.97907 auc_生命活动离不开细胞=0.90280 auc_生态系统的营养结构=0.86202 auc_生活中的法律常识=0.52349 auc_生物=0.99942 auc_生物工程技术=0.95226 auc_生物性污染=0.99134 auc_生物技术在其他方面的应用=0.97245 auc_生物技术实践=0.94798 auc_生物科学与社会=0.95917 auc_皇帝制度=0.99438 auc_社会主义市场经济的伦理要求=0.99511 auc_社会主义是中国人民的历史性选择=0.98399 auc_神经调节和体液调节的比较=0.93177 auc_科学社会主义常识=0.97473 auc_稳态与环境=0.98367 auc_第三产业的兴起和“新经济”的出现=0.97674 auc_组成细胞的化合物=0.95861 auc_组成细胞的化学元素=0.95707 auc_细胞大小与物质运输的关系=0.83543 auc_细胞有丝分裂不同时期的特点=0.91485 auc_细胞的多样性和统一性=0.96030 auc_经济学常识=0.00000 auc_群落的结构=0.87666 auc_胚胎移植=0.94825 auc_蛋白质的合成=0.94590 auc_血糖平衡的调节=0.93213 auc_走进细胞=0.94610 auc_近代史=0.97623 auc_选官、用官制度的变化=0.97691 auc_遗传与进化=0.88724 auc_遗传的分子基础=0.98571 auc_遗传的细胞基础=0.98667 auc_避孕的原理和方法=0.99184 auc_郡县制=0.99354 auc_高中=0.00000 auc_高尔基体的结构和功能=0.97481 [step/sec: 1.37]\u001b[0m\n",
      "\u001b[36m[2020-03-01 21:18:26,651] [   TRAIN] - step 560 / 705: loss=1.15654 auc=0.92780 auc_“重农抑商”政策=0.99213 auc_不完全显性=0.91960 auc_与细胞分裂有关的细胞器=0.97132 auc_中央官制——三公九卿制=0.99502 auc_中心体的结构和功能=0.97606 auc_人体免疫系统在维持稳态中的作用=0.97756 auc_人体水盐平衡调节=0.92993 auc_人体的体温调节=0.91472 auc_人口与城市=0.96777 auc_人口增长与人口问题=0.94246 auc_人口迁移与人口流动=0.95127 auc_人工授精、试管婴儿等生殖技术=0.99252 auc_伴性遗传=0.92113 auc_体液免疫的概念和过程=0.97640 auc_免疫系统的功能=0.97967 auc_免疫系统的组成=0.97774 auc_公民道德与伦理常识=0.99488 auc_兴奋在神经元之间的传递=0.93334 auc_兴奋在神经纤维上的传导=0.92337 auc_内环境的稳态=0.97848 auc_内质网的结构和功能=0.97048 auc_农业区位因素=0.95089 auc_减数分裂与有丝分裂的比较=0.98031 auc_减数分裂的概念=0.96625 auc_分子与细胞=0.96469 auc_劳动就业与守法经营=0.98071 auc_历史=0.99779 auc_古代史=0.99047 auc_器官移植=0.94454 auc_地球与地图=0.35000 auc_地球所处的宇宙环境=0.95955 auc_地球的内部圈层结构及特点=0.98015 auc_地球的外部圈层结构及特点=0.96655 auc_地球运动的地理意义=0.98513 auc_地球运动的基本形式=0.94161 auc_地理=0.99798 auc_垄断组织的出现=0.97273 auc_培养基与无菌技术=0.96183 auc_基因工程的原理及技术=0.96045 auc_基因工程的概念=0.95596 auc_基因的分离规律的实质及应用=0.94481 auc_基因的自由组合规律的实质及应用=0.95554 auc_复等位基因=0.96187 auc_夏商两代的政治制度=0.99415 auc_太阳对地球的影响=0.96900 auc_宇宙中的地球=0.99706 auc_工业区位因素=0.95494 auc_拉马克的进化学说=0.78812 auc_政治=0.99738 auc_文艺的春天=0.96944 auc_核糖体的结构和功能=0.97589 auc_海峡两岸关系的发展=0.95594 auc_液泡的结构和功能=0.97505 auc_清末民主革命风潮=0.96390 auc_溶酶体的结构和功能=0.97470 auc_激素调节=0.88141 auc_现代史=0.97010 auc_现代生物技术专题=0.92751 auc_生产活动与地域联系=0.97929 auc_生命活动离不开细胞=0.90326 auc_生态系统的营养结构=0.86319 auc_生活中的法律常识=0.52501 auc_生物=0.99943 auc_生物工程技术=0.95266 auc_生物性污染=0.99137 auc_生物技术在其他方面的应用=0.97265 auc_生物技术实践=0.94820 auc_生物科学与社会=0.95923 auc_皇帝制度=0.99443 auc_社会主义市场经济的伦理要求=0.99517 auc_社会主义是中国人民的历史性选择=0.98418 auc_神经调节和体液调节的比较=0.93232 auc_科学社会主义常识=0.97504 auc_稳态与环境=0.98380 auc_第三产业的兴起和“新经济”的出现=0.97701 auc_组成细胞的化合物=0.95885 auc_组成细胞的化学元素=0.95733 auc_细胞大小与物质运输的关系=0.83669 auc_细胞有丝分裂不同时期的特点=0.91538 auc_细胞的多样性和统一性=0.96046 auc_经济学常识=0.00000 auc_群落的结构=0.87775 auc_胚胎移植=0.94849 auc_蛋白质的合成=0.94615 auc_血糖平衡的调节=0.93256 auc_走进细胞=0.94635 auc_近代史=0.97639 auc_选官、用官制度的变化=0.97700 auc_遗传与进化=0.88786 auc_遗传的分子基础=0.98577 auc_遗传的细胞基础=0.98675 auc_避孕的原理和方法=0.99189 auc_郡县制=0.99361 auc_高中=0.00000 auc_高尔基体的结构和功能=0.97502 [step/sec: 1.38]\u001b[0m\n",
      "\u001b[36m[2020-03-01 21:18:34,008] [   TRAIN] - step 570 / 705: loss=1.13751 auc=0.92804 auc_“重农抑商”政策=0.99222 auc_不完全显性=0.92026 auc_与细胞分裂有关的细胞器=0.97152 auc_中央官制——三公九卿制=0.99508 auc_中心体的结构和功能=0.97627 auc_人体免疫系统在维持稳态中的作用=0.97777 auc_人体水盐平衡调节=0.93053 auc_人体的体温调节=0.91546 auc_人口与城市=0.96798 auc_人口增长与人口问题=0.94281 auc_人口迁移与人口流动=0.95155 auc_人工授精、试管婴儿等生殖技术=0.99257 auc_伴性遗传=0.92146 auc_体液免疫的概念和过程=0.97661 auc_免疫系统的功能=0.97985 auc_免疫系统的组成=0.97794 auc_公民道德与伦理常识=0.99492 auc_兴奋在神经元之间的传递=0.93380 auc_兴奋在神经纤维上的传导=0.92388 auc_内环境的稳态=0.97863 auc_内质网的结构和功能=0.97072 auc_农业区位因素=0.95148 auc_减数分裂与有丝分裂的比较=0.98046 auc_减数分裂的概念=0.96642 auc_分子与细胞=0.96495 auc_劳动就业与守法经营=0.98081 auc_历史=0.99781 auc_古代史=0.99056 auc_器官移植=0.94493 auc_地球与地图=0.34741 auc_地球所处的宇宙环境=0.95971 auc_地球的内部圈层结构及特点=0.98036 auc_地球的外部圈层结构及特点=0.96690 auc_地球运动的地理意义=0.98522 auc_地球运动的基本形式=0.94190 auc_地理=0.99800 auc_垄断组织的出现=0.97293 auc_培养基与无菌技术=0.96213 auc_基因工程的原理及技术=0.96067 auc_基因工程的概念=0.95620 auc_基因的分离规律的实质及应用=0.94487 auc_基因的自由组合规律的实质及应用=0.95577 auc_复等位基因=0.96207 auc_夏商两代的政治制度=0.99422 auc_太阳对地球的影响=0.96925 auc_宇宙中的地球=0.99707 auc_工业区位因素=0.95535 auc_拉马克的进化学说=0.78894 auc_政治=0.99741 auc_文艺的春天=0.96961 auc_核糖体的结构和功能=0.97609 auc_海峡两岸关系的发展=0.95614 auc_液泡的结构和功能=0.97525 auc_清末民主革命风潮=0.96419 auc_溶酶体的结构和功能=0.97491 auc_激素调节=0.88215 auc_现代史=0.97024 auc_现代生物技术专题=0.92781 auc_生产活动与地域联系=0.97953 auc_生命活动离不开细胞=0.90375 auc_生态系统的营养结构=0.86406 auc_生活中的法律常识=0.52668 auc_生物=0.99944 auc_生物工程技术=0.95294 auc_生物性污染=0.99143 auc_生物技术在其他方面的应用=0.97288 auc_生物技术实践=0.94839 auc_生物科学与社会=0.95941 auc_皇帝制度=0.99449 auc_社会主义市场经济的伦理要求=0.99521 auc_社会主义是中国人民的历史性选择=0.98435 auc_神经调节和体液调节的比较=0.93274 auc_科学社会主义常识=0.97531 auc_稳态与环境=0.98394 auc_第三产业的兴起和“新经济”的出现=0.97718 auc_组成细胞的化合物=0.95915 auc_组成细胞的化学元素=0.95763 auc_细胞大小与物质运输的关系=0.83758 auc_细胞有丝分裂不同时期的特点=0.91555 auc_细胞的多样性和统一性=0.96077 auc_经济学常识=0.00000 auc_群落的结构=0.87860 auc_胚胎移植=0.94886 auc_蛋白质的合成=0.94645 auc_血糖平衡的调节=0.93314 auc_走进细胞=0.94659 auc_近代史=0.97644 auc_选官、用官制度的变化=0.97715 auc_遗传与进化=0.88834 auc_遗传的分子基础=0.98586 auc_遗传的细胞基础=0.98684 auc_避孕的原理和方法=0.99195 auc_郡县制=0.99368 auc_高中=0.00000 auc_高尔基体的结构和功能=0.97523 [step/sec: 1.36]\u001b[0m\n",
      "\u001b[36m[2020-03-01 21:18:41,470] [   TRAIN] - step 580 / 705: loss=1.17345 auc=0.92829 auc_“重农抑商”政策=0.99229 auc_不完全显性=0.92083 auc_与细胞分裂有关的细胞器=0.97165 auc_中央官制——三公九卿制=0.99512 auc_中心体的结构和功能=0.97645 auc_人体免疫系统在维持稳态中的作用=0.97795 auc_人体水盐平衡调节=0.93094 auc_人体的体温调节=0.91597 auc_人口与城市=0.96826 auc_人口增长与人口问题=0.94347 auc_人口迁移与人口流动=0.95174 auc_人工授精、试管婴儿等生殖技术=0.99264 auc_伴性遗传=0.92185 auc_体液免疫的概念和过程=0.97680 auc_免疫系统的功能=0.98001 auc_免疫系统的组成=0.97811 auc_公民道德与伦理常识=0.99496 auc_兴奋在神经元之间的传递=0.93413 auc_兴奋在神经纤维上的传导=0.92424 auc_内环境的稳态=0.97880 auc_内质网的结构和功能=0.97096 auc_农业区位因素=0.95189 auc_减数分裂与有丝分裂的比较=0.98061 auc_减数分裂的概念=0.96661 auc_分子与细胞=0.96513 auc_劳动就业与守法经营=0.98094 auc_历史=0.99783 auc_古代史=0.99056 auc_器官移植=0.94527 auc_地球与地图=0.34891 auc_地球所处的宇宙环境=0.95997 auc_地球的内部圈层结构及特点=0.98048 auc_地球的外部圈层结构及特点=0.96710 auc_地球运动的地理意义=0.98532 auc_地球运动的基本形式=0.94218 auc_地理=0.99802 auc_垄断组织的出现=0.97322 auc_培养基与无菌技术=0.96213 auc_基因工程的原理及技术=0.96085 auc_基因工程的概念=0.95644 auc_基因的分离规律的实质及应用=0.94503 auc_基因的自由组合规律的实质及应用=0.95587 auc_复等位基因=0.96224 auc_夏商两代的政治制度=0.99427 auc_太阳对地球的影响=0.96950 auc_宇宙中的地球=0.99710 auc_工业区位因素=0.95582 auc_拉马克的进化学说=0.78960 auc_政治=0.99743 auc_文艺的春天=0.96986 auc_核糖体的结构和功能=0.97628 auc_海峡两岸关系的发展=0.95649 auc_液泡的结构和功能=0.97544 auc_清末民主革命风潮=0.96437 auc_溶酶体的结构和功能=0.97510 auc_激素调节=0.88301 auc_现代史=0.97030 auc_现代生物技术专题=0.92804 auc_生产活动与地域联系=0.97976 auc_生命活动离不开细胞=0.90376 auc_生态系统的营养结构=0.86503 auc_生活中的法律常识=0.52827 auc_生物=0.99944 auc_生物工程技术=0.95342 auc_生物性污染=0.99151 auc_生物技术在其他方面的应用=0.97303 auc_生物技术实践=0.94858 auc_生物科学与社会=0.95943 auc_皇帝制度=0.99454 auc_社会主义市场经济的伦理要求=0.99525 auc_社会主义是中国人民的历史性选择=0.98448 auc_神经调节和体液调节的比较=0.93309 auc_科学社会主义常识=0.97550 auc_稳态与环境=0.98399 auc_第三产业的兴起和“新经济”的出现=0.97743 auc_组成细胞的化合物=0.95940 auc_组成细胞的化学元素=0.95789 auc_细胞大小与物质运输的关系=0.83806 auc_细胞有丝分裂不同时期的特点=0.91599 auc_细胞的多样性和统一性=0.96084 auc_经济学常识=0.00000 auc_群落的结构=0.87950 auc_胚胎移植=0.94917 auc_蛋白质的合成=0.94684 auc_血糖平衡的调节=0.93352 auc_走进细胞=0.94703 auc_近代史=0.97662 auc_选官、用官制度的变化=0.97728 auc_遗传与进化=0.88845 auc_遗传的分子基础=0.98594 auc_遗传的细胞基础=0.98692 auc_避孕的原理和方法=0.99202 auc_郡县制=0.99374 auc_高中=0.00000 auc_高尔基体的结构和功能=0.97543 [step/sec: 1.34]\u001b[0m\n",
      "\u001b[36m[2020-03-01 21:18:48,928] [   TRAIN] - step 590 / 705: loss=1.16181 auc=0.92857 auc_“重农抑商”政策=0.99235 auc_不完全显性=0.92133 auc_与细胞分裂有关的细胞器=0.97178 auc_中央官制——三公九卿制=0.99516 auc_中心体的结构和功能=0.97658 auc_人体免疫系统在维持稳态中的作用=0.97811 auc_人体水盐平衡调节=0.93137 auc_人体的体温调节=0.91649 auc_人口与城市=0.96849 auc_人口增长与人口问题=0.94392 auc_人口迁移与人口流动=0.95205 auc_人工授精、试管婴儿等生殖技术=0.99270 auc_伴性遗传=0.92204 auc_体液免疫的概念和过程=0.97696 auc_免疫系统的功能=0.98016 auc_免疫系统的组成=0.97827 auc_公民道德与伦理常识=0.99500 auc_兴奋在神经元之间的传递=0.93460 auc_兴奋在神经纤维上的传导=0.92476 auc_内环境的稳态=0.97894 auc_内质网的结构和功能=0.97111 auc_农业区位因素=0.95234 auc_减数分裂与有丝分裂的比较=0.98073 auc_减数分裂的概念=0.96685 auc_分子与细胞=0.96541 auc_劳动就业与守法经营=0.98101 auc_历史=0.99785 auc_古代史=0.99060 auc_器官移植=0.94550 auc_地球与地图=0.35046 auc_地球所处的宇宙环境=0.96012 auc_地球的内部圈层结构及特点=0.98071 auc_地球的外部圈层结构及特点=0.96747 auc_地球运动的地理意义=0.98539 auc_地球运动的基本形式=0.94240 auc_地理=0.99804 auc_垄断组织的出现=0.97350 auc_培养基与无菌技术=0.96239 auc_基因工程的原理及技术=0.96109 auc_基因工程的概念=0.95672 auc_基因的分离规律的实质及应用=0.94500 auc_基因的自由组合规律的实质及应用=0.95616 auc_复等位基因=0.96247 auc_夏商两代的政治制度=0.99432 auc_太阳对地球的影响=0.96981 auc_宇宙中的地球=0.99712 auc_工业区位因素=0.95624 auc_拉马克的进化学说=0.79065 auc_政治=0.99745 auc_文艺的春天=0.97007 auc_核糖体的结构和功能=0.97644 auc_海峡两岸关系的发展=0.95698 auc_液泡的结构和功能=0.97561 auc_清末民主革命风潮=0.96452 auc_溶酶体的结构和功能=0.97529 auc_激素调节=0.88389 auc_现代史=0.97040 auc_现代生物技术专题=0.92831 auc_生产活动与地域联系=0.97996 auc_生命活动离不开细胞=0.90398 auc_生态系统的营养结构=0.86572 auc_生活中的法律常识=0.52994 auc_生物=0.99944 auc_生物工程技术=0.95362 auc_生物性污染=0.99156 auc_生物技术在其他方面的应用=0.97320 auc_生物技术实践=0.94866 auc_生物科学与社会=0.95962 auc_皇帝制度=0.99458 auc_社会主义市场经济的伦理要求=0.99529 auc_社会主义是中国人民的历史性选择=0.98459 auc_神经调节和体液调节的比较=0.93358 auc_科学社会主义常识=0.97568 auc_稳态与环境=0.98412 auc_第三产业的兴起和“新经济”的出现=0.97769 auc_组成细胞的化合物=0.95966 auc_组成细胞的化学元素=0.95815 auc_细胞大小与物质运输的关系=0.83926 auc_细胞有丝分裂不同时期的特点=0.91659 auc_细胞的多样性和统一性=0.96118 auc_经济学常识=0.00000 auc_群落的结构=0.88108 auc_胚胎移植=0.94940 auc_蛋白质的合成=0.94719 auc_血糖平衡的调节=0.93391 auc_走进细胞=0.94702 auc_近代史=0.97673 auc_选官、用官制度的变化=0.97743 auc_遗传与进化=0.88885 auc_遗传的分子基础=0.98607 auc_遗传的细胞基础=0.98704 auc_避孕的原理和方法=0.99208 auc_郡县制=0.99379 auc_高中=0.00000 auc_高尔基体的结构和功能=0.97559 [step/sec: 1.34]\u001b[0m\n",
      "\u001b[36m[2020-03-01 21:18:56,342] [   TRAIN] - step 600 / 705: loss=1.13703 auc=0.92877 auc_“重农抑商”政策=0.99243 auc_不完全显性=0.92203 auc_与细胞分裂有关的细胞器=0.97194 auc_中央官制——三公九卿制=0.99521 auc_中心体的结构和功能=0.97679 auc_人体免疫系统在维持稳态中的作用=0.97830 auc_人体水盐平衡调节=0.93167 auc_人体的体温调节=0.91693 auc_人口与城市=0.96869 auc_人口增长与人口问题=0.94428 auc_人口迁移与人口流动=0.95225 auc_人工授精、试管婴儿等生殖技术=0.99276 auc_伴性遗传=0.92238 auc_体液免疫的概念和过程=0.97715 auc_免疫系统的功能=0.98033 auc_免疫系统的组成=0.97845 auc_公民道德与伦理常识=0.99504 auc_兴奋在神经元之间的传递=0.93508 auc_兴奋在神经纤维上的传导=0.92527 auc_内环境的稳态=0.97910 auc_内质网的结构和功能=0.97137 auc_农业区位因素=0.95272 auc_减数分裂与有丝分裂的比较=0.98087 auc_减数分裂的概念=0.96708 auc_分子与细胞=0.96569 auc_劳动就业与守法经营=0.98108 auc_历史=0.99788 auc_古代史=0.99072 auc_器官移植=0.94595 auc_地球与地图=0.35197 auc_地球所处的宇宙环境=0.96036 auc_地球的内部圈层结构及特点=0.98089 auc_地球的外部圈层结构及特点=0.96775 auc_地球运动的地理意义=0.98547 auc_地球运动的基本形式=0.94277 auc_地理=0.99805 auc_垄断组织的出现=0.97364 auc_培养基与无菌技术=0.96256 auc_基因工程的原理及技术=0.96137 auc_基因工程的概念=0.95703 auc_基因的分离规律的实质及应用=0.94508 auc_基因的自由组合规律的实质及应用=0.95620 auc_复等位基因=0.96275 auc_夏商两代的政治制度=0.99437 auc_太阳对地球的影响=0.97003 auc_宇宙中的地球=0.99715 auc_工业区位因素=0.95662 auc_拉马克的进化学说=0.79164 auc_政治=0.99747 auc_文艺的春天=0.97019 auc_核糖体的结构和功能=0.97666 auc_海峡两岸关系的发展=0.95727 auc_液泡的结构和功能=0.97582 auc_清末民主革命风潮=0.96485 auc_溶酶体的结构和功能=0.97551 auc_激素调节=0.88472 auc_现代史=0.97044 auc_现代生物技术专题=0.92860 auc_生产活动与地域联系=0.98015 auc_生命活动离不开细胞=0.90454 auc_生态系统的营养结构=0.86704 auc_生活中的法律常识=0.52467 auc_生物=0.99944 auc_生物工程技术=0.95394 auc_生物性污染=0.99164 auc_生物技术在其他方面的应用=0.97340 auc_生物技术实践=0.94897 auc_生物科学与社会=0.95984 auc_皇帝制度=0.99464 auc_社会主义市场经济的伦理要求=0.99532 auc_社会主义是中国人民的历史性选择=0.98475 auc_神经调节和体液调节的比较=0.93384 auc_科学社会主义常识=0.97594 auc_稳态与环境=0.98417 auc_第三产业的兴起和“新经济”的出现=0.97781 auc_组成细胞的化合物=0.95993 auc_组成细胞的化学元素=0.95844 auc_细胞大小与物质运输的关系=0.83976 auc_细胞有丝分裂不同时期的特点=0.91721 auc_细胞的多样性和统一性=0.96140 auc_经济学常识=0.00000 auc_群落的结构=0.88161 auc_胚胎移植=0.94981 auc_蛋白质的合成=0.94757 auc_血糖平衡的调节=0.93422 auc_走进细胞=0.94735 auc_近代史=0.97691 auc_选官、用官制度的变化=0.97737 auc_遗传与进化=0.88923 auc_遗传的分子基础=0.98616 auc_遗传的细胞基础=0.98716 auc_避孕的原理和方法=0.99215 auc_郡县制=0.99385 auc_高中=0.00000 auc_高尔基体的结构和功能=0.97581 [step/sec: 1.35]\u001b[0m\n",
      "\u001b[32m[2020-03-01 21:18:56,344] [    INFO] - Evaluation on dev dataset start\u001b[0m\n",
      "\u001b[34m[2020-03-01 21:19:54,768] [    EVAL] - [dev dataset evaluation result] loss=1.37267 auc=0.93268 auc_“重农抑商”政策=0.99276 auc_不完全显性=0.93009 auc_与细胞分裂有关的细胞器=0.97206 auc_中央官制——三公九卿制=0.99540 auc_中心体的结构和功能=0.97725 auc_人体免疫系统在维持稳态中的作用=0.97997 auc_人体水盐平衡调节=0.93885 auc_人体的体温调节=0.92790 auc_人口与城市=0.97460 auc_人口增长与人口问题=0.95477 auc_人口迁移与人口流动=0.95981 auc_人工授精、试管婴儿等生殖技术=0.99303 auc_伴性遗传=0.92793 auc_体液免疫的概念和过程=0.97894 auc_免疫系统的功能=0.98156 auc_免疫系统的组成=0.97983 auc_公民道德与伦理常识=0.99554 auc_兴奋在神经元之间的传递=0.94571 auc_兴奋在神经纤维上的传导=0.93840 auc_内环境的稳态=0.98089 auc_内质网的结构和功能=0.97171 auc_农业区位因素=0.96111 auc_减数分裂与有丝分裂的比较=0.98208 auc_减数分裂的概念=0.96871 auc_分子与细胞=0.96848 auc_劳动就业与守法经营=0.98367 auc_历史=0.99804 auc_古代史=0.99100 auc_器官移植=0.95377 auc_地球与地图=0.35997 auc_地球所处的宇宙环境=0.96645 auc_地球的内部圈层结构及特点=0.98279 auc_地球的外部圈层结构及特点=0.97208 auc_地球运动的地理意义=0.98703 auc_地球运动的基本形式=0.94973 auc_地理=0.99830 auc_垄断组织的出现=0.97693 auc_培养基与无菌技术=0.96585 auc_基因工程的原理及技术=0.96673 auc_基因工程的概念=0.96354 auc_基因的分离规律的实质及应用=0.94616 auc_基因的自由组合规律的实质及应用=0.95791 auc_复等位基因=0.96672 auc_夏商两代的政治制度=0.99461 auc_太阳对地球的影响=0.97497 auc_宇宙中的地球=0.99735 auc_工业区位因素=0.96344 auc_拉马克的进化学说=0.80928 auc_政治=0.99777 auc_文艺的春天=0.97432 auc_核糖体的结构和功能=0.97700 auc_海峡两岸关系的发展=0.96380 auc_液泡的结构和功能=0.97607 auc_清末民主革命风潮=0.97076 auc_溶酶体的结构和功能=0.97577 auc_激素调节=0.90263 auc_现代史=0.97208 auc_现代生物技术专题=0.93274 auc_生产活动与地域联系=0.98322 auc_生命活动离不开细胞=0.91380 auc_生态系统的营养结构=0.88644 auc_生活中的法律常识=0.51432 auc_生物=0.99951 auc_生物工程技术=0.96068 auc_生物性污染=0.99213 auc_生物技术在其他方面的应用=0.97609 auc_生物技术实践=0.95180 auc_生物科学与社会=0.96203 auc_皇帝制度=0.99456 auc_社会主义市场经济的伦理要求=0.99577 auc_社会主义是中国人民的历史性选择=0.98682 auc_神经调节和体液调节的比较=0.94447 auc_科学社会主义常识=0.97984 auc_稳态与环境=0.98530 auc_第三产业的兴起和“新经济”的出现=0.98101 auc_组成细胞的化合物=0.96209 auc_组成细胞的化学元素=0.96109 auc_细胞大小与物质运输的关系=0.85068 auc_细胞有丝分裂不同时期的特点=0.92565 auc_细胞的多样性和统一性=0.96376 auc_经济学常识=0.00000 auc_群落的结构=0.89598 auc_胚胎移植=0.95680 auc_蛋白质的合成=0.95131 auc_血糖平衡的调节=0.94172 auc_走进细胞=0.94821 auc_近代史=0.97913 auc_选官、用官制度的变化=0.97966 auc_遗传与进化=0.89646 auc_遗传的分子基础=0.98704 auc_遗传的细胞基础=0.98816 auc_避孕的原理和方法=0.99263 auc_郡县制=0.99397 auc_高中=0.00000 auc_高尔基体的结构和功能=0.97613 [step/sec: 4.85]\u001b[0m\n",
      "\u001b[34m[2020-03-01 21:19:54,769] [    EVAL] - best model saved to ckpt_20200301210426/best_model [best auc=0.93268]\u001b[0m\n"
     ]
    }
   ],
   "source": [
    "# Finetune and evaluate by PaddleHub's API\n",
    "# will finish training, evaluation, testing, save model automatically\n",
    "multi_label_cls_task.finetune_and_eval()"
   ]
  },
  {
   "cell_type": "markdown",
   "metadata": {
    "collapsed": false
   },
   "source": [
    "# 预测"
   ]
  },
  {
   "cell_type": "code",
   "execution_count": null,
   "metadata": {
    "collapsed": false
   },
   "outputs": [],
   "source": [
    "import numpy as np\r\n",
    "\r\n",
    "# 预测数据\r\n",
    "data = [[d.text_a, d.text_b] for d in dataset.get_test_examples()]\r\n",
    "# 预测标签\r\n",
    "test_label = np.array([d.label for d in dataset.get_test_examples()])\r\n",
    "# 预测\r\n",
    "run_states = multi_label_cls_task.predict(data)"
   ]
  },
  {
   "cell_type": "code",
   "execution_count": null,
   "metadata": {
    "collapsed": false
   },
   "outputs": [],
   "source": [
    "def inverse_predict_array(batch_result):\n",
    "    return np.argmax(batch_result, axis=2).T"
   ]
  },
  {
   "cell_type": "code",
   "execution_count": null,
   "metadata": {
    "collapsed": false
   },
   "outputs": [],
   "source": [
    "results = [run_state.run_results for run_state in run_states]\n",
    "predict_label=np.concatenate([inverse_predict_array(batch_result) for batch_result in results])"
   ]
  },
  {
   "cell_type": "code",
   "execution_count": null,
   "metadata": {
    "collapsed": false
   },
   "outputs": [],
   "source": [
    "from sklearn.metrics import f1_score"
   ]
  },
  {
   "cell_type": "code",
   "execution_count": null,
   "metadata": {
    "collapsed": false
   },
   "outputs": [],
   "source": [
    "print('f1 micro:{}'.format(f1_score(test_label,predict_label,average='micro')))\n",
    "print('f1 samples:{}'.format(f1_score(test_label,predict_label,average='samples')))\n",
    "print('f1 macro:{}'.format(f1_score(test_label,predict_label,average='macro')))"
   ]
  },
  {
   "cell_type": "code",
   "execution_count": null,
   "metadata": {
    "collapsed": false
   },
   "outputs": [],
   "source": [
    "mlb.inverse_transform(predict_label)[2:5]"
   ]
  },
  {
   "cell_type": "code",
   "execution_count": null,
   "metadata": {
    "collapsed": false
   },
   "outputs": [],
   "source": [
    "mlb.inverse_transform(test_label)[2:5]"
   ]
  },
  {
   "cell_type": "markdown",
   "metadata": {
    "collapsed": false
   },
   "source": [
    "## PART II. PaddleHub一键加载ERNIE\n",
    "\n",
    "\n",
    "<p align=\"center\">\n",
    "<img src=\"https://bj.bcebos.com/paddlehub/paddlehub-img/ernie_network_1.png\" hspace='10'/> <br />\n",
    "</p>\n",
    "\n",
    "\n",
    "<p align=\"center\">\n",
    "<img src=\"https://bj.bcebos.com/paddlehub/paddlehub-img/ernie_network_2.png\" hspace='10'/> <br />\n",
    "</p>"
   ]
  },
  {
   "cell_type": "code",
   "execution_count": null,
   "metadata": {
    "collapsed": false
   },
   "outputs": [],
   "source": [
    "import paddlehub as hub\n",
    "module = hub.Module(name=\"ernie\")"
   ]
  },
  {
   "cell_type": "markdown",
   "metadata": {
    "collapsed": false
   },
   "source": [
    "如果想尝试其他语义模型（如ernie_tiny, R等），只需要更换Module中的`name`参数即可.\n",
    "\n",
    "   模型名                           | PaddleHub Module\n",
    "---------------------------------- | :------:\n",
    "ERNIE, Chinese                     | `hub.Module(name='ernie')`\n",
    "ERNIE 2.0 Tiny, Chinese            | `hub.Module(name='ernie_tiny')`\n",
    "ERNIE 2.0 Base, English            | `hub.Module(name='ernie_v2_eng_base')`\n",
    "ERNIE 2.0 Large, English           | `hub.Module(name='ernie_v2_eng_large')`\n",
    "RoBERTa-Large, Chinese             | `hub.Module(name='roberta_wwm_ext_chinese_L-24_H-1024_A-16')`\n",
    "RoBERTa-Base, Chinese              | `hub.Module(name='roberta_wwm_ext_chinese_L-12_H-768_A-12')`\n",
    "BERT-Base, Uncased                 | `hub.Module(name='bert_uncased_L-12_H-768_A-12')`\n",
    "BERT-Large, Uncased                | `hub.Module(name='bert_uncased_L-24_H-1024_A-16')`\n",
    "BERT-Base, Cased                   | `hub.Module(name='bert_cased_L-12_H-768_A-12')`\n",
    "BERT-Large, Cased                  | `hub.Module(name='bert_cased_L-24_H-1024_A-16')`\n",
    "BERT-Base, Multilingual Cased      | `hub.Module(nane='bert_multi_cased_L-12_H-768_A-12')`\n",
    "BERT-Base, Chinese                 | `hub.Module(name='bert_chinese_L-12_H-768_A-12')`\n"
   ]
  },
  {
   "cell_type": "markdown",
   "metadata": {
    "collapsed": false
   },
   "source": [
    "## PART III. 构建Reader\n",
    "\n",
    "接着生成一个文本分类的reader，reader负责将dataset的数据进行预处理，首先对文本进行切词，接着以特定格式组织并输入给模型进行训练。\n",
    "\n",
    "`ClassifyReader`的参数有以下三个：\n",
    "* `dataset`: 传入PaddleHub Dataset;\n",
    "* `vocab_path`: 传入ERNIE/BERT模型对应的词表文件路径;\n",
    "* `max_seq_len`: ERNIE模型的最大序列长度，若序列长度不足，会通过padding方式补到max_seq_len, 若序列长度大于该值，则会以截断方式让序列长度为max_seq_len;\n",
    "* `sp_model_path`: 传入 ERNIE tiny的subword切分模型路径;\n",
    "* `word_dict_path`: 传入 ERNIE tiny的词语切分模型路径;\n",
    "\n",
    "<center> <img width=\"600px\" src=\"https://ai-studio-static-online.cdn.bcebos.com/c1a201c80acc46708cedc1c73614b0531b716c0299474859bf423ce0a5160170\" /> </center>"
   ]
  },
  {
   "cell_type": "code",
   "execution_count": null,
   "metadata": {
    "collapsed": false
   },
   "outputs": [],
   "source": [
    "reader = hub.reader.ClassifyReader(\r\n",
    "    dataset=dataset,\r\n",
    "    vocab_path=module.get_vocab_path(),\r\n",
    "    max_seq_len=128)"
   ]
  },
  {
   "cell_type": "markdown",
   "metadata": {
    "collapsed": false
   },
   "source": [
    "## PART IV、选择Fine-Tune优化策略\n",
    "适用于ERNIE/BERT这类Transformer模型的迁移优化策略为`AdamWeightDecayStrategy`。详情请查看[Strategy](https://github.com/PaddlePaddle/PaddleHub/wiki/PaddleHub-API:-Strategy)。\n",
    "\n",
    "`AdamWeightDecayStrategy`的参数：\n",
    "> * `learning_rate`: 最大学习率\n",
    "> * `lr_scheduler`: 有`linear_decay`和`noam_decay`两种衰减策略可选\n",
    "> * `warmup_proprotion`: 训练预热的比例，若设置为0.1, 则会在前10%的训练step中学习率逐步提升到`learning_rate`\n",
    "> * `weight_decay`: 权重衰减，类似模型正则项策略，避免模型overfitting\n",
    "> * `optimizer_name`: 优化器名称\n",
    "\n",
    "\n",
    "<center> <img width=\"900px\" src=\"https://ai-studio-static-online.cdn.bcebos.com/e7d3b9df642d443a8bdab1af0f3de93c0fa111ac5d3c4c9c88b2aa12f92dba64\" /> </center>\n"
   ]
  },
  {
   "cell_type": "code",
   "execution_count": null,
   "metadata": {
    "collapsed": false
   },
   "outputs": [],
   "source": [
    "strategy = hub.AdamWeightDecayStrategy(\r\n",
    "    weight_decay=0.01,\r\n",
    "    warmup_proportion=0.1,\r\n",
    "    learning_rate=5e-5,\r\n",
    "    lr_scheduler=\"linear_decay\",\r\n",
    "    optimizer_name=\"adam\")"
   ]
  },
  {
   "cell_type": "markdown",
   "metadata": {
    "collapsed": false
   },
   "source": [
    "## PART V. 选择运行配置\n",
    "\n",
    "在进行Finetune前，我们可以设置一些运行时的配置，例如如下代码中的配置，表示：\n",
    "\n",
    "> `use_cuda`：设置为False表示使用CPU进行训练。如果您本机支持GPU，且安装的是GPU版本的PaddlePaddle，我们建议您将这个选项设置为True；\n",
    ">\n",
    "> `num_epoch`：Finetune时遍历训练集的次数，；\n",
    ">\n",
    "> `batch_size`：每次训练的时候，给模型输入的每批数据大小为16，模型训练时能够并行处理批数据，因此batch_size越大，训练的效率越高，但是同时带来了内存的负荷，过大的batch_size可能导致内存不足而无法训练，因此选择一个合适的batch_size是很重要的一步；\n",
    ">\n",
    "> `log_interval`：每隔10 step打印一次训练日志；\n",
    ">\n",
    "> `eval_interval`：每隔50 step在验证集上进行一次性能评估；\n",
    ">\n",
    "> `checkpoint_dir`：训练的参数和数据的保存目录；\n",
    ">\n",
    "> `strategy`：Fine-tune策略；\n",
    ">\n",
    "> `use_data_parallel`: 设置为False表示单卡训练；设置为True表示多卡训练\n",
    ">\n",
    "> `use_pyreader`: 设置为False表示不使用py_reader读取数据；设置为True表示使用py_reader读取数据\n",
    "\n",
    "更多运行配置，请查看[RunConfig](https://github.com/PaddlePaddle/PaddleHub/wiki/PaddleHub-API:-RunConfig)"
   ]
  },
  {
   "cell_type": "code",
   "execution_count": null,
   "metadata": {
    "collapsed": false
   },
   "outputs": [],
   "source": [
    "config = hub.RunConfig(\r\n",
    "    use_cuda=True,\r\n",
    "    num_epoch=1,\r\n",
    "    checkpoint_dir=\"hub_ernie_text_cls_demo\",\r\n",
    "    batch_size=32,\r\n",
    "    log_interval=10,\r\n",
    "    eval_interval=50,\r\n",
    "    use_pyreader=False,\r\n",
    "    use_data_parallel=False,\r\n",
    "    strategy=strategy)"
   ]
  },
  {
   "cell_type": "markdown",
   "metadata": {
    "collapsed": false
   },
   "source": [
    "## PART VI. 组建Finetune Task\n",
    "\n",
    "有了合适的预训练模型和准备要迁移的数据集后，我们开始组建一个Task。\n",
    "\n",
    "1. 获取module的上下文环境，包括输入和输出的变量，以及Paddle Program；\n",
    "2. 从输出变量中找到用于情感分类的文本特征pooled_output；\n",
    "3. 在pooled_output后面接入一个全连接层，生成Task；\n",
    "\n",
    "`TextClassifierTask`的参数有：\n",
    "\n",
    "> `data_reader`：读取数据的reader；\n",
    ">\n",
    "> `config`: 运行配置；\n",
    ">\n",
    "> `feature`：从预训练提取的特征；\n",
    ">\n",
    "> `feed_list`：program需要输入的变量；\n",
    ">\n",
    "> `num_classes`：数据集的类别数量；\n",
    "> \n",
    "> `metric_choic`：任务评估指标，默认为\"acc\"。metrics_choices支持训练过程中同时评估多个指标，作为最佳模型的判断依据，例如[\"matthews\", \"acc\"]，\"matthews\"将作为主指标，为最佳模型的判断依据；\n",
    "\n",
    "\n",
    "<center> <img width=\"600px\" src=\"https://user-images.githubusercontent.com/48793257/69508060-97c0c180-0f6f-11ea-9886-00300da42683.png\" /> </center>\n"
   ]
  },
  {
   "cell_type": "code",
   "execution_count": null,
   "metadata": {
    "collapsed": false
   },
   "outputs": [],
   "source": [
    "inputs, outputs, program = module.context(\n",
    "    trainable=True, max_seq_len=128)\n",
    "\n",
    "# Use \"pooled_output\" for classification tasks on an entire sentence.\n",
    "pooled_output = outputs[\"pooled_output\"]\n",
    "\n",
    "feed_list = [\n",
    "    inputs[\"input_ids\"].name,\n",
    "    inputs[\"position_ids\"].name,\n",
    "    inputs[\"segment_ids\"].name,\n",
    "    inputs[\"input_mask\"].name,\n",
    "]\n",
    "\n",
    "cls_task = hub.TextClassifierTask(\n",
    "        data_reader=reader,\n",
    "        feature=pooled_output,\n",
    "        feed_list=feed_list,\n",
    "        num_classes=dataset.num_labels,\n",
    "        config=config,\n",
    "        metrics_choices=[\"acc\"])"
   ]
  },
  {
   "cell_type": "markdown",
   "metadata": {
    "collapsed": false
   },
   "source": [
    "**NOTE：** Reader参数max_seq_len、moduel的context接口参数max_seq_len三者应该保持一致，最大序列长度`max_seq_len`是可以调整的参数，建议值128，根据任务文本长度不同可以调整该值，但最大不超过512。"
   ]
  },
  {
   "cell_type": "markdown",
   "metadata": {
    "collapsed": false
   },
   "source": [
    "### Part VII. 开始Finetune\n",
    "我们选择finetune_and_eval接口来进行模型训练，这个接口在finetune的过程中，会周期性的进行模型效果的评估，以便我们了解整个训练过程的性能变化。"
   ]
  },
  {
   "cell_type": "code",
   "execution_count": null,
   "metadata": {
    "collapsed": false
   },
   "outputs": [],
   "source": [
    "run_states = cls_task.finetune_and_eval()"
   ]
  },
  {
   "cell_type": "markdown",
   "metadata": {
    "collapsed": false
   },
   "source": [
    "## PART VIII. 使用模型进行预测\n",
    "\n",
    "当Finetune完成后，我们使用模型来进行预测，整个预测流程大致可以分为以下几步：\n",
    "1. 构建网络\n",
    "2. 生成预测数据的Reader\n",
    "3. 切换到预测的Program\n",
    "4. 加载预训练好的参数\n",
    "5. 运行Program进行预测\n",
    "\n",
    "<center> <img width=\"1024px\" src=\"https://ai-studio-static-online.cdn.bcebos.com/320a7c13fcb044d3b45cb4720012bd26dbc10c283aa747dab43f72d1bad18643\" /> </center>\n",
    "\n",
    "> 预测代码如下："
   ]
  },
  {
   "cell_type": "code",
   "execution_count": null,
   "metadata": {
    "collapsed": false
   },
   "outputs": [],
   "source": [
    "import numpy as np\r\n",
    "    \r\n",
    "inv_label_map = {val: key for key, val in reader.label_map.items()}\r\n",
    "\r\n",
    "# Data to be prdicted\r\n",
    "data = [[d.text_a, d.text_b] for d in dataset.get_test_examples()[:3]]\r\n",
    "\r\n",
    "index = 0\r\n",
    "run_states = cls_task.predict(data=data)\r\n",
    "\r\n",
    "results = [run_state.run_results for run_state in run_states]\r\n",
    "for batch_result in results:\r\n",
    "    # get predict index\r\n",
    "    batch_result = np.argmax(batch_result, axis=2)[0]\r\n",
    "    for result in batch_result:\r\n",
    "        print(\"%s\\tpredict=%s\" % (data[index][0], inv_label_map[result]))\r\n",
    "        index += 1"
   ]
  },
  {
   "cell_type": "markdown",
   "metadata": {
    "collapsed": false
   },
   "source": [
    "**总的来说，PaddleHub完成迁移学习过程只需下图所展示的6步即可完成。**\n",
    "\n",
    "\n",
    "<center> <img width=\"1024px\" src=\"https://ai-studio-static-online.cdn.bcebos.com/34f2e41444bd4dd38fc9f318a551538f5cb5157075cb4c99a7f7f56306fbd37e\" /> </center>"
   ]
  }
 ],
 "metadata": {
  "kernelspec": {
   "display_name": "PaddlePaddle 1.5.1 (Python 3.5)",
   "language": "python",
   "name": "py35-paddle1.2.0"
  },
  "language_info": {
   "codemirror_mode": {
    "name": "ipython",
    "version": 3
   },
   "file_extension": ".py",
   "mimetype": "text/x-python",
   "name": "python",
   "nbconvert_exporter": "python",
   "pygments_lexer": "ipython3",
   "version": "3.7.4"
  }
 },
 "nbformat": 4,
 "nbformat_minor": 1
}
